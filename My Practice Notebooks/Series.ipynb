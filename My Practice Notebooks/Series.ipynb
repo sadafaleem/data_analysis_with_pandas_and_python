{
 "cells": [
  {
   "cell_type": "code",
   "execution_count": 13,
   "metadata": {},
   "outputs": [],
   "source": [
    "import pandas as pd"
   ]
  },
  {
   "cell_type": "code",
   "execution_count": null,
   "metadata": {},
   "outputs": [],
   "source": [
    "#Series represents a one dimensional labeled array or a single column of data"
   ]
  },
  {
   "cell_type": "markdown",
   "metadata": {},
   "source": [
    "### Create A Series Object from A Python List "
   ]
  },
  {
   "cell_type": "code",
   "execution_count": null,
   "metadata": {},
   "outputs": [],
   "source": [
    "#Series stores data in one column\n",
    "#Series can have any data type, it should be consistent meaning same data type\n",
    "#To create series object, we need to call a series method in our pandas library\n",
    "#It is called a constructor method\n",
    "#This method also needs an input\n",
    "#we can feed an existing python data type like a list"
   ]
  },
  {
   "cell_type": "code",
   "execution_count": 2,
   "metadata": {},
   "outputs": [
    {
     "data": {
      "text/plain": [
       "0     Chocolate\n",
       "1       Vanilla\n",
       "2    Strawberry\n",
       "3    Rum Raisin\n",
       "dtype: object"
      ]
     },
     "execution_count": 2,
     "metadata": {},
     "output_type": "execute_result"
    }
   ],
   "source": [
    "ice_cream=[\"Chocolate\",\"Vanilla\",\"Strawberry\",\"Rum Raisin\"]\n",
    "pd.Series(ice_cream)\n",
    "#method always needs paranthesis\n",
    "#dtype means data type\n",
    "#object is internal pandas language for string\n",
    "#here we have string values, hence object\n",
    "#on side there are index\n",
    "#Adv of pandas series over python list is index labels can be of any data type\n",
    "#Index can be apart from numeric, here it is showing default"
   ]
  },
  {
   "cell_type": "code",
   "execution_count": 3,
   "metadata": {},
   "outputs": [
    {
     "data": {
      "text/plain": [
       "0     4\n",
       "1     8\n",
       "2    15\n",
       "3    16\n",
       "4    23\n",
       "5    42\n",
       "dtype: int64"
      ]
     },
     "execution_count": 3,
     "metadata": {},
     "output_type": "execute_result"
    }
   ],
   "source": [
    "lottery=[4,8,15,16,23,42]\n",
    "pd.Series(lottery)\n",
    "#data type is integer value"
   ]
  },
  {
   "cell_type": "code",
   "execution_count": 4,
   "metadata": {},
   "outputs": [
    {
     "data": {
      "text/plain": [
       "0     True\n",
       "1    False\n",
       "2    False\n",
       "3    False\n",
       "4     True\n",
       "dtype: bool"
      ]
     },
     "execution_count": 4,
     "metadata": {},
     "output_type": "execute_result"
    }
   ],
   "source": [
    "registrations=[True,False,False,False,True]\n",
    "pd.Series(registrations)\n",
    "#data type is boolean"
   ]
  },
  {
   "cell_type": "markdown",
   "metadata": {},
   "source": [
    "### Create A Series Object from a Dictionary"
   ]
  },
  {
   "cell_type": "code",
   "execution_count": 5,
   "metadata": {},
   "outputs": [
    {
     "data": {
      "text/plain": [
       "Aardvark            an animal\n",
       "Banana      A delicious fruit\n",
       "Cyan                  A color\n",
       "dtype: object"
      ]
     },
     "execution_count": 5,
     "metadata": {},
     "output_type": "execute_result"
    }
   ],
   "source": [
    "webster={\"Aardvark\":\"an animal\",\n",
    "         \"Banana\":\"A delicious fruit\",\n",
    "         \"Cyan\":\"A color\"}\n",
    "#keys and values here are both strings\n",
    "pd.Series(webster)\n",
    "#pandas has taken keys from our dictionary and used them as index within our series\n",
    "#data type is object as strings\n",
    "#Series object here doesnt have numeric index\n",
    "# Series advantage over python\n",
    "# Series adv over a dictionary is that index labels in a series doesnot have to be unique"
   ]
  },
  {
   "cell_type": "markdown",
   "metadata": {},
   "source": [
    "### Coding Exercise One "
   ]
  },
  {
   "cell_type": "code",
   "execution_count": 11,
   "metadata": {},
   "outputs": [],
   "source": [
    "###############################################################\n",
    "# DO NOT DELETE THIS CODE. IT IS NEEDED FOR THE TESTS TO RUN. #\n",
    "from unittest.mock import MagicMock                           #\n",
    "import pandas as pd                                           #\n",
    "pd.Series = MagicMock()                                       #\n",
    "###############################################################\n",
    "\n",
    "# Assume the pandas library has already been imported and assigned\n",
    "# the alias \"pd\".\n",
    "\n",
    "# Create a list with 4 countries - United States, France, Germany, Italy\n",
    "countries=[\"United States\",\"France\",\"Germany\",\"Italy\"]\n",
    "# Create a new Series by passing in the list of countries\n",
    "pd.Series(countries)\n",
    "# Assign the Series to a \"countries\" variable\n",
    "countries=pd.Series(countries)\n",
    "\n",
    "\n",
    "# Create a list with 3 colors - red, green, blue\n",
    "colors=[\"red\",\"green\",\"blue\"]\n",
    "# Create a new Series by passing in the list of colors\n",
    "pd.Series(colors)\n",
    "# Assign the Series to a \"colors\" variable\n",
    "colors=pd.Series(colors)\n",
    "# Given the \"recipe\" dictionary below,\n",
    "\n",
    "# create a new Series by passing in the dictionary as the data source\n",
    "# Assign the resulting Series to a \"series_dict\" variable\n",
    "recipe = {\n",
    "  \"Flour\": True,\n",
    "  \"Sugar\": True,\n",
    "  \"Salt\": False\n",
    "}\n",
    "pd.Series(recipe)\n",
    "series_dict=pd.Series(recipe)"
   ]
  },
  {
   "cell_type": "markdown",
   "metadata": {},
   "source": [
    "### Coding Exercise Two "
   ]
  },
  {
   "cell_type": "code",
   "execution_count": null,
   "metadata": {},
   "outputs": [],
   "source": [
    "###############################################################\n",
    "# DO NOT DELETE THIS CODE. IT IS NEEDED FOR THE TESTS TO RUN. #\n",
    "from unittest.mock import MagicMock                           #\n",
    "import pandas as pd                                           #\n",
    "pd.read_csv = MagicMock(spec = pd.read_csv)                   #\n",
    "###############################################################\n",
    "\n",
    "# Assume the pandas library has already been imported and assigned the alias \"pd\".\n",
    "\n",
    "# Let's say we have a foods.csv CSV file with 3 columns: Item Number, Menu Item, Price\n",
    "# The raw CSV data looks like this:\n",
    "# Item Number,Menu Item,Price\n",
    "# 1,Big Mac,4.99\n",
    "# 2,McNuggets,7.99\n",
    "# 3,Quarter Pounder,3.99\n",
    "\n",
    "#\n",
    "# Import the CSV file into a Pandas Series object\n",
    "pd.read_csv(\"foods.csv\")\n",
    "# The Series should have the standard Pandas numeric index\n",
    "# The Series values should be the string values from the \"Menu Item\" column\n",
    "pd.read_csv(\"foods.csv\",usecols=[\"Menu Item\"],squeeze=True)\n",
    "# Assign the Series object to a \"foods\" variable\n",
    "foods=pd.read_csv(\"foods.csv\",usecols=[\"Menu Item\"],squeeze=True)"
   ]
  },
  {
   "cell_type": "markdown",
   "metadata": {},
   "source": [
    "### Coding Exercise Three"
   ]
  },
  {
   "cell_type": "code",
   "execution_count": null,
   "metadata": {},
   "outputs": [],
   "source": [
    "###############################################################\n",
    "# DO NOT DELETE THIS CODE. IT IS NEEDED FOR THE TESTS TO RUN. #\n",
    "from ignore import pd                                         #\n",
    "###############################################################\n",
    "\n",
    "# Assume pandas ha salready been imported and assigned to the alias \"pd\".\n",
    "\n",
    "flavors = [\"Spicy Sweet Chili\", \"Cool Ranch\", \"Nacho Cheese\", \"Salsa Verde\"]\n",
    "\n",
    "# Create a new Series object, passing in the flavors list defined above\n",
    "pd.Series(flavors)\n",
    "# Assign it to a 'doritos' variable. The resulting Series should look like this:\n",
    "#\n",
    "#\n",
    "#   0    Spicy Sweet Chili\n",
    "#   1           Cool Ranch\n",
    "#   2         Nacho Cheese\n",
    "#   3          Salsa Verde\n",
    "#   dtype: object\n",
    "\n",
    "doritos=pd.Series(flavors)\n",
    "\n",
    "\n",
    "# Below, sort the doritos Series in descending order.\n",
    "# Make sure the operation is permanent.\n",
    "# The Series should like this afterwards:\n",
    "#\n",
    "#   0    Spicy Sweet Chili\n",
    "#   3          Salsa Verde\n",
    "#   2         Nacho Cheese\n",
    "#   1           Cool Ranch\n",
    "#   dtype: object\n",
    "\n",
    "doritos.sort_values(ascending=False,inplace=True)\n",
    "\n",
    "\n",
    "\n",
    "# Below, sort the doritos Series index in descending order.\n",
    "# Make sure the operation is permanent.\n",
    "# The Series should like this afterwards:\n",
    "#\n",
    "#   3          Salsa Verde\n",
    "#   2         Nacho Cheese\n",
    "#   1           Cool Ranch\n",
    "#   0    Spicy Sweet Chili\n",
    "#   dtype: object\n",
    "doritos.sort_index(ascending=False,inplace=True)"
   ]
  },
  {
   "cell_type": "markdown",
   "metadata": {},
   "source": [
    "### Coding Exercise Four"
   ]
  },
  {
   "cell_type": "code",
   "execution_count": null,
   "metadata": {},
   "outputs": [],
   "source": [
    "###############################################################\n",
    "# DO NOT DELETE THIS CODE. IT IS NEEDED FOR THE TESTS TO RUN. #\n",
    "from ignore import pd                                         #\n",
    "###############################################################\n",
    "\n",
    "# Let's say I have a dictionary that maps guitar types\n",
    "# to their colors\n",
    "guitars_dict = {\n",
    "    \"Fender Telecaster\": \"Baby Blue\",\n",
    "    \"Gibson Les Paul\": \"Sunburst\",\n",
    "    \"ESP Eclipse\": \"Dark Green\"\n",
    "}\n",
    "\n",
    "# Create a new Series object, passing in the guitars_dict dictionary as the data source.\n",
    "# Assign the resulting Series to a \"guitars\" variable.\n",
    "pd.Series(guitars_dict)\n",
    "guitars=pd.Series(guitars_dict)\n",
    "# Access the value for the index position of 0 within the \"guitars\" Series.\n",
    "# Assign the value to a \"fender_color\" variable.\n",
    "guitars[0]\n",
    "fender_color=guitars[0]\n",
    "# Access the value for the index label of \"Gibson Les Paul\" in the \"guitars\" Series.\n",
    "# Assign the value to a \"gibson_color\" variable.\n",
    "guitars[\"Gibson Les Paul\"]\n",
    "gibson_color=guitars[\"Gibson Les Paul\"]\n",
    "\n",
    "# Access the value for the index label of \"ESP Eclipse\" in the \"guitars\" Series.\n",
    "# Assign the value to a \"esp_color\" variable.\n",
    "guitars[\"ESP Eclipse\"]\n",
    "esp_color=guitars[\"ESP Eclipse\"]"
   ]
  },
  {
   "cell_type": "code",
   "execution_count": null,
   "metadata": {},
   "outputs": [],
   "source": []
  },
  {
   "cell_type": "code",
   "execution_count": null,
   "metadata": {},
   "outputs": [],
   "source": []
  },
  {
   "cell_type": "code",
   "execution_count": null,
   "metadata": {},
   "outputs": [],
   "source": []
  },
  {
   "cell_type": "code",
   "execution_count": null,
   "metadata": {},
   "outputs": [],
   "source": []
  },
  {
   "cell_type": "code",
   "execution_count": null,
   "metadata": {},
   "outputs": [],
   "source": []
  },
  {
   "cell_type": "code",
   "execution_count": null,
   "metadata": {},
   "outputs": [],
   "source": []
  },
  {
   "cell_type": "code",
   "execution_count": null,
   "metadata": {},
   "outputs": [],
   "source": []
  }
 ],
 "metadata": {
  "kernelspec": {
   "display_name": "Python 3",
   "language": "python",
   "name": "python3"
  },
  "language_info": {
   "codemirror_mode": {
    "name": "ipython",
    "version": 3
   },
   "file_extension": ".py",
   "mimetype": "text/x-python",
   "name": "python",
   "nbconvert_exporter": "python",
   "pygments_lexer": "ipython3",
   "version": "3.8.5"
  }
 },
 "nbformat": 4,
 "nbformat_minor": 4
}
