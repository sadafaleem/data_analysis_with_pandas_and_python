{
 "cells": [
  {
   "cell_type": "code",
   "execution_count": 2,
   "metadata": {},
   "outputs": [],
   "source": [
    "import pandas as pd\n",
    "import datetime as dt"
   ]
  },
  {
   "cell_type": "code",
   "execution_count": 3,
   "metadata": {},
   "outputs": [],
   "source": [
    "#we need date and times to track over times\n",
    "#we need to calculate duration between date and time\n",
    "#or calculate a period of week\n",
    "#native date and time is available in pandas and python"
   ]
  },
  {
   "cell_type": "code",
   "execution_count": 5,
   "metadata": {},
   "outputs": [],
   "source": [
    "#date time is not pandas external library\n",
    "#python has a standard library \n",
    "#a lot of functionalities are bundeled in python\n",
    "# these are not imported directly so we import it\n",
    "#pandas is external library, it is not part of pythons langauage while date time is"
   ]
  },
  {
   "cell_type": "markdown",
   "metadata": {},
   "source": [
    "### Review of Python's datetime Module"
   ]
  },
  {
   "cell_type": "markdown",
   "metadata": {},
   "source": [
    "135. Review of Python's datetime Module"
   ]
  },
  {
   "cell_type": "code",
   "execution_count": 6,
   "metadata": {},
   "outputs": [],
   "source": [
    "#datetime can be a little confusing b/c we have datetime library or module and within that we have date time method\n",
    "#datetime.datetime can be confusing b/c it can be a calling datetime method on datetime object\n",
    "#date object stores a date, a year, month and a date\n",
    "#datetime also specifies hour, minute and seconds along with date"
   ]
  },
  {
   "cell_type": "code",
   "execution_count": 13,
   "metadata": {},
   "outputs": [
    {
     "data": {
      "text/plain": [
       "datetime.date(2010, 1, 20)"
      ]
     },
     "execution_count": 13,
     "metadata": {},
     "output_type": "execute_result"
    }
   ],
   "source": [
    "#we will use datetime module in dt\n",
    "dt.date(2010,1,20)\n",
    "#january 20, 2010, second argument is the month, last is the day\n",
    "#press tab after dt. to see list of available methods"
   ]
  },
  {
   "cell_type": "code",
   "execution_count": 14,
   "metadata": {},
   "outputs": [],
   "source": [
    "someday=dt.date(2010,1,20)"
   ]
  },
  {
   "cell_type": "code",
   "execution_count": 15,
   "metadata": {},
   "outputs": [
    {
     "data": {
      "text/plain": [
       "2010"
      ]
     },
     "execution_count": 15,
     "metadata": {},
     "output_type": "execute_result"
    }
   ],
   "source": [
    "someday.year\n",
    "#press tab after someday. to see available attributes"
   ]
  },
  {
   "cell_type": "code",
   "execution_count": 16,
   "metadata": {},
   "outputs": [
    {
     "data": {
      "text/plain": [
       "1"
      ]
     },
     "execution_count": 16,
     "metadata": {},
     "output_type": "execute_result"
    }
   ],
   "source": [
    "someday.month"
   ]
  },
  {
   "cell_type": "code",
   "execution_count": 17,
   "metadata": {},
   "outputs": [
    {
     "data": {
      "text/plain": [
       "20"
      ]
     },
     "execution_count": 17,
     "metadata": {},
     "output_type": "execute_result"
    }
   ],
   "source": [
    "someday.day"
   ]
  },
  {
   "cell_type": "code",
   "execution_count": 19,
   "metadata": {},
   "outputs": [
    {
     "data": {
      "text/plain": [
       "datetime.datetime(2010, 1, 20, 0, 0)"
      ]
     },
     "execution_count": 19,
     "metadata": {},
     "output_type": "execute_result"
    }
   ],
   "source": [
    "#lets create a datetime object\n",
    "dt.datetime(2010,1,20)\n",
    "#default time will be midnight if we dont provide it"
   ]
  },
  {
   "cell_type": "code",
   "execution_count": 21,
   "metadata": {},
   "outputs": [
    {
     "data": {
      "text/plain": [
       "datetime.datetime(2010, 1, 20, 8, 0)"
      ]
     },
     "execution_count": 21,
     "metadata": {},
     "output_type": "execute_result"
    }
   ],
   "source": [
    "dt.datetime(2010,1,20,8)\n",
    "#8 clock in the morning"
   ]
  },
  {
   "cell_type": "code",
   "execution_count": 22,
   "metadata": {},
   "outputs": [
    {
     "data": {
      "text/plain": [
       "datetime.datetime(2010, 1, 20, 8, 13)"
      ]
     },
     "execution_count": 22,
     "metadata": {},
     "output_type": "execute_result"
    }
   ],
   "source": [
    "dt.datetime(2010,1,20,8,13)\n",
    "# 8 o clock 13 min"
   ]
  },
  {
   "cell_type": "code",
   "execution_count": 23,
   "metadata": {},
   "outputs": [
    {
     "data": {
      "text/plain": [
       "datetime.datetime(2010, 1, 20, 8, 13, 57)"
      ]
     },
     "execution_count": 23,
     "metadata": {},
     "output_type": "execute_result"
    }
   ],
   "source": [
    "dt.datetime(2010,1,20,8,13,57)\n",
    "# 8 o clock 13 min 57 sec"
   ]
  },
  {
   "cell_type": "code",
   "execution_count": 24,
   "metadata": {},
   "outputs": [
    {
     "data": {
      "text/plain": [
       "datetime.datetime(2010, 1, 20, 17, 13, 57)"
      ]
     },
     "execution_count": 24,
     "metadata": {},
     "output_type": "execute_result"
    }
   ],
   "source": [
    "dt.datetime(2010,1,20,17,13,57)\n",
    "#in military time"
   ]
  },
  {
   "cell_type": "code",
   "execution_count": 25,
   "metadata": {},
   "outputs": [
    {
     "data": {
      "text/plain": [
       "'2010-01-20 17:13:57'"
      ]
     },
     "execution_count": 25,
     "metadata": {},
     "output_type": "execute_result"
    }
   ],
   "source": [
    "str(dt.datetime(2010,1,20,17,13,57)\n",
    ")"
   ]
  },
  {
   "cell_type": "code",
   "execution_count": 26,
   "metadata": {},
   "outputs": [
    {
     "data": {
      "text/plain": [
       "'2010-01-20'"
      ]
     },
     "execution_count": 26,
     "metadata": {},
     "output_type": "execute_result"
    }
   ],
   "source": [
    "str(someday)\n",
    "#to see it in more readable format"
   ]
  },
  {
   "cell_type": "code",
   "execution_count": 27,
   "metadata": {},
   "outputs": [
    {
     "data": {
      "text/plain": [
       "2010"
      ]
     },
     "execution_count": 27,
     "metadata": {},
     "output_type": "execute_result"
    }
   ],
   "source": [
    "sometime=dt.datetime(2010,1,20,17,13,57)\n",
    "sometime.year"
   ]
  },
  {
   "cell_type": "code",
   "execution_count": 28,
   "metadata": {},
   "outputs": [
    {
     "data": {
      "text/plain": [
       "1"
      ]
     },
     "execution_count": 28,
     "metadata": {},
     "output_type": "execute_result"
    }
   ],
   "source": [
    "sometime.month"
   ]
  },
  {
   "cell_type": "code",
   "execution_count": 29,
   "metadata": {},
   "outputs": [
    {
     "data": {
      "text/plain": [
       "20"
      ]
     },
     "execution_count": 29,
     "metadata": {},
     "output_type": "execute_result"
    }
   ],
   "source": [
    "sometime.day"
   ]
  },
  {
   "cell_type": "code",
   "execution_count": 30,
   "metadata": {},
   "outputs": [
    {
     "data": {
      "text/plain": [
       "17"
      ]
     },
     "execution_count": 30,
     "metadata": {},
     "output_type": "execute_result"
    }
   ],
   "source": [
    "sometime.hour"
   ]
  },
  {
   "cell_type": "code",
   "execution_count": 31,
   "metadata": {},
   "outputs": [
    {
     "data": {
      "text/plain": [
       "13"
      ]
     },
     "execution_count": 31,
     "metadata": {},
     "output_type": "execute_result"
    }
   ],
   "source": [
    "sometime.minute"
   ]
  },
  {
   "cell_type": "code",
   "execution_count": 32,
   "metadata": {},
   "outputs": [
    {
     "data": {
      "text/plain": [
       "57"
      ]
     },
     "execution_count": 32,
     "metadata": {},
     "output_type": "execute_result"
    }
   ],
   "source": [
    "sometime.second"
   ]
  },
  {
   "cell_type": "code",
   "execution_count": null,
   "metadata": {},
   "outputs": [],
   "source": [
    "#lets say you want revenue by month\n",
    "#we will next see how datetime exists in pandas"
   ]
  },
  {
   "cell_type": "markdown",
   "metadata": {},
   "source": [
    "### The pandas Timestamp Object"
   ]
  },
  {
   "cell_type": "markdown",
   "metadata": {},
   "source": [
    "136. The pandas Timestamp Object"
   ]
  },
  {
   "cell_type": "code",
   "execution_count": 33,
   "metadata": {},
   "outputs": [
    {
     "data": {
      "text/plain": [
       "Timestamp('2015-03-31 00:00:00')"
      ]
     },
     "execution_count": 33,
     "metadata": {},
     "output_type": "execute_result"
    }
   ],
   "source": [
    "#timestamp is panda's version of datetime\n",
    "#it can have date and time, it doesnt need time component\n",
    "#if user doesnt provide time, it will default to midnight\n",
    "pd.Timestamp(\"2015-03-31\")\n",
    "#it can accept a wide variety of inputs, strings and python's datetime objects"
   ]
  },
  {
   "cell_type": "code",
   "execution_count": 34,
   "metadata": {},
   "outputs": [
    {
     "data": {
      "text/plain": [
       "Timestamp('2015-03-31 00:00:00')"
      ]
     },
     "execution_count": 34,
     "metadata": {},
     "output_type": "execute_result"
    }
   ],
   "source": [
    "pd.Timestamp(\"2015/03/31\")"
   ]
  },
  {
   "cell_type": "code",
   "execution_count": 35,
   "metadata": {},
   "outputs": [
    {
     "data": {
      "text/plain": [
       "Timestamp('2013-04-01 00:00:00')"
      ]
     },
     "execution_count": 35,
     "metadata": {},
     "output_type": "execute_result"
    }
   ],
   "source": [
    "pd.Timestamp(\"2013,11,4\")"
   ]
  },
  {
   "cell_type": "code",
   "execution_count": 36,
   "metadata": {},
   "outputs": [
    {
     "data": {
      "text/plain": [
       "Timestamp('2015-01-01 00:00:00')"
      ]
     },
     "execution_count": 36,
     "metadata": {},
     "output_type": "execute_result"
    }
   ],
   "source": [
    "pd.Timestamp(\"1/1/2015\")"
   ]
  },
  {
   "cell_type": "code",
   "execution_count": 37,
   "metadata": {},
   "outputs": [
    {
     "data": {
      "text/plain": [
       "Timestamp('2015-12-19 00:00:00')"
      ]
     },
     "execution_count": 37,
     "metadata": {},
     "output_type": "execute_result"
    }
   ],
   "source": [
    "pd.Timestamp(\"19/12/2015\")\n",
    "#panda figures this is dec 19"
   ]
  },
  {
   "cell_type": "code",
   "execution_count": 38,
   "metadata": {},
   "outputs": [
    {
     "data": {
      "text/plain": [
       "Timestamp('2015-12-19 00:00:00')"
      ]
     },
     "execution_count": 38,
     "metadata": {},
     "output_type": "execute_result"
    }
   ],
   "source": [
    "pd.Timestamp(\"12/19/2015\")"
   ]
  },
  {
   "cell_type": "code",
   "execution_count": 39,
   "metadata": {},
   "outputs": [
    {
     "data": {
      "text/plain": [
       "Timestamp('2000-04-03 00:00:00')"
      ]
     },
     "execution_count": 39,
     "metadata": {},
     "output_type": "execute_result"
    }
   ],
   "source": [
    "pd.Timestamp(\"4/3/2000\")\n",
    "#here it changes so you need to be careful\n",
    "#we can see that it accepts a wide variety of inputs"
   ]
  },
  {
   "cell_type": "code",
   "execution_count": 40,
   "metadata": {},
   "outputs": [
    {
     "data": {
      "text/plain": [
       "Timestamp('2021-03-08 08:35:35')"
      ]
     },
     "execution_count": 40,
     "metadata": {},
     "output_type": "execute_result"
    }
   ],
   "source": [
    "pd.Timestamp(\"2021-03-08 08:35:35\")"
   ]
  },
  {
   "cell_type": "code",
   "execution_count": 42,
   "metadata": {},
   "outputs": [
    {
     "data": {
      "text/plain": [
       "Timestamp('2021-03-08 18:13:29')"
      ]
     },
     "execution_count": 42,
     "metadata": {},
     "output_type": "execute_result"
    }
   ],
   "source": [
    "pd.Timestamp(\"2021-03-08 06:13:29 PM\")\n",
    "#converted to military time"
   ]
  },
  {
   "cell_type": "code",
   "execution_count": 45,
   "metadata": {},
   "outputs": [
    {
     "data": {
      "text/plain": [
       "Timestamp('2015-01-01 00:00:00')"
      ]
     },
     "execution_count": 45,
     "metadata": {},
     "output_type": "execute_result"
    }
   ],
   "source": [
    "pd.Timestamp(dt.date(2015,1,1))\n",
    "#pandas converts it to its own timestamp object"
   ]
  },
  {
   "cell_type": "code",
   "execution_count": 46,
   "metadata": {},
   "outputs": [
    {
     "data": {
      "text/plain": [
       "Timestamp('2010-02-03 21:35:22')"
      ]
     },
     "execution_count": 46,
     "metadata": {},
     "output_type": "execute_result"
    }
   ],
   "source": [
    "pd.Timestamp(dt.datetime(2010,2,3,21,35,22))\n",
    "#if we give it pythons datetime object"
   ]
  },
  {
   "cell_type": "code",
   "execution_count": 47,
   "metadata": {},
   "outputs": [],
   "source": [
    "#if we have python datetime object why we need pandas timestamp object\n",
    "#b/c of functionalities\n",
    "#there is more that we can do with timestamp than with datetime"
   ]
  },
  {
   "cell_type": "markdown",
   "metadata": {},
   "source": [
    "### The pandas DateTimeIndex Object"
   ]
  },
  {
   "cell_type": "markdown",
   "metadata": {},
   "source": [
    "137. The pandas DateTimeIndex Object"
   ]
  },
  {
   "cell_type": "code",
   "execution_count": 50,
   "metadata": {},
   "outputs": [
    {
     "data": {
      "text/plain": [
       "DatetimeIndex(['2016-01-02', '2016-04-12', '2009-09-07'], dtype='datetime64[ns]', freq=None)"
      ]
     },
     "execution_count": 50,
     "metadata": {},
     "output_type": "execute_result"
    }
   ],
   "source": [
    "dates=[\"2016-01-02\",\"2016-04-12\",\"2009-09-07\"]\n",
    "pd.DatetimeIndex(dates)\n",
    "#strings will be converted to pandas timestamps\n",
    "#all those will be saved to a new object which is what our datetimeIndex is"
   ]
  },
  {
   "cell_type": "code",
   "execution_count": 51,
   "metadata": {},
   "outputs": [
    {
     "data": {
      "text/plain": [
       "pandas.core.indexes.datetimes.DatetimeIndex"
      ]
     },
     "execution_count": 51,
     "metadata": {},
     "output_type": "execute_result"
    }
   ],
   "source": [
    "type(pd.DatetimeIndex(dates))\n",
    "#it is a DatetimeIndex"
   ]
  },
  {
   "cell_type": "code",
   "execution_count": 53,
   "metadata": {},
   "outputs": [
    {
     "data": {
      "text/plain": [
       "DatetimeIndex(['2016-01-02', '2016-04-12', '2009-09-07'], dtype='datetime64[ns]', freq=None)"
      ]
     },
     "execution_count": 53,
     "metadata": {},
     "output_type": "execute_result"
    }
   ],
   "source": [
    "dates=[\"2016/01/02\",\"2016/04/12\",\"2009/09/07\"]\n",
    "pd.DatetimeIndex(dates)\n",
    "#converted to timestamps and defaulted to standard look"
   ]
  },
  {
   "cell_type": "code",
   "execution_count": 55,
   "metadata": {},
   "outputs": [
    {
     "data": {
      "text/plain": [
       "DatetimeIndex(['2016-01-10', '1994-06-13', '2003-12-29'], dtype='datetime64[ns]', freq=None)"
      ]
     },
     "execution_count": 55,
     "metadata": {},
     "output_type": "execute_result"
    }
   ],
   "source": [
    "dates=[dt.date(2016,1,10),dt.date(1994,6,13),dt.date(2003,12,29)]\n",
    "#feeding in python's date objects\n",
    "pd.DatetimeIndex(dates)\n",
    "#converted to pandas datetimeindex\n",
    "#can serve as index for series or object"
   ]
  },
  {
   "cell_type": "code",
   "execution_count": 56,
   "metadata": {},
   "outputs": [],
   "source": [
    "dtIndex=pd.DatetimeIndex(dates)"
   ]
  },
  {
   "cell_type": "code",
   "execution_count": 58,
   "metadata": {},
   "outputs": [
    {
     "data": {
      "text/plain": [
       "2016-01-10    100\n",
       "1994-06-13    200\n",
       "2003-12-29    300\n",
       "dtype: int64"
      ]
     },
     "execution_count": 58,
     "metadata": {},
     "output_type": "execute_result"
    }
   ],
   "source": [
    "#lets create a series to serve as values for our series\n",
    "values=[100,200,300]\n",
    "pd.Series(data=values,index=dtIndex)\n",
    "#we can see timestamps have been assigned as timestamps for our series"
   ]
  },
  {
   "cell_type": "markdown",
   "metadata": {},
   "source": [
    "### The pd.to_datetime() Method"
   ]
  },
  {
   "cell_type": "markdown",
   "metadata": {},
   "source": [
    "138. The pd.to_datetime() Method"
   ]
  },
  {
   "cell_type": "code",
   "execution_count": 59,
   "metadata": {},
   "outputs": [],
   "source": [
    "#a convenient method to convert an existng object to pandas time-related object\n",
    "#called directly on pandas library\n",
    "#can accept string, list of strings, date object or datetime object\n",
    "#can convert to timestamp or datatimeIndex"
   ]
  },
  {
   "cell_type": "code",
   "execution_count": 60,
   "metadata": {},
   "outputs": [
    {
     "data": {
      "text/plain": [
       "Timestamp('2001-04-19 00:00:00')"
      ]
     },
     "execution_count": 60,
     "metadata": {},
     "output_type": "execute_result"
    }
   ],
   "source": [
    "pd.to_datetime(\"2001-04-19\")"
   ]
  },
  {
   "cell_type": "code",
   "execution_count": 61,
   "metadata": {},
   "outputs": [
    {
     "data": {
      "text/plain": [
       "Timestamp('2015-01-01 00:00:00')"
      ]
     },
     "execution_count": 61,
     "metadata": {},
     "output_type": "execute_result"
    }
   ],
   "source": [
    "pd.to_datetime(dt.date(2015,1,1))\n",
    "# date object"
   ]
  },
  {
   "cell_type": "code",
   "execution_count": 62,
   "metadata": {},
   "outputs": [
    {
     "data": {
      "text/plain": [
       "Timestamp('2015-01-01 14:35:20')"
      ]
     },
     "execution_count": 62,
     "metadata": {},
     "output_type": "execute_result"
    }
   ],
   "source": [
    "pd.to_datetime(dt.datetime(2015,1,1,14,35,20))\n",
    "#inputing datetime object"
   ]
  },
  {
   "cell_type": "code",
   "execution_count": 65,
   "metadata": {},
   "outputs": [
    {
     "data": {
      "text/plain": [
       "DatetimeIndex(['2015-01-03', '2014-02-08', '2016-01-01', '1996-07-04'], dtype='datetime64[ns]', freq=None)"
      ]
     },
     "execution_count": 65,
     "metadata": {},
     "output_type": "execute_result"
    }
   ],
   "source": [
    "#we can also give it a list of strings in variety of formats\n",
    "pd.to_datetime([\"2015-01-03\",\"2014/02/08\",\"2016\",\"July 4th, 1996\"])\n",
    "#all of them converted to timestamps, bundled in datetimeIndex object"
   ]
  },
  {
   "cell_type": "code",
   "execution_count": 66,
   "metadata": {},
   "outputs": [
    {
     "data": {
      "text/plain": [
       "0        2015-01-03\n",
       "1        2014/02/08\n",
       "2              2016\n",
       "3    July 4th, 1996\n",
       "dtype: object"
      ]
     },
     "execution_count": 66,
     "metadata": {},
     "output_type": "execute_result"
    }
   ],
   "source": [
    "#real time use of this method is converting a pandas series into datetime object\n",
    "pd.Series([\"2015-01-03\",\"2014/02/08\",\"2016\",\"July 4th, 1996\"])\n",
    "#creating a series"
   ]
  },
  {
   "cell_type": "code",
   "execution_count": 67,
   "metadata": {},
   "outputs": [
    {
     "data": {
      "text/plain": [
       "0        2015-01-03\n",
       "1        2014/02/08\n",
       "2              2016\n",
       "3    July 4th, 1996\n",
       "dtype: object"
      ]
     },
     "execution_count": 67,
     "metadata": {},
     "output_type": "execute_result"
    }
   ],
   "source": [
    "times=pd.Series([\"2015-01-03\",\"2014/02/08\",\"2016\",\"July 4th, 1996\"])\n",
    "#storing it in a variable\n",
    "times"
   ]
  },
  {
   "cell_type": "code",
   "execution_count": 68,
   "metadata": {},
   "outputs": [
    {
     "data": {
      "text/plain": [
       "0   2015-01-03\n",
       "1   2014-02-08\n",
       "2   2016-01-01\n",
       "3   1996-07-04\n",
       "dtype: datetime64[ns]"
      ]
     },
     "execution_count": 68,
     "metadata": {},
     "output_type": "execute_result"
    }
   ],
   "source": [
    "pd.to_datetime(times)\n",
    "#data type list as datetime instead of object above\n",
    "#format also changed"
   ]
  },
  {
   "cell_type": "code",
   "execution_count": 72,
   "metadata": {},
   "outputs": [
    {
     "data": {
      "text/plain": [
       "0    July 4th, 1996\n",
       "1        10/04/1991\n",
       "2             Hello\n",
       "3        2015-02-31\n",
       "dtype: object"
      ]
     },
     "execution_count": 72,
     "metadata": {},
     "output_type": "execute_result"
    }
   ],
   "source": [
    "#this method is not perfect, issues occur when data is bad\n",
    "pd.Series([\"July 4th, 1996\",\"10/04/1991\",\"Hello\",\"2015-02-31\"])\n",
    "dates=pd.Series([\"July 4th, 1996\",\"10/04/1991\",\"Hello\",\"2015-02-31\"])\n",
    "dates"
   ]
  },
  {
   "cell_type": "code",
   "execution_count": 73,
   "metadata": {
    "collapsed": true
   },
   "outputs": [
    {
     "ename": "ParserError",
     "evalue": "Unknown string format: Hello",
     "output_type": "error",
     "traceback": [
      "\u001b[1;31m---------------------------------------------------------------------------\u001b[0m",
      "\u001b[1;31mTypeError\u001b[0m                                 Traceback (most recent call last)",
      "\u001b[1;32mC:\\Work\\anaconda3\\envs\\pandas_playground\\lib\\site-packages\\pandas\\core\\arrays\\datetimes.py\u001b[0m in \u001b[0;36mobjects_to_datetime64ns\u001b[1;34m(data, dayfirst, yearfirst, utc, errors, require_iso8601, allow_object)\u001b[0m\n\u001b[0;32m   2053\u001b[0m         \u001b[1;32mtry\u001b[0m\u001b[1;33m:\u001b[0m\u001b[1;33m\u001b[0m\u001b[1;33m\u001b[0m\u001b[0m\n\u001b[1;32m-> 2054\u001b[1;33m             \u001b[0mvalues\u001b[0m\u001b[1;33m,\u001b[0m \u001b[0mtz_parsed\u001b[0m \u001b[1;33m=\u001b[0m \u001b[0mconversion\u001b[0m\u001b[1;33m.\u001b[0m\u001b[0mdatetime_to_datetime64\u001b[0m\u001b[1;33m(\u001b[0m\u001b[0mdata\u001b[0m\u001b[1;33m)\u001b[0m\u001b[1;33m\u001b[0m\u001b[1;33m\u001b[0m\u001b[0m\n\u001b[0m\u001b[0;32m   2055\u001b[0m             \u001b[1;31m# If tzaware, these values represent unix timestamps, so we\u001b[0m\u001b[1;33m\u001b[0m\u001b[1;33m\u001b[0m\u001b[1;33m\u001b[0m\u001b[0m\n",
      "\u001b[1;32mpandas\\_libs\\tslibs\\conversion.pyx\u001b[0m in \u001b[0;36mpandas._libs.tslibs.conversion.datetime_to_datetime64\u001b[1;34m()\u001b[0m\n",
      "\u001b[1;31mTypeError\u001b[0m: Unrecognized value type: <class 'str'>",
      "\nDuring handling of the above exception, another exception occurred:\n",
      "\u001b[1;31mParserError\u001b[0m                               Traceback (most recent call last)",
      "\u001b[1;32m<ipython-input-73-ddd2d201db8c>\u001b[0m in \u001b[0;36m<module>\u001b[1;34m\u001b[0m\n\u001b[1;32m----> 1\u001b[1;33m \u001b[0mpd\u001b[0m\u001b[1;33m.\u001b[0m\u001b[0mto_datetime\u001b[0m\u001b[1;33m(\u001b[0m\u001b[0mdates\u001b[0m\u001b[1;33m)\u001b[0m\u001b[1;33m\u001b[0m\u001b[1;33m\u001b[0m\u001b[0m\n\u001b[0m",
      "\u001b[1;32mC:\\Work\\anaconda3\\envs\\pandas_playground\\lib\\site-packages\\pandas\\core\\tools\\datetimes.py\u001b[0m in \u001b[0;36mto_datetime\u001b[1;34m(arg, errors, dayfirst, yearfirst, utc, format, exact, unit, infer_datetime_format, origin, cache)\u001b[0m\n\u001b[0;32m    801\u001b[0m             \u001b[0mresult\u001b[0m \u001b[1;33m=\u001b[0m \u001b[0marg\u001b[0m\u001b[1;33m.\u001b[0m\u001b[0mmap\u001b[0m\u001b[1;33m(\u001b[0m\u001b[0mcache_array\u001b[0m\u001b[1;33m)\u001b[0m\u001b[1;33m\u001b[0m\u001b[1;33m\u001b[0m\u001b[0m\n\u001b[0;32m    802\u001b[0m         \u001b[1;32melse\u001b[0m\u001b[1;33m:\u001b[0m\u001b[1;33m\u001b[0m\u001b[1;33m\u001b[0m\u001b[0m\n\u001b[1;32m--> 803\u001b[1;33m             \u001b[0mvalues\u001b[0m \u001b[1;33m=\u001b[0m \u001b[0mconvert_listlike\u001b[0m\u001b[1;33m(\u001b[0m\u001b[0marg\u001b[0m\u001b[1;33m.\u001b[0m\u001b[0m_values\u001b[0m\u001b[1;33m,\u001b[0m \u001b[0mformat\u001b[0m\u001b[1;33m)\u001b[0m\u001b[1;33m\u001b[0m\u001b[1;33m\u001b[0m\u001b[0m\n\u001b[0m\u001b[0;32m    804\u001b[0m             \u001b[0mresult\u001b[0m \u001b[1;33m=\u001b[0m \u001b[0marg\u001b[0m\u001b[1;33m.\u001b[0m\u001b[0m_constructor\u001b[0m\u001b[1;33m(\u001b[0m\u001b[0mvalues\u001b[0m\u001b[1;33m,\u001b[0m \u001b[0mindex\u001b[0m\u001b[1;33m=\u001b[0m\u001b[0marg\u001b[0m\u001b[1;33m.\u001b[0m\u001b[0mindex\u001b[0m\u001b[1;33m,\u001b[0m \u001b[0mname\u001b[0m\u001b[1;33m=\u001b[0m\u001b[0marg\u001b[0m\u001b[1;33m.\u001b[0m\u001b[0mname\u001b[0m\u001b[1;33m)\u001b[0m\u001b[1;33m\u001b[0m\u001b[1;33m\u001b[0m\u001b[0m\n\u001b[0;32m    805\u001b[0m     \u001b[1;32melif\u001b[0m \u001b[0misinstance\u001b[0m\u001b[1;33m(\u001b[0m\u001b[0marg\u001b[0m\u001b[1;33m,\u001b[0m \u001b[1;33m(\u001b[0m\u001b[0mABCDataFrame\u001b[0m\u001b[1;33m,\u001b[0m \u001b[0mabc\u001b[0m\u001b[1;33m.\u001b[0m\u001b[0mMutableMapping\u001b[0m\u001b[1;33m)\u001b[0m\u001b[1;33m)\u001b[0m\u001b[1;33m:\u001b[0m\u001b[1;33m\u001b[0m\u001b[1;33m\u001b[0m\u001b[0m\n",
      "\u001b[1;32mC:\\Work\\anaconda3\\envs\\pandas_playground\\lib\\site-packages\\pandas\\core\\tools\\datetimes.py\u001b[0m in \u001b[0;36m_convert_listlike_datetimes\u001b[1;34m(arg, format, name, tz, unit, errors, infer_datetime_format, dayfirst, yearfirst, exact)\u001b[0m\n\u001b[0;32m    457\u001b[0m         \u001b[1;32massert\u001b[0m \u001b[0mformat\u001b[0m \u001b[1;32mis\u001b[0m \u001b[1;32mNone\u001b[0m \u001b[1;32mor\u001b[0m \u001b[0minfer_datetime_format\u001b[0m\u001b[1;33m\u001b[0m\u001b[1;33m\u001b[0m\u001b[0m\n\u001b[0;32m    458\u001b[0m         \u001b[0mutc\u001b[0m \u001b[1;33m=\u001b[0m \u001b[0mtz\u001b[0m \u001b[1;33m==\u001b[0m \u001b[1;34m\"utc\"\u001b[0m\u001b[1;33m\u001b[0m\u001b[1;33m\u001b[0m\u001b[0m\n\u001b[1;32m--> 459\u001b[1;33m         result, tz_parsed = objects_to_datetime64ns(\n\u001b[0m\u001b[0;32m    460\u001b[0m             \u001b[0marg\u001b[0m\u001b[1;33m,\u001b[0m\u001b[1;33m\u001b[0m\u001b[1;33m\u001b[0m\u001b[0m\n\u001b[0;32m    461\u001b[0m             \u001b[0mdayfirst\u001b[0m\u001b[1;33m=\u001b[0m\u001b[0mdayfirst\u001b[0m\u001b[1;33m,\u001b[0m\u001b[1;33m\u001b[0m\u001b[1;33m\u001b[0m\u001b[0m\n",
      "\u001b[1;32mC:\\Work\\anaconda3\\envs\\pandas_playground\\lib\\site-packages\\pandas\\core\\arrays\\datetimes.py\u001b[0m in \u001b[0;36mobjects_to_datetime64ns\u001b[1;34m(data, dayfirst, yearfirst, utc, errors, require_iso8601, allow_object)\u001b[0m\n\u001b[0;32m   2057\u001b[0m             \u001b[1;32mreturn\u001b[0m \u001b[0mvalues\u001b[0m\u001b[1;33m.\u001b[0m\u001b[0mview\u001b[0m\u001b[1;33m(\u001b[0m\u001b[1;34m\"i8\"\u001b[0m\u001b[1;33m)\u001b[0m\u001b[1;33m,\u001b[0m \u001b[0mtz_parsed\u001b[0m\u001b[1;33m\u001b[0m\u001b[1;33m\u001b[0m\u001b[0m\n\u001b[0;32m   2058\u001b[0m         \u001b[1;32mexcept\u001b[0m \u001b[1;33m(\u001b[0m\u001b[0mValueError\u001b[0m\u001b[1;33m,\u001b[0m \u001b[0mTypeError\u001b[0m\u001b[1;33m)\u001b[0m\u001b[1;33m:\u001b[0m\u001b[1;33m\u001b[0m\u001b[1;33m\u001b[0m\u001b[0m\n\u001b[1;32m-> 2059\u001b[1;33m             \u001b[1;32mraise\u001b[0m \u001b[0me\u001b[0m\u001b[1;33m\u001b[0m\u001b[1;33m\u001b[0m\u001b[0m\n\u001b[0m\u001b[0;32m   2060\u001b[0m \u001b[1;33m\u001b[0m\u001b[0m\n\u001b[0;32m   2061\u001b[0m     \u001b[1;32mif\u001b[0m \u001b[0mtz_parsed\u001b[0m \u001b[1;32mis\u001b[0m \u001b[1;32mnot\u001b[0m \u001b[1;32mNone\u001b[0m\u001b[1;33m:\u001b[0m\u001b[1;33m\u001b[0m\u001b[1;33m\u001b[0m\u001b[0m\n",
      "\u001b[1;32mC:\\Work\\anaconda3\\envs\\pandas_playground\\lib\\site-packages\\pandas\\core\\arrays\\datetimes.py\u001b[0m in \u001b[0;36mobjects_to_datetime64ns\u001b[1;34m(data, dayfirst, yearfirst, utc, errors, require_iso8601, allow_object)\u001b[0m\n\u001b[0;32m   2042\u001b[0m \u001b[1;33m\u001b[0m\u001b[0m\n\u001b[0;32m   2043\u001b[0m     \u001b[1;32mtry\u001b[0m\u001b[1;33m:\u001b[0m\u001b[1;33m\u001b[0m\u001b[1;33m\u001b[0m\u001b[0m\n\u001b[1;32m-> 2044\u001b[1;33m         result, tz_parsed = tslib.array_to_datetime(\n\u001b[0m\u001b[0;32m   2045\u001b[0m             \u001b[0mdata\u001b[0m\u001b[1;33m,\u001b[0m\u001b[1;33m\u001b[0m\u001b[1;33m\u001b[0m\u001b[0m\n\u001b[0;32m   2046\u001b[0m             \u001b[0merrors\u001b[0m\u001b[1;33m=\u001b[0m\u001b[0merrors\u001b[0m\u001b[1;33m,\u001b[0m\u001b[1;33m\u001b[0m\u001b[1;33m\u001b[0m\u001b[0m\n",
      "\u001b[1;32mpandas\\_libs\\tslib.pyx\u001b[0m in \u001b[0;36mpandas._libs.tslib.array_to_datetime\u001b[1;34m()\u001b[0m\n",
      "\u001b[1;32mpandas\\_libs\\tslib.pyx\u001b[0m in \u001b[0;36mpandas._libs.tslib.array_to_datetime\u001b[1;34m()\u001b[0m\n",
      "\u001b[1;32mpandas\\_libs\\tslib.pyx\u001b[0m in \u001b[0;36mpandas._libs.tslib.array_to_datetime_object\u001b[1;34m()\u001b[0m\n",
      "\u001b[1;32mpandas\\_libs\\tslib.pyx\u001b[0m in \u001b[0;36mpandas._libs.tslib.array_to_datetime_object\u001b[1;34m()\u001b[0m\n",
      "\u001b[1;32mpandas\\_libs\\tslibs\\parsing.pyx\u001b[0m in \u001b[0;36mpandas._libs.tslibs.parsing.parse_datetime_string\u001b[1;34m()\u001b[0m\n",
      "\u001b[1;32mC:\\Work\\anaconda3\\envs\\pandas_playground\\lib\\site-packages\\dateutil\\parser\\_parser.py\u001b[0m in \u001b[0;36mparse\u001b[1;34m(timestr, parserinfo, **kwargs)\u001b[0m\n\u001b[0;32m   1372\u001b[0m         \u001b[1;32mreturn\u001b[0m \u001b[0mparser\u001b[0m\u001b[1;33m(\u001b[0m\u001b[0mparserinfo\u001b[0m\u001b[1;33m)\u001b[0m\u001b[1;33m.\u001b[0m\u001b[0mparse\u001b[0m\u001b[1;33m(\u001b[0m\u001b[0mtimestr\u001b[0m\u001b[1;33m,\u001b[0m \u001b[1;33m**\u001b[0m\u001b[0mkwargs\u001b[0m\u001b[1;33m)\u001b[0m\u001b[1;33m\u001b[0m\u001b[1;33m\u001b[0m\u001b[0m\n\u001b[0;32m   1373\u001b[0m     \u001b[1;32melse\u001b[0m\u001b[1;33m:\u001b[0m\u001b[1;33m\u001b[0m\u001b[1;33m\u001b[0m\u001b[0m\n\u001b[1;32m-> 1374\u001b[1;33m         \u001b[1;32mreturn\u001b[0m \u001b[0mDEFAULTPARSER\u001b[0m\u001b[1;33m.\u001b[0m\u001b[0mparse\u001b[0m\u001b[1;33m(\u001b[0m\u001b[0mtimestr\u001b[0m\u001b[1;33m,\u001b[0m \u001b[1;33m**\u001b[0m\u001b[0mkwargs\u001b[0m\u001b[1;33m)\u001b[0m\u001b[1;33m\u001b[0m\u001b[1;33m\u001b[0m\u001b[0m\n\u001b[0m\u001b[0;32m   1375\u001b[0m \u001b[1;33m\u001b[0m\u001b[0m\n\u001b[0;32m   1376\u001b[0m \u001b[1;33m\u001b[0m\u001b[0m\n",
      "\u001b[1;32mC:\\Work\\anaconda3\\envs\\pandas_playground\\lib\\site-packages\\dateutil\\parser\\_parser.py\u001b[0m in \u001b[0;36mparse\u001b[1;34m(self, timestr, default, ignoretz, tzinfos, **kwargs)\u001b[0m\n\u001b[0;32m    647\u001b[0m \u001b[1;33m\u001b[0m\u001b[0m\n\u001b[0;32m    648\u001b[0m         \u001b[1;32mif\u001b[0m \u001b[0mres\u001b[0m \u001b[1;32mis\u001b[0m \u001b[1;32mNone\u001b[0m\u001b[1;33m:\u001b[0m\u001b[1;33m\u001b[0m\u001b[1;33m\u001b[0m\u001b[0m\n\u001b[1;32m--> 649\u001b[1;33m             \u001b[1;32mraise\u001b[0m \u001b[0mParserError\u001b[0m\u001b[1;33m(\u001b[0m\u001b[1;34m\"Unknown string format: %s\"\u001b[0m\u001b[1;33m,\u001b[0m \u001b[0mtimestr\u001b[0m\u001b[1;33m)\u001b[0m\u001b[1;33m\u001b[0m\u001b[1;33m\u001b[0m\u001b[0m\n\u001b[0m\u001b[0;32m    650\u001b[0m \u001b[1;33m\u001b[0m\u001b[0m\n\u001b[0;32m    651\u001b[0m         \u001b[1;32mif\u001b[0m \u001b[0mlen\u001b[0m\u001b[1;33m(\u001b[0m\u001b[0mres\u001b[0m\u001b[1;33m)\u001b[0m \u001b[1;33m==\u001b[0m \u001b[1;36m0\u001b[0m\u001b[1;33m:\u001b[0m\u001b[1;33m\u001b[0m\u001b[1;33m\u001b[0m\u001b[0m\n",
      "\u001b[1;31mParserError\u001b[0m: Unknown string format: Hello"
     ]
    }
   ],
   "source": [
    "pd.to_datetime(dates)\n",
    "#gives an error, cant figure out Hello "
   ]
  },
  {
   "cell_type": "code",
   "execution_count": 74,
   "metadata": {},
   "outputs": [
    {
     "data": {
      "text/plain": [
       "0   1996-07-04\n",
       "1   1991-10-04\n",
       "2          NaT\n",
       "3          NaT\n",
       "dtype: datetime64[ns]"
      ]
     },
     "execution_count": 74,
     "metadata": {},
     "output_type": "execute_result"
    }
   ],
   "source": [
    "#raise argument in errors parameter arises an error\n",
    "#coerce argument converts values that not date time into NaT values similar to NaN\n",
    "pd.to_datetime(dates,errors=\"coerce\")"
   ]
  },
  {
   "cell_type": "code",
   "execution_count": 75,
   "metadata": {},
   "outputs": [
    {
     "data": {
      "text/plain": [
       "DatetimeIndex(['2012-10-08 18:15:05', '2012-10-09 18:15:05',\n",
       "               '2012-10-10 18:15:05', '2012-10-11 18:15:05',\n",
       "               '2012-10-12 18:15:05'],\n",
       "              dtype='datetime64[ns]', freq=None)"
      ]
     },
     "execution_count": 75,
     "metadata": {},
     "output_type": "execute_result"
    }
   ],
   "source": [
    "pd.to_datetime([1349720105,1349806505,1349892905,1349979305,1350065705],unit=\"s\")\n",
    "#unix time is popular way of storing time in number of seconds\n",
    "#these are no of seconds since Jan 1st, 1970"
   ]
  },
  {
   "cell_type": "markdown",
   "metadata": {},
   "source": [
    "### Create Range of Dates with the pd.date_range() Method, Part 1"
   ]
  },
  {
   "cell_type": "markdown",
   "metadata": {},
   "source": [
    "139. Create Range of Dates with the pd.date_range() Method, Part 1"
   ]
  },
  {
   "cell_type": "code",
   "execution_count": 78,
   "metadata": {},
   "outputs": [
    {
     "data": {
      "text/plain": [
       "DatetimeIndex(['2016-01-01', '2016-01-02', '2016-01-03', '2016-01-04',\n",
       "               '2016-01-05', '2016-01-06', '2016-01-07', '2016-01-08',\n",
       "               '2016-01-09', '2016-01-10'],\n",
       "              dtype='datetime64[ns]', freq='D')"
      ]
     },
     "execution_count": 78,
     "metadata": {},
     "output_type": "execute_result"
    }
   ],
   "source": [
    "#generate date indexes quickly\n",
    "#called directly on pandas library\n",
    "pd.date_range(start=\"2016-01-01\",end=\"2016-01-10\")\n",
    "#press shift and tab to see parameters\n",
    "#requires two parameters: can be start and end,end and period,or you can have periods and start\n",
    "#it generates datetime index for us\n",
    "#freq parameter is short for frequency and D parameter stands for days"
   ]
  },
  {
   "cell_type": "code",
   "execution_count": 79,
   "metadata": {},
   "outputs": [
    {
     "data": {
      "text/plain": [
       "DatetimeIndex(['2016-01-01', '2016-01-02', '2016-01-03', '2016-01-04',\n",
       "               '2016-01-05', '2016-01-06', '2016-01-07', '2016-01-08',\n",
       "               '2016-01-09', '2016-01-10'],\n",
       "              dtype='datetime64[ns]', freq='D')"
      ]
     },
     "execution_count": 79,
     "metadata": {},
     "output_type": "execute_result"
    }
   ],
   "source": [
    "pd.date_range(start=\"2016-01-01\",end=\"2016-01-10\",freq=\"D\")\n",
    "#generated from 01 jan 2010 to 10 jan 2010"
   ]
  },
  {
   "cell_type": "code",
   "execution_count": 80,
   "metadata": {},
   "outputs": [],
   "source": [
    "times=pd.date_range(start=\"2016-01-01\",end=\"2016-01-10\",freq=\"D\")"
   ]
  },
  {
   "cell_type": "code",
   "execution_count": 81,
   "metadata": {},
   "outputs": [
    {
     "data": {
      "text/plain": [
       "pandas.core.indexes.datetimes.DatetimeIndex"
      ]
     },
     "execution_count": 81,
     "metadata": {},
     "output_type": "execute_result"
    }
   ],
   "source": [
    "type(times)"
   ]
  },
  {
   "cell_type": "code",
   "execution_count": 83,
   "metadata": {},
   "outputs": [
    {
     "data": {
      "text/plain": [
       "Timestamp('2016-01-01 00:00:00', freq='D')"
      ]
     },
     "execution_count": 83,
     "metadata": {},
     "output_type": "execute_result"
    }
   ],
   "source": [
    "times[0]"
   ]
  },
  {
   "cell_type": "code",
   "execution_count": 84,
   "metadata": {},
   "outputs": [
    {
     "data": {
      "text/plain": [
       "pandas._libs.tslibs.timestamps.Timestamp"
      ]
     },
     "execution_count": 84,
     "metadata": {},
     "output_type": "execute_result"
    }
   ],
   "source": [
    "type(times[0])"
   ]
  },
  {
   "cell_type": "code",
   "execution_count": 85,
   "metadata": {},
   "outputs": [
    {
     "data": {
      "text/plain": [
       "DatetimeIndex(['2016-01-01', '2016-01-02', '2016-01-03', '2016-01-04',\n",
       "               '2016-01-05', '2016-01-06', '2016-01-07', '2016-01-08',\n",
       "               '2016-01-09', '2016-01-10'],\n",
       "              dtype='datetime64[ns]', freq='D')"
      ]
     },
     "execution_count": 85,
     "metadata": {},
     "output_type": "execute_result"
    }
   ],
   "source": [
    "#more uses of this method\n",
    "pd.date_range(start=\"2016-01-01\",end=\"2016-01-10\",freq=\"D\")"
   ]
  },
  {
   "cell_type": "code",
   "execution_count": 86,
   "metadata": {},
   "outputs": [
    {
     "data": {
      "text/plain": [
       "DatetimeIndex(['2016-01-01', '2016-01-03', '2016-01-05', '2016-01-07',\n",
       "               '2016-01-09'],\n",
       "              dtype='datetime64[ns]', freq='2D')"
      ]
     },
     "execution_count": 86,
     "metadata": {},
     "output_type": "execute_result"
    }
   ],
   "source": [
    "#freq =D is basically one day\n",
    "pd.date_range(start=\"2016-01-01\",end=\"2016-01-10\",freq=\"2D\")\n",
    "#now freq set to 2 days"
   ]
  },
  {
   "cell_type": "code",
   "execution_count": 87,
   "metadata": {},
   "outputs": [
    {
     "data": {
      "text/plain": [
       "DatetimeIndex(['2016-01-01', '2016-01-04', '2016-01-05', '2016-01-06',\n",
       "               '2016-01-07', '2016-01-08'],\n",
       "              dtype='datetime64[ns]', freq='B')"
      ]
     },
     "execution_count": 87,
     "metadata": {},
     "output_type": "execute_result"
    }
   ],
   "source": [
    "#B means business days and not weekends\n",
    "pd.date_range(start=\"2016-01-01\",end=\"2016-01-10\",freq=\"B\")\n",
    "#sat and sun make up 09 and 10th so weekends are not included"
   ]
  },
  {
   "cell_type": "code",
   "execution_count": 88,
   "metadata": {},
   "outputs": [
    {
     "data": {
      "text/plain": [
       "DatetimeIndex(['2016-01-03', '2016-01-10'], dtype='datetime64[ns]', freq='W-SUN')"
      ]
     },
     "execution_count": 88,
     "metadata": {},
     "output_type": "execute_result"
    }
   ],
   "source": [
    "pd.date_range(start=\"2016-01-01\",end=\"2016-01-10\",freq=\"W\")\n",
    "#w is for week , W=SUN is sunday\n",
    "#it is looking only for days that are falling on Sunday"
   ]
  },
  {
   "cell_type": "code",
   "execution_count": 91,
   "metadata": {},
   "outputs": [
    {
     "data": {
      "text/plain": [
       "DatetimeIndex(['2016-01-01', '2016-01-08', '2016-01-15'], dtype='datetime64[ns]', freq='W-FRI')"
      ]
     },
     "execution_count": 91,
     "metadata": {},
     "output_type": "execute_result"
    }
   ],
   "source": [
    "pd.date_range(start=\"2016-01-01\",end=\"2016-01-15\",freq=\"W-FRI\")\n",
    "#01 is included b/c it is friday, 08 is included b/c it is friday, 15 falls within our daterange so it is included\n",
    "# W-FRI we have included day of the week that we want to start with"
   ]
  },
  {
   "cell_type": "code",
   "execution_count": 92,
   "metadata": {},
   "outputs": [
    {
     "data": {
      "text/plain": [
       "DatetimeIndex(['2016-01-01 00:00:00', '2016-01-01 01:00:00',\n",
       "               '2016-01-01 02:00:00', '2016-01-01 03:00:00',\n",
       "               '2016-01-01 04:00:00', '2016-01-01 05:00:00',\n",
       "               '2016-01-01 06:00:00', '2016-01-01 07:00:00',\n",
       "               '2016-01-01 08:00:00', '2016-01-01 09:00:00',\n",
       "               ...\n",
       "               '2016-01-14 15:00:00', '2016-01-14 16:00:00',\n",
       "               '2016-01-14 17:00:00', '2016-01-14 18:00:00',\n",
       "               '2016-01-14 19:00:00', '2016-01-14 20:00:00',\n",
       "               '2016-01-14 21:00:00', '2016-01-14 22:00:00',\n",
       "               '2016-01-14 23:00:00', '2016-01-15 00:00:00'],\n",
       "              dtype='datetime64[ns]', length=337, freq='H')"
      ]
     },
     "execution_count": 92,
     "metadata": {},
     "output_type": "execute_result"
    }
   ],
   "source": [
    "pd.date_range(start=\"2016-01-01\",end=\"2016-01-15\",freq=\"H\")\n",
    "#h stands dor hour\n",
    "#gives every hour from jan 01 to jan 15"
   ]
  },
  {
   "cell_type": "code",
   "execution_count": 93,
   "metadata": {
    "scrolled": true
   },
   "outputs": [
    {
     "data": {
      "text/plain": [
       "DatetimeIndex(['2016-01-01 00:00:00', '2016-01-01 06:00:00',\n",
       "               '2016-01-01 12:00:00', '2016-01-01 18:00:00',\n",
       "               '2016-01-02 00:00:00', '2016-01-02 06:00:00',\n",
       "               '2016-01-02 12:00:00', '2016-01-02 18:00:00',\n",
       "               '2016-01-03 00:00:00', '2016-01-03 06:00:00',\n",
       "               '2016-01-03 12:00:00', '2016-01-03 18:00:00',\n",
       "               '2016-01-04 00:00:00', '2016-01-04 06:00:00',\n",
       "               '2016-01-04 12:00:00', '2016-01-04 18:00:00',\n",
       "               '2016-01-05 00:00:00', '2016-01-05 06:00:00',\n",
       "               '2016-01-05 12:00:00', '2016-01-05 18:00:00',\n",
       "               '2016-01-06 00:00:00', '2016-01-06 06:00:00',\n",
       "               '2016-01-06 12:00:00', '2016-01-06 18:00:00',\n",
       "               '2016-01-07 00:00:00', '2016-01-07 06:00:00',\n",
       "               '2016-01-07 12:00:00', '2016-01-07 18:00:00',\n",
       "               '2016-01-08 00:00:00', '2016-01-08 06:00:00',\n",
       "               '2016-01-08 12:00:00', '2016-01-08 18:00:00',\n",
       "               '2016-01-09 00:00:00', '2016-01-09 06:00:00',\n",
       "               '2016-01-09 12:00:00', '2016-01-09 18:00:00',\n",
       "               '2016-01-10 00:00:00', '2016-01-10 06:00:00',\n",
       "               '2016-01-10 12:00:00', '2016-01-10 18:00:00',\n",
       "               '2016-01-11 00:00:00', '2016-01-11 06:00:00',\n",
       "               '2016-01-11 12:00:00', '2016-01-11 18:00:00',\n",
       "               '2016-01-12 00:00:00', '2016-01-12 06:00:00',\n",
       "               '2016-01-12 12:00:00', '2016-01-12 18:00:00',\n",
       "               '2016-01-13 00:00:00', '2016-01-13 06:00:00',\n",
       "               '2016-01-13 12:00:00', '2016-01-13 18:00:00',\n",
       "               '2016-01-14 00:00:00', '2016-01-14 06:00:00',\n",
       "               '2016-01-14 12:00:00', '2016-01-14 18:00:00',\n",
       "               '2016-01-15 00:00:00'],\n",
       "              dtype='datetime64[ns]', freq='6H')"
      ]
     },
     "execution_count": 93,
     "metadata": {},
     "output_type": "execute_result"
    }
   ],
   "source": [
    "pd.date_range(start=\"2016-01-01\",end=\"2016-01-15\",freq=\"6H\")\n",
    "#in increments of 6 hours"
   ]
  },
  {
   "cell_type": "code",
   "execution_count": 94,
   "metadata": {},
   "outputs": [
    {
     "data": {
      "text/plain": [
       "DatetimeIndex([], dtype='datetime64[ns]', freq='M')"
      ]
     },
     "execution_count": 94,
     "metadata": {},
     "output_type": "execute_result"
    }
   ],
   "source": [
    "pd.date_range(start=\"2016-01-01\",end=\"2016-01-15\",freq=\"M\")\n",
    "#results in month ends date that falls within our date range\n",
    "#here it results in null since there are no month ends in our range"
   ]
  },
  {
   "cell_type": "code",
   "execution_count": 95,
   "metadata": {},
   "outputs": [
    {
     "data": {
      "text/plain": [
       "DatetimeIndex(['2016-01-31', '2016-02-29', '2016-03-31', '2016-04-30',\n",
       "               '2016-05-31', '2016-06-30', '2016-07-31', '2016-08-31',\n",
       "               '2016-09-30', '2016-10-31', '2016-11-30', '2016-12-31'],\n",
       "              dtype='datetime64[ns]', freq='M')"
      ]
     },
     "execution_count": 95,
     "metadata": {},
     "output_type": "execute_result"
    }
   ],
   "source": [
    "pd.date_range(start=\"2016-01-01\",end=\"2016-12-31\",freq=\"M\")"
   ]
  },
  {
   "cell_type": "code",
   "execution_count": 97,
   "metadata": {},
   "outputs": [
    {
     "data": {
      "text/plain": [
       "DatetimeIndex(['2016-01-01', '2016-02-01', '2016-03-01', '2016-04-01',\n",
       "               '2016-05-01', '2016-06-01', '2016-07-01', '2016-08-01',\n",
       "               '2016-09-01', '2016-10-01', '2016-11-01', '2016-12-01'],\n",
       "              dtype='datetime64[ns]', freq='MS')"
      ]
     },
     "execution_count": 97,
     "metadata": {},
     "output_type": "execute_result"
    }
   ],
   "source": [
    "pd.date_range(start=\"2016-01-01\",end=\"2016-12-31\",freq=\"MS\")\n",
    "#MS = Month starts"
   ]
  },
  {
   "cell_type": "code",
   "execution_count": 98,
   "metadata": {},
   "outputs": [
    {
     "data": {
      "text/plain": [
       "DatetimeIndex(['2016-01-01', '2016-02-01', '2016-03-01', '2016-04-01',\n",
       "               '2016-05-01', '2016-06-01', '2016-07-01', '2016-08-01',\n",
       "               '2016-09-01', '2016-10-01', '2016-11-01', '2016-12-01',\n",
       "               '2017-01-01'],\n",
       "              dtype='datetime64[ns]', freq='MS')"
      ]
     },
     "execution_count": 98,
     "metadata": {},
     "output_type": "execute_result"
    }
   ],
   "source": [
    "pd.date_range(start=\"2016-01-01\",end=\"2017-01-01\",freq=\"MS\")"
   ]
  },
  {
   "cell_type": "code",
   "execution_count": 99,
   "metadata": {},
   "outputs": [
    {
     "data": {
      "text/plain": [
       "DatetimeIndex(['2016-12-31', '2017-12-31', '2018-12-31', '2019-12-31',\n",
       "               '2020-12-31', '2021-12-31', '2022-12-31', '2023-12-31',\n",
       "               '2024-12-31', '2025-12-31', '2026-12-31', '2027-12-31',\n",
       "               '2028-12-31', '2029-12-31', '2030-12-31', '2031-12-31',\n",
       "               '2032-12-31', '2033-12-31', '2034-12-31', '2035-12-31',\n",
       "               '2036-12-31', '2037-12-31', '2038-12-31', '2039-12-31',\n",
       "               '2040-12-31', '2041-12-31', '2042-12-31', '2043-12-31',\n",
       "               '2044-12-31', '2045-12-31', '2046-12-31', '2047-12-31',\n",
       "               '2048-12-31', '2049-12-31'],\n",
       "              dtype='datetime64[ns]', freq='A-DEC')"
      ]
     },
     "execution_count": 99,
     "metadata": {},
     "output_type": "execute_result"
    }
   ],
   "source": [
    "pd.date_range(start=\"2016-01-01\",end=\"2050-01-01\",freq=\"A\")\n",
    "# A short for year end \n",
    "#gives last day of each year"
   ]
  },
  {
   "cell_type": "markdown",
   "metadata": {},
   "source": [
    "### Create Range of Dates with the pd.date_range() Method, Part 2"
   ]
  },
  {
   "cell_type": "markdown",
   "metadata": {},
   "source": [
    "140. Create Range of Dates with the pd.date_range() Method, Part 2"
   ]
  },
  {
   "cell_type": "code",
   "execution_count": 101,
   "metadata": {},
   "outputs": [
    {
     "data": {
      "text/plain": [
       "DatetimeIndex(['2012-09-09', '2012-09-10', '2012-09-11', '2012-09-12',\n",
       "               '2012-09-13', '2012-09-14', '2012-09-15', '2012-09-16',\n",
       "               '2012-09-17', '2012-09-18', '2012-09-19', '2012-09-20',\n",
       "               '2012-09-21', '2012-09-22', '2012-09-23', '2012-09-24',\n",
       "               '2012-09-25', '2012-09-26', '2012-09-27', '2012-09-28',\n",
       "               '2012-09-29', '2012-09-30', '2012-10-01', '2012-10-02',\n",
       "               '2012-10-03'],\n",
       "              dtype='datetime64[ns]', freq='D')"
      ]
     },
     "execution_count": 101,
     "metadata": {},
     "output_type": "execute_result"
    }
   ],
   "source": [
    "#we are going to do start and period\n",
    "pd.date_range(start=\"2012-09-09\",periods=25,freq=\"D\")\n",
    "#periods determine no. of timestamps that we want to generate, starting from this day\n",
    "#pandas is going to look at start date and generate no. of periods that we want\n",
    "#we get datetimeIndex with exactly 25 values\n",
    "#each day is one day apart"
   ]
  },
  {
   "cell_type": "code",
   "execution_count": 102,
   "metadata": {},
   "outputs": [
    {
     "data": {
      "text/plain": [
       "25"
      ]
     },
     "execution_count": 102,
     "metadata": {},
     "output_type": "execute_result"
    }
   ],
   "source": [
    "len(pd.date_range(start=\"2012-09-09\",periods=25,freq=\"D\"))"
   ]
  },
  {
   "cell_type": "code",
   "execution_count": 103,
   "metadata": {
    "scrolled": true
   },
   "outputs": [
    {
     "data": {
      "text/plain": [
       "DatetimeIndex(['2012-09-09', '2012-09-10', '2012-09-11', '2012-09-12',\n",
       "               '2012-09-13', '2012-09-14', '2012-09-15', '2012-09-16',\n",
       "               '2012-09-17', '2012-09-18', '2012-09-19', '2012-09-20',\n",
       "               '2012-09-21', '2012-09-22', '2012-09-23', '2012-09-24',\n",
       "               '2012-09-25', '2012-09-26', '2012-09-27', '2012-09-28',\n",
       "               '2012-09-29', '2012-09-30', '2012-10-01', '2012-10-02',\n",
       "               '2012-10-03', '2012-10-04', '2012-10-05', '2012-10-06',\n",
       "               '2012-10-07', '2012-10-08', '2012-10-09', '2012-10-10',\n",
       "               '2012-10-11', '2012-10-12', '2012-10-13', '2012-10-14',\n",
       "               '2012-10-15', '2012-10-16', '2012-10-17', '2012-10-18',\n",
       "               '2012-10-19', '2012-10-20', '2012-10-21', '2012-10-22',\n",
       "               '2012-10-23', '2012-10-24', '2012-10-25', '2012-10-26',\n",
       "               '2012-10-27', '2012-10-28'],\n",
       "              dtype='datetime64[ns]', freq='D')"
      ]
     },
     "execution_count": 103,
     "metadata": {},
     "output_type": "execute_result"
    }
   ],
   "source": [
    "#for 50 days\n",
    "pd.date_range(start=\"2012-09-09\",periods=50,freq=\"D\")"
   ]
  },
  {
   "cell_type": "code",
   "execution_count": 104,
   "metadata": {},
   "outputs": [
    {
     "data": {
      "text/plain": [
       "DatetimeIndex(['2012-09-10', '2012-09-11', '2012-09-12', '2012-09-13',\n",
       "               '2012-09-14', '2012-09-17', '2012-09-18', '2012-09-19',\n",
       "               '2012-09-20', '2012-09-21', '2012-09-24', '2012-09-25',\n",
       "               '2012-09-26', '2012-09-27', '2012-09-28', '2012-10-01',\n",
       "               '2012-10-02', '2012-10-03', '2012-10-04', '2012-10-05',\n",
       "               '2012-10-08', '2012-10-09', '2012-10-10', '2012-10-11',\n",
       "               '2012-10-12', '2012-10-15', '2012-10-16', '2012-10-17',\n",
       "               '2012-10-18', '2012-10-19', '2012-10-22', '2012-10-23',\n",
       "               '2012-10-24', '2012-10-25', '2012-10-26', '2012-10-29',\n",
       "               '2012-10-30', '2012-10-31', '2012-11-01', '2012-11-02',\n",
       "               '2012-11-05', '2012-11-06', '2012-11-07', '2012-11-08',\n",
       "               '2012-11-09', '2012-11-12', '2012-11-13', '2012-11-14',\n",
       "               '2012-11-15', '2012-11-16'],\n",
       "              dtype='datetime64[ns]', freq='B')"
      ]
     },
     "execution_count": 104,
     "metadata": {},
     "output_type": "execute_result"
    }
   ],
   "source": [
    "pd.date_range(start=\"2012-09-09\",periods=50,freq=\"B\")\n",
    "#to get 50 business days starting from sept 10 since sept 10 is monday\n",
    "#sept 09 is sunday so not included even though it is specified as start"
   ]
  },
  {
   "cell_type": "code",
   "execution_count": 105,
   "metadata": {
    "scrolled": true
   },
   "outputs": [
    {
     "data": {
      "text/plain": [
       "DatetimeIndex(['2012-09-09', '2012-09-16', '2012-09-23', '2012-09-30',\n",
       "               '2012-10-07', '2012-10-14', '2012-10-21', '2012-10-28',\n",
       "               '2012-11-04', '2012-11-11', '2012-11-18', '2012-11-25',\n",
       "               '2012-12-02', '2012-12-09', '2012-12-16', '2012-12-23',\n",
       "               '2012-12-30', '2013-01-06', '2013-01-13', '2013-01-20',\n",
       "               '2013-01-27', '2013-02-03', '2013-02-10', '2013-02-17',\n",
       "               '2013-02-24', '2013-03-03', '2013-03-10', '2013-03-17',\n",
       "               '2013-03-24', '2013-03-31', '2013-04-07', '2013-04-14',\n",
       "               '2013-04-21', '2013-04-28', '2013-05-05', '2013-05-12',\n",
       "               '2013-05-19', '2013-05-26', '2013-06-02', '2013-06-09',\n",
       "               '2013-06-16', '2013-06-23', '2013-06-30', '2013-07-07',\n",
       "               '2013-07-14', '2013-07-21', '2013-07-28', '2013-08-04',\n",
       "               '2013-08-11', '2013-08-18'],\n",
       "              dtype='datetime64[ns]', freq='W-SUN')"
      ]
     },
     "execution_count": 105,
     "metadata": {},
     "output_type": "execute_result"
    }
   ],
   "source": [
    "pd.date_range(start=\"2012-09-09\",periods=50,freq=\"W\")\n",
    "#we get dates that are weeks apart falling on Sunday only"
   ]
  },
  {
   "cell_type": "code",
   "execution_count": 106,
   "metadata": {},
   "outputs": [
    {
     "data": {
      "text/plain": [
       "DatetimeIndex(['2012-09-11', '2012-09-18', '2012-09-25', '2012-10-02',\n",
       "               '2012-10-09', '2012-10-16', '2012-10-23', '2012-10-30',\n",
       "               '2012-11-06', '2012-11-13', '2012-11-20', '2012-11-27',\n",
       "               '2012-12-04', '2012-12-11', '2012-12-18', '2012-12-25',\n",
       "               '2013-01-01', '2013-01-08', '2013-01-15', '2013-01-22',\n",
       "               '2013-01-29', '2013-02-05', '2013-02-12', '2013-02-19',\n",
       "               '2013-02-26', '2013-03-05', '2013-03-12', '2013-03-19',\n",
       "               '2013-03-26', '2013-04-02', '2013-04-09', '2013-04-16',\n",
       "               '2013-04-23', '2013-04-30', '2013-05-07', '2013-05-14',\n",
       "               '2013-05-21', '2013-05-28', '2013-06-04', '2013-06-11',\n",
       "               '2013-06-18', '2013-06-25', '2013-07-02', '2013-07-09',\n",
       "               '2013-07-16', '2013-07-23', '2013-07-30', '2013-08-06',\n",
       "               '2013-08-13', '2013-08-20'],\n",
       "              dtype='datetime64[ns]', freq='W-TUE')"
      ]
     },
     "execution_count": 106,
     "metadata": {},
     "output_type": "execute_result"
    }
   ],
   "source": [
    "pd.date_range(start=\"2012-09-09\",periods=50,freq=\"W-SUN\")\n",
    "#same as above\n",
    "pd.date_range(start=\"2012-09-09\",periods=50,freq=\"W-TUE\")"
   ]
  },
  {
   "cell_type": "code",
   "execution_count": 107,
   "metadata": {},
   "outputs": [
    {
     "data": {
      "text/plain": [
       "DatetimeIndex(['2012-10-01', '2012-11-01', '2012-12-01', '2013-01-01',\n",
       "               '2013-02-01', '2013-03-01', '2013-04-01', '2013-05-01',\n",
       "               '2013-06-01', '2013-07-01', '2013-08-01', '2013-09-01',\n",
       "               '2013-10-01', '2013-11-01', '2013-12-01', '2014-01-01',\n",
       "               '2014-02-01', '2014-03-01', '2014-04-01', '2014-05-01',\n",
       "               '2014-06-01', '2014-07-01', '2014-08-01', '2014-09-01',\n",
       "               '2014-10-01', '2014-11-01', '2014-12-01', '2015-01-01',\n",
       "               '2015-02-01', '2015-03-01', '2015-04-01', '2015-05-01',\n",
       "               '2015-06-01', '2015-07-01', '2015-08-01', '2015-09-01',\n",
       "               '2015-10-01', '2015-11-01', '2015-12-01', '2016-01-01',\n",
       "               '2016-02-01', '2016-03-01', '2016-04-01', '2016-05-01',\n",
       "               '2016-06-01', '2016-07-01', '2016-08-01', '2016-09-01',\n",
       "               '2016-10-01', '2016-11-01'],\n",
       "              dtype='datetime64[ns]', freq='MS')"
      ]
     },
     "execution_count": 107,
     "metadata": {},
     "output_type": "execute_result"
    }
   ],
   "source": [
    "#if we want 50 months start\n",
    "pd.date_range(start=\"2012-09-09\",periods=50,freq=\"MS\")"
   ]
  },
  {
   "cell_type": "code",
   "execution_count": 108,
   "metadata": {},
   "outputs": [
    {
     "data": {
      "text/plain": [
       "DatetimeIndex(['2012-12-31', '2013-12-31', '2014-12-31', '2015-12-31',\n",
       "               '2016-12-31', '2017-12-31', '2018-12-31', '2019-12-31',\n",
       "               '2020-12-31', '2021-12-31', '2022-12-31', '2023-12-31',\n",
       "               '2024-12-31', '2025-12-31', '2026-12-31', '2027-12-31',\n",
       "               '2028-12-31', '2029-12-31', '2030-12-31', '2031-12-31',\n",
       "               '2032-12-31', '2033-12-31', '2034-12-31', '2035-12-31',\n",
       "               '2036-12-31', '2037-12-31', '2038-12-31', '2039-12-31',\n",
       "               '2040-12-31', '2041-12-31', '2042-12-31', '2043-12-31',\n",
       "               '2044-12-31', '2045-12-31', '2046-12-31', '2047-12-31',\n",
       "               '2048-12-31', '2049-12-31', '2050-12-31', '2051-12-31',\n",
       "               '2052-12-31', '2053-12-31', '2054-12-31', '2055-12-31',\n",
       "               '2056-12-31', '2057-12-31', '2058-12-31', '2059-12-31',\n",
       "               '2060-12-31', '2061-12-31'],\n",
       "              dtype='datetime64[ns]', freq='A-DEC')"
      ]
     },
     "execution_count": 108,
     "metadata": {},
     "output_type": "execute_result"
    }
   ],
   "source": [
    "pd.date_range(start=\"2012-09-09\",periods=50,freq=\"A\")\n",
    "#we get 50 years end dates"
   ]
  },
  {
   "cell_type": "code",
   "execution_count": 109,
   "metadata": {
    "scrolled": true
   },
   "outputs": [
    {
     "data": {
      "text/plain": [
       "DatetimeIndex(['2012-09-09 00:00:00', '2012-09-09 01:00:00',\n",
       "               '2012-09-09 02:00:00', '2012-09-09 03:00:00',\n",
       "               '2012-09-09 04:00:00', '2012-09-09 05:00:00',\n",
       "               '2012-09-09 06:00:00', '2012-09-09 07:00:00',\n",
       "               '2012-09-09 08:00:00', '2012-09-09 09:00:00',\n",
       "               '2012-09-09 10:00:00', '2012-09-09 11:00:00',\n",
       "               '2012-09-09 12:00:00', '2012-09-09 13:00:00',\n",
       "               '2012-09-09 14:00:00', '2012-09-09 15:00:00',\n",
       "               '2012-09-09 16:00:00', '2012-09-09 17:00:00',\n",
       "               '2012-09-09 18:00:00', '2012-09-09 19:00:00',\n",
       "               '2012-09-09 20:00:00', '2012-09-09 21:00:00',\n",
       "               '2012-09-09 22:00:00', '2012-09-09 23:00:00',\n",
       "               '2012-09-10 00:00:00', '2012-09-10 01:00:00',\n",
       "               '2012-09-10 02:00:00', '2012-09-10 03:00:00',\n",
       "               '2012-09-10 04:00:00', '2012-09-10 05:00:00',\n",
       "               '2012-09-10 06:00:00', '2012-09-10 07:00:00',\n",
       "               '2012-09-10 08:00:00', '2012-09-10 09:00:00',\n",
       "               '2012-09-10 10:00:00', '2012-09-10 11:00:00',\n",
       "               '2012-09-10 12:00:00', '2012-09-10 13:00:00',\n",
       "               '2012-09-10 14:00:00', '2012-09-10 15:00:00',\n",
       "               '2012-09-10 16:00:00', '2012-09-10 17:00:00',\n",
       "               '2012-09-10 18:00:00', '2012-09-10 19:00:00',\n",
       "               '2012-09-10 20:00:00', '2012-09-10 21:00:00',\n",
       "               '2012-09-10 22:00:00', '2012-09-10 23:00:00',\n",
       "               '2012-09-11 00:00:00', '2012-09-11 01:00:00'],\n",
       "              dtype='datetime64[ns]', freq='H')"
      ]
     },
     "execution_count": 109,
     "metadata": {},
     "output_type": "execute_result"
    }
   ],
   "source": [
    "pd.date_range(start=\"2012-09-09\",periods=50,freq=\"H\")"
   ]
  },
  {
   "cell_type": "code",
   "execution_count": 110,
   "metadata": {
    "scrolled": true
   },
   "outputs": [
    {
     "data": {
      "text/plain": [
       "DatetimeIndex(['2012-09-09 00:00:00', '2012-09-09 06:00:00',\n",
       "               '2012-09-09 12:00:00', '2012-09-09 18:00:00',\n",
       "               '2012-09-10 00:00:00', '2012-09-10 06:00:00',\n",
       "               '2012-09-10 12:00:00', '2012-09-10 18:00:00',\n",
       "               '2012-09-11 00:00:00', '2012-09-11 06:00:00',\n",
       "               '2012-09-11 12:00:00', '2012-09-11 18:00:00',\n",
       "               '2012-09-12 00:00:00', '2012-09-12 06:00:00',\n",
       "               '2012-09-12 12:00:00', '2012-09-12 18:00:00',\n",
       "               '2012-09-13 00:00:00', '2012-09-13 06:00:00',\n",
       "               '2012-09-13 12:00:00', '2012-09-13 18:00:00',\n",
       "               '2012-09-14 00:00:00', '2012-09-14 06:00:00',\n",
       "               '2012-09-14 12:00:00', '2012-09-14 18:00:00',\n",
       "               '2012-09-15 00:00:00', '2012-09-15 06:00:00',\n",
       "               '2012-09-15 12:00:00', '2012-09-15 18:00:00',\n",
       "               '2012-09-16 00:00:00', '2012-09-16 06:00:00',\n",
       "               '2012-09-16 12:00:00', '2012-09-16 18:00:00',\n",
       "               '2012-09-17 00:00:00', '2012-09-17 06:00:00',\n",
       "               '2012-09-17 12:00:00', '2012-09-17 18:00:00',\n",
       "               '2012-09-18 00:00:00', '2012-09-18 06:00:00',\n",
       "               '2012-09-18 12:00:00', '2012-09-18 18:00:00',\n",
       "               '2012-09-19 00:00:00', '2012-09-19 06:00:00',\n",
       "               '2012-09-19 12:00:00', '2012-09-19 18:00:00',\n",
       "               '2012-09-20 00:00:00', '2012-09-20 06:00:00',\n",
       "               '2012-09-20 12:00:00', '2012-09-20 18:00:00',\n",
       "               '2012-09-21 00:00:00', '2012-09-21 06:00:00'],\n",
       "              dtype='datetime64[ns]', freq='6H')"
      ]
     },
     "execution_count": 110,
     "metadata": {},
     "output_type": "execute_result"
    }
   ],
   "source": [
    "pd.date_range(start=\"2012-09-09\",periods=50,freq=\"6H\")\n",
    "#we can create custom hours"
   ]
  },
  {
   "cell_type": "markdown",
   "metadata": {},
   "source": [
    "### Create Range of Dates with the pd.date_range() Method, Part 3"
   ]
  },
  {
   "cell_type": "markdown",
   "metadata": {},
   "source": [
    "141. Create Range of Dates with the pd.date_range() Method, Part 3"
   ]
  },
  {
   "cell_type": "code",
   "execution_count": 111,
   "metadata": {},
   "outputs": [
    {
     "data": {
      "text/plain": [
       "DatetimeIndex(['1991-12-12', '1991-12-13', '1991-12-14', '1991-12-15',\n",
       "               '1991-12-16', '1991-12-17', '1991-12-18', '1991-12-19',\n",
       "               '1991-12-20', '1991-12-21', '1991-12-22', '1991-12-23',\n",
       "               '1991-12-24', '1991-12-25', '1991-12-26', '1991-12-27',\n",
       "               '1991-12-28', '1991-12-29', '1991-12-30', '1991-12-31'],\n",
       "              dtype='datetime64[ns]', freq='D')"
      ]
     },
     "execution_count": 111,
     "metadata": {},
     "output_type": "execute_result"
    }
   ],
   "source": [
    "#now we will use end and periods parameter\n",
    "pd.date_range(end=\"1991-12-31\",periods=20,freq=\"D\")\n",
    "#it moves back 20 date values from our end date that we provided i.e 1991-12-31"
   ]
  },
  {
   "cell_type": "code",
   "execution_count": 112,
   "metadata": {},
   "outputs": [
    {
     "data": {
      "text/plain": [
       "20"
      ]
     },
     "execution_count": 112,
     "metadata": {},
     "output_type": "execute_result"
    }
   ],
   "source": [
    "len(pd.date_range(end=\"1991-12-31\",periods=20,freq=\"D\"))"
   ]
  },
  {
   "cell_type": "code",
   "execution_count": 113,
   "metadata": {
    "scrolled": true
   },
   "outputs": [
    {
     "data": {
      "text/plain": [
       "DatetimeIndex(['1991-11-22', '1991-11-23', '1991-11-24', '1991-11-25',\n",
       "               '1991-11-26', '1991-11-27', '1991-11-28', '1991-11-29',\n",
       "               '1991-11-30', '1991-12-01', '1991-12-02', '1991-12-03',\n",
       "               '1991-12-04', '1991-12-05', '1991-12-06', '1991-12-07',\n",
       "               '1991-12-08', '1991-12-09', '1991-12-10', '1991-12-11',\n",
       "               '1991-12-12', '1991-12-13', '1991-12-14', '1991-12-15',\n",
       "               '1991-12-16', '1991-12-17', '1991-12-18', '1991-12-19',\n",
       "               '1991-12-20', '1991-12-21', '1991-12-22', '1991-12-23',\n",
       "               '1991-12-24', '1991-12-25', '1991-12-26', '1991-12-27',\n",
       "               '1991-12-28', '1991-12-29', '1991-12-30', '1991-12-31'],\n",
       "              dtype='datetime64[ns]', freq='D')"
      ]
     },
     "execution_count": 113,
     "metadata": {},
     "output_type": "execute_result"
    }
   ],
   "source": [
    "pd.date_range(end=\"1991-12-31\",periods=40,freq=\"D\")"
   ]
  },
  {
   "cell_type": "code",
   "execution_count": 114,
   "metadata": {},
   "outputs": [
    {
     "data": {
      "text/plain": [
       "DatetimeIndex(['1991-11-06', '1991-11-07', '1991-11-08', '1991-11-11',\n",
       "               '1991-11-12', '1991-11-13', '1991-11-14', '1991-11-15',\n",
       "               '1991-11-18', '1991-11-19', '1991-11-20', '1991-11-21',\n",
       "               '1991-11-22', '1991-11-25', '1991-11-26', '1991-11-27',\n",
       "               '1991-11-28', '1991-11-29', '1991-12-02', '1991-12-03',\n",
       "               '1991-12-04', '1991-12-05', '1991-12-06', '1991-12-09',\n",
       "               '1991-12-10', '1991-12-11', '1991-12-12', '1991-12-13',\n",
       "               '1991-12-16', '1991-12-17', '1991-12-18', '1991-12-19',\n",
       "               '1991-12-20', '1991-12-23', '1991-12-24', '1991-12-25',\n",
       "               '1991-12-26', '1991-12-27', '1991-12-30', '1991-12-31'],\n",
       "              dtype='datetime64[ns]', freq='B')"
      ]
     },
     "execution_count": 114,
     "metadata": {},
     "output_type": "execute_result"
    }
   ],
   "source": [
    "pd.date_range(end=\"1991-12-31\",periods=40,freq=\"B\")\n",
    "#business days, 31 dec is week day so it is included"
   ]
  },
  {
   "cell_type": "code",
   "execution_count": 115,
   "metadata": {
    "scrolled": true
   },
   "outputs": [
    {
     "data": {
      "text/plain": [
       "DatetimeIndex(['1991-03-31', '1991-04-07', '1991-04-14', '1991-04-21',\n",
       "               '1991-04-28', '1991-05-05', '1991-05-12', '1991-05-19',\n",
       "               '1991-05-26', '1991-06-02', '1991-06-09', '1991-06-16',\n",
       "               '1991-06-23', '1991-06-30', '1991-07-07', '1991-07-14',\n",
       "               '1991-07-21', '1991-07-28', '1991-08-04', '1991-08-11',\n",
       "               '1991-08-18', '1991-08-25', '1991-09-01', '1991-09-08',\n",
       "               '1991-09-15', '1991-09-22', '1991-09-29', '1991-10-06',\n",
       "               '1991-10-13', '1991-10-20', '1991-10-27', '1991-11-03',\n",
       "               '1991-11-10', '1991-11-17', '1991-11-24', '1991-12-01',\n",
       "               '1991-12-08', '1991-12-15', '1991-12-22', '1991-12-29'],\n",
       "              dtype='datetime64[ns]', freq='W-SUN')"
      ]
     },
     "execution_count": 115,
     "metadata": {},
     "output_type": "execute_result"
    }
   ],
   "source": [
    "pd.date_range(end=\"1991-12-31\",periods=40,freq=\"W-SUN\")\n",
    "#40 dates all on Sunday, dec 31 doesnt fall on Sunday so not included"
   ]
  },
  {
   "cell_type": "code",
   "execution_count": 116,
   "metadata": {
    "scrolled": true
   },
   "outputs": [
    {
     "data": {
      "text/plain": [
       "DatetimeIndex(['1991-03-29', '1991-04-05', '1991-04-12', '1991-04-19',\n",
       "               '1991-04-26', '1991-05-03', '1991-05-10', '1991-05-17',\n",
       "               '1991-05-24', '1991-05-31', '1991-06-07', '1991-06-14',\n",
       "               '1991-06-21', '1991-06-28', '1991-07-05', '1991-07-12',\n",
       "               '1991-07-19', '1991-07-26', '1991-08-02', '1991-08-09',\n",
       "               '1991-08-16', '1991-08-23', '1991-08-30', '1991-09-06',\n",
       "               '1991-09-13', '1991-09-20', '1991-09-27', '1991-10-04',\n",
       "               '1991-10-11', '1991-10-18', '1991-10-25', '1991-11-01',\n",
       "               '1991-11-08', '1991-11-15', '1991-11-22', '1991-11-29',\n",
       "               '1991-12-06', '1991-12-13', '1991-12-20', '1991-12-27'],\n",
       "              dtype='datetime64[ns]', freq='W-FRI')"
      ]
     },
     "execution_count": 116,
     "metadata": {},
     "output_type": "execute_result"
    }
   ],
   "source": [
    "pd.date_range(end=\"1991-12-31\",periods=40,freq=\"W-FRI\")"
   ]
  },
  {
   "cell_type": "code",
   "execution_count": 117,
   "metadata": {
    "scrolled": true
   },
   "outputs": [
    {
     "data": {
      "text/plain": [
       "DatetimeIndex(['1988-09-30', '1988-10-31', '1988-11-30', '1988-12-31',\n",
       "               '1989-01-31', '1989-02-28', '1989-03-31', '1989-04-30',\n",
       "               '1989-05-31', '1989-06-30', '1989-07-31', '1989-08-31',\n",
       "               '1989-09-30', '1989-10-31', '1989-11-30', '1989-12-31',\n",
       "               '1990-01-31', '1990-02-28', '1990-03-31', '1990-04-30',\n",
       "               '1990-05-31', '1990-06-30', '1990-07-31', '1990-08-31',\n",
       "               '1990-09-30', '1990-10-31', '1990-11-30', '1990-12-31',\n",
       "               '1991-01-31', '1991-02-28', '1991-03-31', '1991-04-30',\n",
       "               '1991-05-31', '1991-06-30', '1991-07-31', '1991-08-31',\n",
       "               '1991-09-30', '1991-10-31', '1991-11-30', '1991-12-31'],\n",
       "              dtype='datetime64[ns]', freq='M')"
      ]
     },
     "execution_count": 117,
     "metadata": {},
     "output_type": "execute_result"
    }
   ],
   "source": [
    "pd.date_range(end=\"1991-12-31\",periods=40,freq=\"M\")\n",
    "#month ends"
   ]
  },
  {
   "cell_type": "code",
   "execution_count": 120,
   "metadata": {},
   "outputs": [
    {
     "data": {
      "text/plain": [
       "DatetimeIndex(['1995-08-01', '1995-09-01', '1995-10-01', '1995-11-01',\n",
       "               '1995-12-01', '1996-01-01', '1996-02-01', '1996-03-01',\n",
       "               '1996-04-01', '1996-05-01', '1996-06-01', '1996-07-01',\n",
       "               '1996-08-01', '1996-09-01', '1996-10-01', '1996-11-01',\n",
       "               '1996-12-01', '1997-01-01', '1997-02-01', '1997-03-01',\n",
       "               '1997-04-01', '1997-05-01', '1997-06-01', '1997-07-01',\n",
       "               '1997-08-01', '1997-09-01', '1997-10-01', '1997-11-01',\n",
       "               '1997-12-01', '1998-01-01', '1998-02-01', '1998-03-01',\n",
       "               '1998-04-01', '1998-05-01', '1998-06-01', '1998-07-01',\n",
       "               '1998-08-01', '1998-09-01', '1998-10-01', '1998-11-01',\n",
       "               '1998-12-01', '1999-01-01', '1999-02-01', '1999-03-01',\n",
       "               '1999-04-01', '1999-05-01', '1999-06-01', '1999-07-01',\n",
       "               '1999-08-01', '1999-09-01', '1999-10-01', '1999-11-01',\n",
       "               '1999-12-01'],\n",
       "              dtype='datetime64[ns]', freq='MS')"
      ]
     },
     "execution_count": 120,
     "metadata": {},
     "output_type": "execute_result"
    }
   ],
   "source": [
    "#month starts\n",
    "pd.date_range(end=\"1999-12-31\",periods=53,freq=\"MS\")\n",
    "#now Dec 01,1999"
   ]
  },
  {
   "cell_type": "code",
   "execution_count": 122,
   "metadata": {
    "scrolled": true
   },
   "outputs": [
    {
     "data": {
      "text/plain": [
       "DatetimeIndex(['1999-12-02 03:00:00', '1999-12-02 10:00:00',\n",
       "               '1999-12-02 17:00:00', '1999-12-03 00:00:00',\n",
       "               '1999-12-03 07:00:00', '1999-12-03 14:00:00',\n",
       "               '1999-12-03 21:00:00', '1999-12-04 04:00:00',\n",
       "               '1999-12-04 11:00:00', '1999-12-04 18:00:00',\n",
       "               '1999-12-05 01:00:00', '1999-12-05 08:00:00',\n",
       "               '1999-12-05 15:00:00', '1999-12-05 22:00:00',\n",
       "               '1999-12-06 05:00:00', '1999-12-06 12:00:00',\n",
       "               '1999-12-06 19:00:00', '1999-12-07 02:00:00',\n",
       "               '1999-12-07 09:00:00', '1999-12-07 16:00:00',\n",
       "               '1999-12-07 23:00:00', '1999-12-08 06:00:00',\n",
       "               '1999-12-08 13:00:00', '1999-12-08 20:00:00',\n",
       "               '1999-12-09 03:00:00', '1999-12-09 10:00:00',\n",
       "               '1999-12-09 17:00:00', '1999-12-10 00:00:00',\n",
       "               '1999-12-10 07:00:00', '1999-12-10 14:00:00',\n",
       "               '1999-12-10 21:00:00', '1999-12-11 04:00:00',\n",
       "               '1999-12-11 11:00:00', '1999-12-11 18:00:00',\n",
       "               '1999-12-12 01:00:00', '1999-12-12 08:00:00',\n",
       "               '1999-12-12 15:00:00', '1999-12-12 22:00:00',\n",
       "               '1999-12-13 05:00:00', '1999-12-13 12:00:00',\n",
       "               '1999-12-13 19:00:00', '1999-12-14 02:00:00',\n",
       "               '1999-12-14 09:00:00', '1999-12-14 16:00:00',\n",
       "               '1999-12-14 23:00:00', '1999-12-15 06:00:00',\n",
       "               '1999-12-15 13:00:00', '1999-12-15 20:00:00',\n",
       "               '1999-12-16 03:00:00', '1999-12-16 10:00:00',\n",
       "               '1999-12-16 17:00:00', '1999-12-17 00:00:00',\n",
       "               '1999-12-17 07:00:00', '1999-12-17 14:00:00',\n",
       "               '1999-12-17 21:00:00', '1999-12-18 04:00:00',\n",
       "               '1999-12-18 11:00:00', '1999-12-18 18:00:00',\n",
       "               '1999-12-19 01:00:00', '1999-12-19 08:00:00',\n",
       "               '1999-12-19 15:00:00', '1999-12-19 22:00:00',\n",
       "               '1999-12-20 05:00:00', '1999-12-20 12:00:00',\n",
       "               '1999-12-20 19:00:00', '1999-12-21 02:00:00',\n",
       "               '1999-12-21 09:00:00', '1999-12-21 16:00:00',\n",
       "               '1999-12-21 23:00:00', '1999-12-22 06:00:00',\n",
       "               '1999-12-22 13:00:00', '1999-12-22 20:00:00',\n",
       "               '1999-12-23 03:00:00', '1999-12-23 10:00:00',\n",
       "               '1999-12-23 17:00:00', '1999-12-24 00:00:00',\n",
       "               '1999-12-24 07:00:00', '1999-12-24 14:00:00',\n",
       "               '1999-12-24 21:00:00', '1999-12-25 04:00:00',\n",
       "               '1999-12-25 11:00:00', '1999-12-25 18:00:00',\n",
       "               '1999-12-26 01:00:00', '1999-12-26 08:00:00',\n",
       "               '1999-12-26 15:00:00', '1999-12-26 22:00:00',\n",
       "               '1999-12-27 05:00:00', '1999-12-27 12:00:00',\n",
       "               '1999-12-27 19:00:00', '1999-12-28 02:00:00',\n",
       "               '1999-12-28 09:00:00', '1999-12-28 16:00:00',\n",
       "               '1999-12-28 23:00:00', '1999-12-29 06:00:00',\n",
       "               '1999-12-29 13:00:00', '1999-12-29 20:00:00',\n",
       "               '1999-12-30 03:00:00', '1999-12-30 10:00:00',\n",
       "               '1999-12-30 17:00:00', '1999-12-31 00:00:00'],\n",
       "              dtype='datetime64[ns]', freq='7H')"
      ]
     },
     "execution_count": 122,
     "metadata": {},
     "output_type": "execute_result"
    }
   ],
   "source": [
    "pd.date_range(end=\"1999-12-31\",periods=100,freq=\"7H\")\n",
    "#moving back in increments of 7 hours moving backwards"
   ]
  },
  {
   "cell_type": "markdown",
   "metadata": {},
   "source": [
    "### The .dt Accessor"
   ]
  },
  {
   "cell_type": "markdown",
   "metadata": {},
   "source": [
    "142. The .dt Accessor"
   ]
  },
  {
   "cell_type": "code",
   "execution_count": 123,
   "metadata": {},
   "outputs": [],
   "source": [
    "#similar to str accessor\n",
    "#in order to access a series with datetime, we need dt accessor\n",
    "#similar to the way we called str accessor before calling a method"
   ]
  },
  {
   "cell_type": "code",
   "execution_count": 124,
   "metadata": {},
   "outputs": [
    {
     "data": {
      "text/plain": [
       "DatetimeIndex(['2000-01-01', '2000-01-25', '2000-02-18', '2000-03-13',\n",
       "               '2000-04-06', '2000-04-30', '2000-05-24', '2000-06-17',\n",
       "               '2000-07-11', '2000-08-04',\n",
       "               ...\n",
       "               '2010-05-20', '2010-06-13', '2010-07-07', '2010-07-31',\n",
       "               '2010-08-24', '2010-09-17', '2010-10-11', '2010-11-04',\n",
       "               '2010-11-28', '2010-12-22'],\n",
       "              dtype='datetime64[ns]', length=168, freq='24D')"
      ]
     },
     "execution_count": 124,
     "metadata": {},
     "output_type": "execute_result"
    }
   ],
   "source": [
    "#lets first create a datetimeINdex\n",
    "pd.date_range(start=\"2000-01-01\",end=\"2010-12-31\",freq=\"24D\")"
   ]
  },
  {
   "cell_type": "code",
   "execution_count": 125,
   "metadata": {},
   "outputs": [],
   "source": [
    "bunch_of_dates=pd.date_range(start=\"2000-01-01\",end=\"2010-12-31\",freq=\"24D\")"
   ]
  },
  {
   "cell_type": "code",
   "execution_count": 126,
   "metadata": {},
   "outputs": [
    {
     "data": {
      "text/plain": [
       "0     2000-01-01\n",
       "1     2000-01-25\n",
       "2     2000-02-18\n",
       "3     2000-03-13\n",
       "4     2000-04-06\n",
       "         ...    \n",
       "163   2010-09-17\n",
       "164   2010-10-11\n",
       "165   2010-11-04\n",
       "166   2010-11-28\n",
       "167   2010-12-22\n",
       "Length: 168, dtype: datetime64[ns]"
      ]
     },
     "execution_count": 126,
     "metadata": {},
     "output_type": "execute_result"
    }
   ],
   "source": [
    "pd.Series(bunch_of_dates)\n",
    "#now we get series of dates"
   ]
  },
  {
   "cell_type": "code",
   "execution_count": 127,
   "metadata": {},
   "outputs": [
    {
     "data": {
      "text/plain": [
       "0   2000-01-01\n",
       "1   2000-01-25\n",
       "2   2000-02-18\n",
       "dtype: datetime64[ns]"
      ]
     },
     "execution_count": 127,
     "metadata": {},
     "output_type": "execute_result"
    }
   ],
   "source": [
    "s=pd.Series(bunch_of_dates)\n",
    "s.head(3)"
   ]
  },
  {
   "cell_type": "code",
   "execution_count": 128,
   "metadata": {},
   "outputs": [
    {
     "data": {
      "text/plain": [
       "0       1\n",
       "1      25\n",
       "2      18\n",
       "3      13\n",
       "4       6\n",
       "       ..\n",
       "163    17\n",
       "164    11\n",
       "165     4\n",
       "166    28\n",
       "167    22\n",
       "Length: 168, dtype: int64"
      ]
     },
     "execution_count": 128,
     "metadata": {},
     "output_type": "execute_result"
    }
   ],
   "source": [
    "#lets say we want to extract day from each of value in our date series\n",
    "#s.day  - we cant call day on our series directly as we did in our date or datetime object\n",
    "s.dt.day\n",
    "#we ned datetime accessor dt"
   ]
  },
  {
   "cell_type": "code",
   "execution_count": 129,
   "metadata": {},
   "outputs": [
    {
     "data": {
      "text/plain": [
       "0       1\n",
       "1       1\n",
       "2       2\n",
       "3       3\n",
       "4       4\n",
       "       ..\n",
       "163     9\n",
       "164    10\n",
       "165    11\n",
       "166    11\n",
       "167    12\n",
       "Length: 168, dtype: int64"
      ]
     },
     "execution_count": 129,
     "metadata": {},
     "output_type": "execute_result"
    }
   ],
   "source": [
    "#we get month\n",
    "s.dt.month"
   ]
  },
  {
   "cell_type": "code",
   "execution_count": 135,
   "metadata": {},
   "outputs": [
    {
     "data": {
      "text/plain": [
       "0      5\n",
       "1      1\n",
       "2      4\n",
       "3      0\n",
       "4      3\n",
       "      ..\n",
       "163    4\n",
       "164    0\n",
       "165    3\n",
       "166    6\n",
       "167    2\n",
       "Length: 168, dtype: int64"
      ]
     },
     "execution_count": 135,
     "metadata": {},
     "output_type": "execute_result"
    }
   ],
   "source": [
    "s.dt.weekday\n",
    "#helpful with financial data"
   ]
  },
  {
   "cell_type": "code",
   "execution_count": 136,
   "metadata": {},
   "outputs": [
    {
     "data": {
      "text/plain": [
       "0       True\n",
       "1      False\n",
       "2      False\n",
       "3      False\n",
       "4      False\n",
       "       ...  \n",
       "163    False\n",
       "164    False\n",
       "165    False\n",
       "166    False\n",
       "167    False\n",
       "Length: 168, dtype: bool"
      ]
     },
     "execution_count": 136,
     "metadata": {},
     "output_type": "execute_result"
    }
   ],
   "source": [
    "#lets say we have these dates and we want to see which of these fall on quarter\n",
    "s.dt.is_quarter_start\n",
    "#press tab after s.dt. to see possible attributes"
   ]
  },
  {
   "cell_type": "code",
   "execution_count": 137,
   "metadata": {},
   "outputs": [
    {
     "data": {
      "text/plain": [
       "0     2000-01-01\n",
       "19    2001-04-01\n",
       "38    2002-07-01\n",
       "137   2009-01-01\n",
       "dtype: datetime64[ns]"
      ]
     },
     "execution_count": 137,
     "metadata": {},
     "output_type": "execute_result"
    }
   ],
   "source": [
    "mask=s.dt.is_quarter_start\n",
    "s[mask]\n",
    "#now we get only those series that falls on start of quarter"
   ]
  },
  {
   "cell_type": "code",
   "execution_count": 138,
   "metadata": {},
   "outputs": [
    {
     "data": {
      "text/plain": [
       "0     2000-01-01\n",
       "19    2001-04-01\n",
       "38    2002-07-01\n",
       "104   2006-11-01\n",
       "109   2007-03-01\n",
       "137   2009-01-01\n",
       "142   2009-05-01\n",
       "dtype: datetime64[ns]"
      ]
     },
     "execution_count": 138,
     "metadata": {},
     "output_type": "execute_result"
    }
   ],
   "source": [
    "mask=s.dt.is_month_start\n",
    "s[mask]\n",
    "#we get dates on begining of month"
   ]
  },
  {
   "cell_type": "code",
   "execution_count": 139,
   "metadata": {},
   "outputs": [
    {
     "data": {
      "text/plain": [
       "5     2000-04-30\n",
       "57    2003-09-30\n",
       "71    2004-08-31\n",
       "90    2005-11-30\n",
       "123   2008-01-31\n",
       "161   2010-07-31\n",
       "dtype: datetime64[ns]"
      ]
     },
     "execution_count": 139,
     "metadata": {},
     "output_type": "execute_result"
    }
   ],
   "source": [
    "mask=s.dt.is_month_end\n",
    "s[mask]"
   ]
  },
  {
   "cell_type": "markdown",
   "metadata": {},
   "source": [
    "### Install pandas-datareader Library"
   ]
  },
  {
   "cell_type": "code",
   "execution_count": 1,
   "metadata": {},
   "outputs": [],
   "source": [
    "# we need to install aditional library that we need to import inside jupyter notebook\n",
    "# in order to get dataset for next couple of lessons\n",
    "# pandas-datareader is a library\n",
    "# it goes to server such as Yahoo Finance and fetches a bunch of data for us and converts it into dataframe\n",
    "# great example is stock data"
   ]
  },
  {
   "cell_type": "code",
   "execution_count": 2,
   "metadata": {},
   "outputs": [],
   "source": [
    "#Go to windows and open anaconda prompt\n",
    "#conda info --envs command to see all installed environments on your computer\n",
    "#conda activate pandas_playground\n",
    "#the command to install a package or library: conda install pandas-datareader\n",
    "#to install, we press y to confirm\n",
    "#then launch jupyter notebook\n"
   ]
  },
  {
   "cell_type": "code",
   "execution_count": null,
   "metadata": {},
   "outputs": [],
   "source": []
  },
  {
   "cell_type": "code",
   "execution_count": null,
   "metadata": {},
   "outputs": [],
   "source": []
  },
  {
   "cell_type": "code",
   "execution_count": null,
   "metadata": {},
   "outputs": [],
   "source": []
  },
  {
   "cell_type": "code",
   "execution_count": null,
   "metadata": {},
   "outputs": [],
   "source": []
  },
  {
   "cell_type": "code",
   "execution_count": null,
   "metadata": {},
   "outputs": [],
   "source": []
  },
  {
   "cell_type": "code",
   "execution_count": null,
   "metadata": {},
   "outputs": [],
   "source": []
  },
  {
   "cell_type": "code",
   "execution_count": null,
   "metadata": {},
   "outputs": [],
   "source": []
  },
  {
   "cell_type": "code",
   "execution_count": null,
   "metadata": {},
   "outputs": [],
   "source": []
  },
  {
   "cell_type": "code",
   "execution_count": null,
   "metadata": {},
   "outputs": [],
   "source": []
  },
  {
   "cell_type": "code",
   "execution_count": null,
   "metadata": {},
   "outputs": [],
   "source": []
  },
  {
   "cell_type": "code",
   "execution_count": null,
   "metadata": {},
   "outputs": [],
   "source": []
  },
  {
   "cell_type": "code",
   "execution_count": null,
   "metadata": {},
   "outputs": [],
   "source": []
  },
  {
   "cell_type": "code",
   "execution_count": null,
   "metadata": {},
   "outputs": [],
   "source": []
  },
  {
   "cell_type": "code",
   "execution_count": null,
   "metadata": {},
   "outputs": [],
   "source": []
  }
 ],
 "metadata": {
  "kernelspec": {
   "display_name": "Python 3",
   "language": "python",
   "name": "python3"
  },
  "language_info": {
   "codemirror_mode": {
    "name": "ipython",
    "version": 3
   },
   "file_extension": ".py",
   "mimetype": "text/x-python",
   "name": "python",
   "nbconvert_exporter": "python",
   "pygments_lexer": "ipython3",
   "version": "3.8.5"
  }
 },
 "nbformat": 4,
 "nbformat_minor": 4
}
