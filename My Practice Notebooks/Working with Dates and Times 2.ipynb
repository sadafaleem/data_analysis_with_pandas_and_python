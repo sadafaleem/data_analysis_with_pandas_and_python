{
 "cells": [
  {
   "cell_type": "markdown",
   "metadata": {},
   "source": [
    "### Import Financial Data Set with pandas_datareader Library"
   ]
  },
  {
   "cell_type": "markdown",
   "metadata": {},
   "source": [
    "144. Import Financial Data Set with pandas_datareader Library"
   ]
  },
  {
   "cell_type": "code",
   "execution_count": 2,
   "metadata": {},
   "outputs": [],
   "source": [
    "import pandas as pd\n",
    "import datetime as dt\n",
    "#we reach into data-reader library and extract attribute called data\n",
    "from pandas_datareader import data"
   ]
  },
  {
   "cell_type": "code",
   "execution_count": null,
   "metadata": {},
   "outputs": [],
   "source": [
    "import pandas_datareader\n",
    "pandas_datareader.data\n",
    "#another way of achieving this"
   ]
  },
  {
   "cell_type": "code",
   "execution_count": null,
   "metadata": {},
   "outputs": [],
   "source": [
    "#data.\n",
    "#press tab after data. to see available attributes and methods"
   ]
  },
  {
   "cell_type": "code",
   "execution_count": 3,
   "metadata": {
    "scrolled": true
   },
   "outputs": [
    {
     "data": {
      "text/html": [
       "<div>\n",
       "<style scoped>\n",
       "    .dataframe tbody tr th:only-of-type {\n",
       "        vertical-align: middle;\n",
       "    }\n",
       "\n",
       "    .dataframe tbody tr th {\n",
       "        vertical-align: top;\n",
       "    }\n",
       "\n",
       "    .dataframe thead th {\n",
       "        text-align: right;\n",
       "    }\n",
       "</style>\n",
       "<table border=\"1\" class=\"dataframe\">\n",
       "  <thead>\n",
       "    <tr style=\"text-align: right;\">\n",
       "      <th></th>\n",
       "      <th>High</th>\n",
       "      <th>Low</th>\n",
       "      <th>Open</th>\n",
       "      <th>Close</th>\n",
       "      <th>Volume</th>\n",
       "      <th>Adj Close</th>\n",
       "    </tr>\n",
       "    <tr>\n",
       "      <th>Date</th>\n",
       "      <th></th>\n",
       "      <th></th>\n",
       "      <th></th>\n",
       "      <th></th>\n",
       "      <th></th>\n",
       "      <th></th>\n",
       "    </tr>\n",
       "  </thead>\n",
       "  <tbody>\n",
       "    <tr>\n",
       "      <th>2009-12-31</th>\n",
       "      <td>30.990000</td>\n",
       "      <td>30.480000</td>\n",
       "      <td>30.980000</td>\n",
       "      <td>30.480000</td>\n",
       "      <td>31929700.0</td>\n",
       "      <td>23.739305</td>\n",
       "    </tr>\n",
       "    <tr>\n",
       "      <th>2010-01-04</th>\n",
       "      <td>31.100000</td>\n",
       "      <td>30.590000</td>\n",
       "      <td>30.620001</td>\n",
       "      <td>30.950001</td>\n",
       "      <td>38409100.0</td>\n",
       "      <td>24.105360</td>\n",
       "    </tr>\n",
       "    <tr>\n",
       "      <th>2010-01-05</th>\n",
       "      <td>31.100000</td>\n",
       "      <td>30.639999</td>\n",
       "      <td>30.850000</td>\n",
       "      <td>30.959999</td>\n",
       "      <td>49749600.0</td>\n",
       "      <td>24.113148</td>\n",
       "    </tr>\n",
       "    <tr>\n",
       "      <th>2010-01-06</th>\n",
       "      <td>31.080000</td>\n",
       "      <td>30.520000</td>\n",
       "      <td>30.879999</td>\n",
       "      <td>30.770000</td>\n",
       "      <td>58182400.0</td>\n",
       "      <td>23.965164</td>\n",
       "    </tr>\n",
       "    <tr>\n",
       "      <th>2010-01-07</th>\n",
       "      <td>30.700001</td>\n",
       "      <td>30.190001</td>\n",
       "      <td>30.629999</td>\n",
       "      <td>30.450001</td>\n",
       "      <td>50559700.0</td>\n",
       "      <td>23.715933</td>\n",
       "    </tr>\n",
       "    <tr>\n",
       "      <th>...</th>\n",
       "      <td>...</td>\n",
       "      <td>...</td>\n",
       "      <td>...</td>\n",
       "      <td>...</td>\n",
       "      <td>...</td>\n",
       "      <td>...</td>\n",
       "    </tr>\n",
       "    <tr>\n",
       "      <th>2020-11-20</th>\n",
       "      <td>213.289993</td>\n",
       "      <td>210.000000</td>\n",
       "      <td>212.199997</td>\n",
       "      <td>210.389999</td>\n",
       "      <td>22829100.0</td>\n",
       "      <td>210.389999</td>\n",
       "    </tr>\n",
       "    <tr>\n",
       "      <th>2020-11-23</th>\n",
       "      <td>212.289993</td>\n",
       "      <td>208.160004</td>\n",
       "      <td>210.949997</td>\n",
       "      <td>210.110001</td>\n",
       "      <td>25683500.0</td>\n",
       "      <td>210.110001</td>\n",
       "    </tr>\n",
       "    <tr>\n",
       "      <th>2020-11-24</th>\n",
       "      <td>214.250000</td>\n",
       "      <td>208.860001</td>\n",
       "      <td>209.589996</td>\n",
       "      <td>213.860001</td>\n",
       "      <td>33979700.0</td>\n",
       "      <td>213.860001</td>\n",
       "    </tr>\n",
       "    <tr>\n",
       "      <th>2020-11-25</th>\n",
       "      <td>215.289993</td>\n",
       "      <td>212.460007</td>\n",
       "      <td>215.110001</td>\n",
       "      <td>213.869995</td>\n",
       "      <td>21012900.0</td>\n",
       "      <td>213.869995</td>\n",
       "    </tr>\n",
       "    <tr>\n",
       "      <th>2020-11-27</th>\n",
       "      <td>216.270004</td>\n",
       "      <td>214.039993</td>\n",
       "      <td>214.850006</td>\n",
       "      <td>215.229996</td>\n",
       "      <td>14512200.0</td>\n",
       "      <td>215.229996</td>\n",
       "    </tr>\n",
       "  </tbody>\n",
       "</table>\n",
       "<p>2747 rows × 6 columns</p>\n",
       "</div>"
      ],
      "text/plain": [
       "                  High         Low        Open       Close      Volume  \\\n",
       "Date                                                                     \n",
       "2009-12-31   30.990000   30.480000   30.980000   30.480000  31929700.0   \n",
       "2010-01-04   31.100000   30.590000   30.620001   30.950001  38409100.0   \n",
       "2010-01-05   31.100000   30.639999   30.850000   30.959999  49749600.0   \n",
       "2010-01-06   31.080000   30.520000   30.879999   30.770000  58182400.0   \n",
       "2010-01-07   30.700001   30.190001   30.629999   30.450001  50559700.0   \n",
       "...                ...         ...         ...         ...         ...   \n",
       "2020-11-20  213.289993  210.000000  212.199997  210.389999  22829100.0   \n",
       "2020-11-23  212.289993  208.160004  210.949997  210.110001  25683500.0   \n",
       "2020-11-24  214.250000  208.860001  209.589996  213.860001  33979700.0   \n",
       "2020-11-25  215.289993  212.460007  215.110001  213.869995  21012900.0   \n",
       "2020-11-27  216.270004  214.039993  214.850006  215.229996  14512200.0   \n",
       "\n",
       "             Adj Close  \n",
       "Date                    \n",
       "2009-12-31   23.739305  \n",
       "2010-01-04   24.105360  \n",
       "2010-01-05   24.113148  \n",
       "2010-01-06   23.965164  \n",
       "2010-01-07   23.715933  \n",
       "...                ...  \n",
       "2020-11-20  210.389999  \n",
       "2020-11-23  210.110001  \n",
       "2020-11-24  213.860001  \n",
       "2020-11-25  213.869995  \n",
       "2020-11-27  215.229996  \n",
       "\n",
       "[2747 rows x 6 columns]"
      ]
     },
     "execution_count": 3,
     "metadata": {},
     "output_type": "execute_result"
    }
   ],
   "source": [
    "data.DataReader(name=\"MSFT\",data_source=\"yahoo\",start=\"2010-01-01\",end=\"2020-12-31\")\n",
    "# name parameter will represent name of company\n",
    "#in this lesson we pull data from microsoft called MSFT\n",
    "# data_source represents where to pull data from\n",
    "#for now our datasource is going to be yahoo\n",
    "#we can also write start and end date"
   ]
  },
  {
   "cell_type": "code",
   "execution_count": null,
   "metadata": {},
   "outputs": [],
   "source": [
    "#it takes time b/c pandas is making data request over the internet\n",
    "#we have datetime Index\n",
    "#this is all financial data"
   ]
  },
  {
   "cell_type": "code",
   "execution_count": 4,
   "metadata": {},
   "outputs": [
    {
     "data": {
      "text/html": [
       "<div>\n",
       "<style scoped>\n",
       "    .dataframe tbody tr th:only-of-type {\n",
       "        vertical-align: middle;\n",
       "    }\n",
       "\n",
       "    .dataframe tbody tr th {\n",
       "        vertical-align: top;\n",
       "    }\n",
       "\n",
       "    .dataframe thead th {\n",
       "        text-align: right;\n",
       "    }\n",
       "</style>\n",
       "<table border=\"1\" class=\"dataframe\">\n",
       "  <thead>\n",
       "    <tr style=\"text-align: right;\">\n",
       "      <th></th>\n",
       "      <th>High</th>\n",
       "      <th>Low</th>\n",
       "      <th>Open</th>\n",
       "      <th>Close</th>\n",
       "      <th>Volume</th>\n",
       "      <th>Adj Close</th>\n",
       "    </tr>\n",
       "    <tr>\n",
       "      <th>Date</th>\n",
       "      <th></th>\n",
       "      <th></th>\n",
       "      <th></th>\n",
       "      <th></th>\n",
       "      <th></th>\n",
       "      <th></th>\n",
       "    </tr>\n",
       "  </thead>\n",
       "  <tbody>\n",
       "    <tr>\n",
       "      <th>2009-12-31</th>\n",
       "      <td>30.99</td>\n",
       "      <td>30.480000</td>\n",
       "      <td>30.980000</td>\n",
       "      <td>30.480000</td>\n",
       "      <td>31929700.0</td>\n",
       "      <td>23.739305</td>\n",
       "    </tr>\n",
       "    <tr>\n",
       "      <th>2010-01-04</th>\n",
       "      <td>31.10</td>\n",
       "      <td>30.590000</td>\n",
       "      <td>30.620001</td>\n",
       "      <td>30.950001</td>\n",
       "      <td>38409100.0</td>\n",
       "      <td>24.105360</td>\n",
       "    </tr>\n",
       "    <tr>\n",
       "      <th>2010-01-05</th>\n",
       "      <td>31.10</td>\n",
       "      <td>30.639999</td>\n",
       "      <td>30.850000</td>\n",
       "      <td>30.959999</td>\n",
       "      <td>49749600.0</td>\n",
       "      <td>24.113148</td>\n",
       "    </tr>\n",
       "  </tbody>\n",
       "</table>\n",
       "</div>"
      ],
      "text/plain": [
       "             High        Low       Open      Close      Volume  Adj Close\n",
       "Date                                                                     \n",
       "2009-12-31  30.99  30.480000  30.980000  30.480000  31929700.0  23.739305\n",
       "2010-01-04  31.10  30.590000  30.620001  30.950001  38409100.0  24.105360\n",
       "2010-01-05  31.10  30.639999  30.850000  30.959999  49749600.0  24.113148"
      ]
     },
     "execution_count": 4,
     "metadata": {},
     "output_type": "execute_result"
    }
   ],
   "source": [
    "stock=data.DataReader(name=\"MSFT\",data_source=\"yahoo\",start=\"2010-01-01\",end=\"2020-12-31\")\n",
    "stock.head(3)"
   ]
  },
  {
   "cell_type": "code",
   "execution_count": 5,
   "metadata": {
    "scrolled": true
   },
   "outputs": [
    {
     "data": {
      "text/plain": [
       "array([[3.09899998e+01, 3.04799995e+01, 3.09799995e+01, 3.04799995e+01,\n",
       "        3.19297000e+07, 2.37393055e+01],\n",
       "       [3.11000004e+01, 3.05900002e+01, 3.06200008e+01, 3.09500008e+01,\n",
       "        3.84091000e+07, 2.41053600e+01],\n",
       "       [3.11000004e+01, 3.06399994e+01, 3.08500004e+01, 3.09599991e+01,\n",
       "        4.97496000e+07, 2.41131477e+01],\n",
       "       ...,\n",
       "       [2.14250000e+02, 2.08860001e+02, 2.09589996e+02, 2.13860001e+02,\n",
       "        3.39797000e+07, 2.13860001e+02],\n",
       "       [2.15289993e+02, 2.12460007e+02, 2.15110001e+02, 2.13869995e+02,\n",
       "        2.10129000e+07, 2.13869995e+02],\n",
       "       [2.16270004e+02, 2.14039993e+02, 2.14850006e+02, 2.15229996e+02,\n",
       "        1.45122000e+07, 2.15229996e+02]])"
      ]
     },
     "execution_count": 5,
     "metadata": {},
     "output_type": "execute_result"
    }
   ],
   "source": [
    "#some attributes we can do on our stock dataframe\n",
    "stock.values"
   ]
  },
  {
   "cell_type": "code",
   "execution_count": 6,
   "metadata": {},
   "outputs": [
    {
     "data": {
      "text/plain": [
       "Index(['High', 'Low', 'Open', 'Close', 'Volume', 'Adj Close'], dtype='object')"
      ]
     },
     "execution_count": 6,
     "metadata": {},
     "output_type": "execute_result"
    }
   ],
   "source": [
    "stock.columns"
   ]
  },
  {
   "cell_type": "code",
   "execution_count": 7,
   "metadata": {},
   "outputs": [
    {
     "data": {
      "text/plain": [
       "DatetimeIndex(['2009-12-31', '2010-01-04', '2010-01-05', '2010-01-06',\n",
       "               '2010-01-07', '2010-01-08', '2010-01-11', '2010-01-12',\n",
       "               '2010-01-13', '2010-01-14',\n",
       "               ...\n",
       "               '2020-11-13', '2020-11-16', '2020-11-17', '2020-11-18',\n",
       "               '2020-11-19', '2020-11-20', '2020-11-23', '2020-11-24',\n",
       "               '2020-11-25', '2020-11-27'],\n",
       "              dtype='datetime64[ns]', name='Date', length=2747, freq=None)"
      ]
     },
     "execution_count": 7,
     "metadata": {},
     "output_type": "execute_result"
    }
   ],
   "source": [
    "stock.index\n",
    "#extracting our index\n",
    "#length=2747 , meaning 2747 index values"
   ]
  },
  {
   "cell_type": "code",
   "execution_count": 8,
   "metadata": {},
   "outputs": [
    {
     "data": {
      "text/plain": [
       "2747"
      ]
     },
     "execution_count": 8,
     "metadata": {},
     "output_type": "execute_result"
    }
   ],
   "source": [
    "len(stock.index)"
   ]
  },
  {
   "cell_type": "code",
   "execution_count": 10,
   "metadata": {},
   "outputs": [
    {
     "data": {
      "text/plain": [
       "[DatetimeIndex(['2009-12-31', '2010-01-04', '2010-01-05', '2010-01-06',\n",
       "                '2010-01-07', '2010-01-08', '2010-01-11', '2010-01-12',\n",
       "                '2010-01-13', '2010-01-14',\n",
       "                ...\n",
       "                '2020-11-13', '2020-11-16', '2020-11-17', '2020-11-18',\n",
       "                '2020-11-19', '2020-11-20', '2020-11-23', '2020-11-24',\n",
       "                '2020-11-25', '2020-11-27'],\n",
       "               dtype='datetime64[ns]', name='Date', length=2747, freq=None),\n",
       " Index(['High', 'Low', 'Open', 'Close', 'Volume', 'Adj Close'], dtype='object')]"
      ]
     },
     "execution_count": 10,
     "metadata": {},
     "output_type": "execute_result"
    }
   ],
   "source": [
    "stock.axes\n",
    "#gives row axis as well as column axis contained within a list"
   ]
  },
  {
   "cell_type": "markdown",
   "metadata": {},
   "source": [
    "### Selecting Rows from a DataFrame with a DateTimeIndex"
   ]
  },
  {
   "cell_type": "markdown",
   "metadata": {},
   "source": [
    "145. Selecting Rows from a DataFrame with a DateTimeIndex"
   ]
  },
  {
   "cell_type": "code",
   "execution_count": 12,
   "metadata": {},
   "outputs": [
    {
     "data": {
      "text/html": [
       "<div>\n",
       "<style scoped>\n",
       "    .dataframe tbody tr th:only-of-type {\n",
       "        vertical-align: middle;\n",
       "    }\n",
       "\n",
       "    .dataframe tbody tr th {\n",
       "        vertical-align: top;\n",
       "    }\n",
       "\n",
       "    .dataframe thead th {\n",
       "        text-align: right;\n",
       "    }\n",
       "</style>\n",
       "<table border=\"1\" class=\"dataframe\">\n",
       "  <thead>\n",
       "    <tr style=\"text-align: right;\">\n",
       "      <th></th>\n",
       "      <th>High</th>\n",
       "      <th>Low</th>\n",
       "      <th>Open</th>\n",
       "      <th>Close</th>\n",
       "      <th>Volume</th>\n",
       "      <th>Adj Close</th>\n",
       "    </tr>\n",
       "    <tr>\n",
       "      <th>Date</th>\n",
       "      <th></th>\n",
       "      <th></th>\n",
       "      <th></th>\n",
       "      <th></th>\n",
       "      <th></th>\n",
       "      <th></th>\n",
       "    </tr>\n",
       "  </thead>\n",
       "  <tbody>\n",
       "    <tr>\n",
       "      <th>2009-12-31</th>\n",
       "      <td>30.99</td>\n",
       "      <td>30.480000</td>\n",
       "      <td>30.980000</td>\n",
       "      <td>30.480000</td>\n",
       "      <td>31929700.0</td>\n",
       "      <td>23.739305</td>\n",
       "    </tr>\n",
       "    <tr>\n",
       "      <th>2010-01-04</th>\n",
       "      <td>31.10</td>\n",
       "      <td>30.590000</td>\n",
       "      <td>30.620001</td>\n",
       "      <td>30.950001</td>\n",
       "      <td>38409100.0</td>\n",
       "      <td>24.105360</td>\n",
       "    </tr>\n",
       "    <tr>\n",
       "      <th>2010-01-05</th>\n",
       "      <td>31.10</td>\n",
       "      <td>30.639999</td>\n",
       "      <td>30.850000</td>\n",
       "      <td>30.959999</td>\n",
       "      <td>49749600.0</td>\n",
       "      <td>24.113148</td>\n",
       "    </tr>\n",
       "  </tbody>\n",
       "</table>\n",
       "</div>"
      ],
      "text/plain": [
       "             High        Low       Open      Close      Volume  Adj Close\n",
       "Date                                                                     \n",
       "2009-12-31  30.99  30.480000  30.980000  30.480000  31929700.0  23.739305\n",
       "2010-01-04  31.10  30.590000  30.620001  30.950001  38409100.0  24.105360\n",
       "2010-01-05  31.10  30.639999  30.850000  30.959999  49749600.0  24.113148"
      ]
     },
     "execution_count": 12,
     "metadata": {},
     "output_type": "execute_result"
    }
   ],
   "source": [
    "stock=data.DataReader(name=\"MSFT\",data_source=\"yahoo\",start=\"2010-01-01\",end=\"2020-12-31\")\n",
    "stock.head(3)"
   ]
  },
  {
   "cell_type": "code",
   "execution_count": 13,
   "metadata": {},
   "outputs": [
    {
     "data": {
      "text/plain": [
       "High         3.110000e+01\n",
       "Low          3.059000e+01\n",
       "Open         3.062000e+01\n",
       "Close        3.095000e+01\n",
       "Volume       3.840910e+07\n",
       "Adj Close    2.410536e+01\n",
       "Name: 2010-01-04 00:00:00, dtype: float64"
      ]
     },
     "execution_count": 13,
     "metadata": {},
     "output_type": "execute_result"
    }
   ],
   "source": [
    "#we will look how we can extract one or more rows either by index label or index position within a dataframe with datetimeIndex\n",
    "#we will use loc and iloc accessor\n",
    "stock.loc[\"2010-01-04\"]\n",
    "#loc accesor targets based on index label within square brackets\n",
    "#string will work here but it is a good idea to wrap this date in pandas timestamp object"
   ]
  },
  {
   "cell_type": "code",
   "execution_count": 16,
   "metadata": {},
   "outputs": [
    {
     "data": {
      "text/plain": [
       "High         3.110000e+01\n",
       "Low          3.059000e+01\n",
       "Open         3.062000e+01\n",
       "Close        3.095000e+01\n",
       "Volume       3.840910e+07\n",
       "Adj Close    2.410536e+01\n",
       "Name: 2010-01-04 00:00:00, dtype: float64"
      ]
     },
     "execution_count": 16,
     "metadata": {},
     "output_type": "execute_result"
    }
   ],
   "source": [
    "stock.loc[pd.Timestamp(\"2010-01-04\")]\n",
    "#we provide string argument\n",
    "#with single string either one of these methods occur"
   ]
  },
  {
   "cell_type": "code",
   "execution_count": 17,
   "metadata": {},
   "outputs": [
    {
     "data": {
      "text/plain": [
       "High         3.099000e+01\n",
       "Low          3.048000e+01\n",
       "Open         3.098000e+01\n",
       "Close        3.048000e+01\n",
       "Volume       3.192970e+07\n",
       "Adj Close    2.373931e+01\n",
       "Name: 2009-12-31 00:00:00, dtype: float64"
      ]
     },
     "execution_count": 17,
     "metadata": {},
     "output_type": "execute_result"
    }
   ],
   "source": [
    "#we have iloc for index position\n",
    "stock.iloc[0]"
   ]
  },
  {
   "cell_type": "code",
   "execution_count": 18,
   "metadata": {},
   "outputs": [
    {
     "data": {
      "text/plain": [
       "High         2.604000e+01\n",
       "Low          2.573000e+01\n",
       "Open         2.591000e+01\n",
       "Close        2.603000e+01\n",
       "Volume       2.320580e+07\n",
       "Adj Close    2.124549e+01\n",
       "Name: 2011-12-23 00:00:00, dtype: float64"
      ]
     },
     "execution_count": 18,
     "metadata": {},
     "output_type": "execute_result"
    }
   ],
   "source": [
    "stock.iloc[500]\n",
    "#501 row in our dataframe"
   ]
  },
  {
   "cell_type": "code",
   "execution_count": 19,
   "metadata": {},
   "outputs": [
    {
     "data": {
      "text/plain": [
       "High         2.162700e+02\n",
       "Low          2.140400e+02\n",
       "Open         2.148500e+02\n",
       "Close        2.152300e+02\n",
       "Volume       1.451220e+07\n",
       "Adj Close    2.152300e+02\n",
       "Name: 2020-11-27 00:00:00, dtype: float64"
      ]
     },
     "execution_count": 19,
     "metadata": {},
     "output_type": "execute_result"
    }
   ],
   "source": [
    "stock.iloc[-1]\n",
    "#to pull out last row in our dataframe"
   ]
  },
  {
   "cell_type": "code",
   "execution_count": 20,
   "metadata": {
    "collapsed": true
   },
   "outputs": [
    {
     "ename": "KeyError",
     "evalue": "'2030-02-04'",
     "output_type": "error",
     "traceback": [
      "\u001b[1;31m---------------------------------------------------------------------------\u001b[0m",
      "\u001b[1;31mKeyError\u001b[0m                                  Traceback (most recent call last)",
      "\u001b[1;32mpandas\\_libs\\index.pyx\u001b[0m in \u001b[0;36mpandas._libs.index.DatetimeEngine.get_loc\u001b[1;34m()\u001b[0m\n",
      "\u001b[1;32mpandas\\_libs\\hashtable_class_helper.pxi\u001b[0m in \u001b[0;36mpandas._libs.hashtable.Int64HashTable.get_item\u001b[1;34m()\u001b[0m\n",
      "\u001b[1;32mpandas\\_libs\\hashtable_class_helper.pxi\u001b[0m in \u001b[0;36mpandas._libs.hashtable.Int64HashTable.get_item\u001b[1;34m()\u001b[0m\n",
      "\u001b[1;31mKeyError\u001b[0m: 1896393600000000000",
      "\nDuring handling of the above exception, another exception occurred:\n",
      "\u001b[1;31mKeyError\u001b[0m                                  Traceback (most recent call last)",
      "\u001b[1;32mC:\\Work\\anaconda3\\envs\\pandas_playground\\lib\\site-packages\\pandas\\core\\indexes\\base.py\u001b[0m in \u001b[0;36mget_loc\u001b[1;34m(self, key, method, tolerance)\u001b[0m\n\u001b[0;32m   2894\u001b[0m             \u001b[1;32mtry\u001b[0m\u001b[1;33m:\u001b[0m\u001b[1;33m\u001b[0m\u001b[1;33m\u001b[0m\u001b[0m\n\u001b[1;32m-> 2895\u001b[1;33m                 \u001b[1;32mreturn\u001b[0m \u001b[0mself\u001b[0m\u001b[1;33m.\u001b[0m\u001b[0m_engine\u001b[0m\u001b[1;33m.\u001b[0m\u001b[0mget_loc\u001b[0m\u001b[1;33m(\u001b[0m\u001b[0mcasted_key\u001b[0m\u001b[1;33m)\u001b[0m\u001b[1;33m\u001b[0m\u001b[1;33m\u001b[0m\u001b[0m\n\u001b[0m\u001b[0;32m   2896\u001b[0m             \u001b[1;32mexcept\u001b[0m \u001b[0mKeyError\u001b[0m \u001b[1;32mas\u001b[0m \u001b[0merr\u001b[0m\u001b[1;33m:\u001b[0m\u001b[1;33m\u001b[0m\u001b[1;33m\u001b[0m\u001b[0m\n",
      "\u001b[1;32mpandas\\_libs\\index.pyx\u001b[0m in \u001b[0;36mpandas._libs.index.DatetimeEngine.get_loc\u001b[1;34m()\u001b[0m\n",
      "\u001b[1;32mpandas\\_libs\\index.pyx\u001b[0m in \u001b[0;36mpandas._libs.index.DatetimeEngine.get_loc\u001b[1;34m()\u001b[0m\n",
      "\u001b[1;31mKeyError\u001b[0m: Timestamp('2030-02-04 00:00:00')",
      "\nThe above exception was the direct cause of the following exception:\n",
      "\u001b[1;31mKeyError\u001b[0m                                  Traceback (most recent call last)",
      "\u001b[1;32mC:\\Work\\anaconda3\\envs\\pandas_playground\\lib\\site-packages\\pandas\\core\\indexes\\datetimes.py\u001b[0m in \u001b[0;36mget_loc\u001b[1;34m(self, key, method, tolerance)\u001b[0m\n\u001b[0;32m    624\u001b[0m         \u001b[1;32mtry\u001b[0m\u001b[1;33m:\u001b[0m\u001b[1;33m\u001b[0m\u001b[1;33m\u001b[0m\u001b[0m\n\u001b[1;32m--> 625\u001b[1;33m             \u001b[1;32mreturn\u001b[0m \u001b[0mIndex\u001b[0m\u001b[1;33m.\u001b[0m\u001b[0mget_loc\u001b[0m\u001b[1;33m(\u001b[0m\u001b[0mself\u001b[0m\u001b[1;33m,\u001b[0m \u001b[0mkey\u001b[0m\u001b[1;33m,\u001b[0m \u001b[0mmethod\u001b[0m\u001b[1;33m,\u001b[0m \u001b[0mtolerance\u001b[0m\u001b[1;33m)\u001b[0m\u001b[1;33m\u001b[0m\u001b[1;33m\u001b[0m\u001b[0m\n\u001b[0m\u001b[0;32m    626\u001b[0m         \u001b[1;32mexcept\u001b[0m \u001b[0mKeyError\u001b[0m \u001b[1;32mas\u001b[0m \u001b[0merr\u001b[0m\u001b[1;33m:\u001b[0m\u001b[1;33m\u001b[0m\u001b[1;33m\u001b[0m\u001b[0m\n",
      "\u001b[1;32mC:\\Work\\anaconda3\\envs\\pandas_playground\\lib\\site-packages\\pandas\\core\\indexes\\base.py\u001b[0m in \u001b[0;36mget_loc\u001b[1;34m(self, key, method, tolerance)\u001b[0m\n\u001b[0;32m   2896\u001b[0m             \u001b[1;32mexcept\u001b[0m \u001b[0mKeyError\u001b[0m \u001b[1;32mas\u001b[0m \u001b[0merr\u001b[0m\u001b[1;33m:\u001b[0m\u001b[1;33m\u001b[0m\u001b[1;33m\u001b[0m\u001b[0m\n\u001b[1;32m-> 2897\u001b[1;33m                 \u001b[1;32mraise\u001b[0m \u001b[0mKeyError\u001b[0m\u001b[1;33m(\u001b[0m\u001b[0mkey\u001b[0m\u001b[1;33m)\u001b[0m \u001b[1;32mfrom\u001b[0m \u001b[0merr\u001b[0m\u001b[1;33m\u001b[0m\u001b[1;33m\u001b[0m\u001b[0m\n\u001b[0m\u001b[0;32m   2898\u001b[0m \u001b[1;33m\u001b[0m\u001b[0m\n",
      "\u001b[1;31mKeyError\u001b[0m: Timestamp('2030-02-04 00:00:00')",
      "\nThe above exception was the direct cause of the following exception:\n",
      "\u001b[1;31mKeyError\u001b[0m                                  Traceback (most recent call last)",
      "\u001b[1;32m<ipython-input-20-ccd0fc557256>\u001b[0m in \u001b[0;36m<module>\u001b[1;34m\u001b[0m\n\u001b[0;32m      1\u001b[0m \u001b[1;31m#a date that doesnt exist will give you an error\u001b[0m\u001b[1;33m\u001b[0m\u001b[1;33m\u001b[0m\u001b[1;33m\u001b[0m\u001b[0m\n\u001b[1;32m----> 2\u001b[1;33m \u001b[0mstock\u001b[0m\u001b[1;33m.\u001b[0m\u001b[0mloc\u001b[0m\u001b[1;33m[\u001b[0m\u001b[1;34m\"2030-02-04\"\u001b[0m\u001b[1;33m]\u001b[0m\u001b[1;33m\u001b[0m\u001b[1;33m\u001b[0m\u001b[0m\n\u001b[0m",
      "\u001b[1;32mC:\\Work\\anaconda3\\envs\\pandas_playground\\lib\\site-packages\\pandas\\core\\indexing.py\u001b[0m in \u001b[0;36m__getitem__\u001b[1;34m(self, key)\u001b[0m\n\u001b[0;32m    877\u001b[0m \u001b[1;33m\u001b[0m\u001b[0m\n\u001b[0;32m    878\u001b[0m             \u001b[0mmaybe_callable\u001b[0m \u001b[1;33m=\u001b[0m \u001b[0mcom\u001b[0m\u001b[1;33m.\u001b[0m\u001b[0mapply_if_callable\u001b[0m\u001b[1;33m(\u001b[0m\u001b[0mkey\u001b[0m\u001b[1;33m,\u001b[0m \u001b[0mself\u001b[0m\u001b[1;33m.\u001b[0m\u001b[0mobj\u001b[0m\u001b[1;33m)\u001b[0m\u001b[1;33m\u001b[0m\u001b[1;33m\u001b[0m\u001b[0m\n\u001b[1;32m--> 879\u001b[1;33m             \u001b[1;32mreturn\u001b[0m \u001b[0mself\u001b[0m\u001b[1;33m.\u001b[0m\u001b[0m_getitem_axis\u001b[0m\u001b[1;33m(\u001b[0m\u001b[0mmaybe_callable\u001b[0m\u001b[1;33m,\u001b[0m \u001b[0maxis\u001b[0m\u001b[1;33m=\u001b[0m\u001b[0maxis\u001b[0m\u001b[1;33m)\u001b[0m\u001b[1;33m\u001b[0m\u001b[1;33m\u001b[0m\u001b[0m\n\u001b[0m\u001b[0;32m    880\u001b[0m \u001b[1;33m\u001b[0m\u001b[0m\n\u001b[0;32m    881\u001b[0m     \u001b[1;32mdef\u001b[0m \u001b[0m_is_scalar_access\u001b[0m\u001b[1;33m(\u001b[0m\u001b[0mself\u001b[0m\u001b[1;33m,\u001b[0m \u001b[0mkey\u001b[0m\u001b[1;33m:\u001b[0m \u001b[0mTuple\u001b[0m\u001b[1;33m)\u001b[0m\u001b[1;33m:\u001b[0m\u001b[1;33m\u001b[0m\u001b[1;33m\u001b[0m\u001b[0m\n",
      "\u001b[1;32mC:\\Work\\anaconda3\\envs\\pandas_playground\\lib\\site-packages\\pandas\\core\\indexing.py\u001b[0m in \u001b[0;36m_getitem_axis\u001b[1;34m(self, key, axis)\u001b[0m\n\u001b[0;32m   1108\u001b[0m         \u001b[1;31m# fall thru to straight lookup\u001b[0m\u001b[1;33m\u001b[0m\u001b[1;33m\u001b[0m\u001b[1;33m\u001b[0m\u001b[0m\n\u001b[0;32m   1109\u001b[0m         \u001b[0mself\u001b[0m\u001b[1;33m.\u001b[0m\u001b[0m_validate_key\u001b[0m\u001b[1;33m(\u001b[0m\u001b[0mkey\u001b[0m\u001b[1;33m,\u001b[0m \u001b[0maxis\u001b[0m\u001b[1;33m)\u001b[0m\u001b[1;33m\u001b[0m\u001b[1;33m\u001b[0m\u001b[0m\n\u001b[1;32m-> 1110\u001b[1;33m         \u001b[1;32mreturn\u001b[0m \u001b[0mself\u001b[0m\u001b[1;33m.\u001b[0m\u001b[0m_get_label\u001b[0m\u001b[1;33m(\u001b[0m\u001b[0mkey\u001b[0m\u001b[1;33m,\u001b[0m \u001b[0maxis\u001b[0m\u001b[1;33m=\u001b[0m\u001b[0maxis\u001b[0m\u001b[1;33m)\u001b[0m\u001b[1;33m\u001b[0m\u001b[1;33m\u001b[0m\u001b[0m\n\u001b[0m\u001b[0;32m   1111\u001b[0m \u001b[1;33m\u001b[0m\u001b[0m\n\u001b[0;32m   1112\u001b[0m     \u001b[1;32mdef\u001b[0m \u001b[0m_get_slice_axis\u001b[0m\u001b[1;33m(\u001b[0m\u001b[0mself\u001b[0m\u001b[1;33m,\u001b[0m \u001b[0mslice_obj\u001b[0m\u001b[1;33m:\u001b[0m \u001b[0mslice\u001b[0m\u001b[1;33m,\u001b[0m \u001b[0maxis\u001b[0m\u001b[1;33m:\u001b[0m \u001b[0mint\u001b[0m\u001b[1;33m)\u001b[0m\u001b[1;33m:\u001b[0m\u001b[1;33m\u001b[0m\u001b[1;33m\u001b[0m\u001b[0m\n",
      "\u001b[1;32mC:\\Work\\anaconda3\\envs\\pandas_playground\\lib\\site-packages\\pandas\\core\\indexing.py\u001b[0m in \u001b[0;36m_get_label\u001b[1;34m(self, label, axis)\u001b[0m\n\u001b[0;32m   1057\u001b[0m     \u001b[1;32mdef\u001b[0m \u001b[0m_get_label\u001b[0m\u001b[1;33m(\u001b[0m\u001b[0mself\u001b[0m\u001b[1;33m,\u001b[0m \u001b[0mlabel\u001b[0m\u001b[1;33m,\u001b[0m \u001b[0maxis\u001b[0m\u001b[1;33m:\u001b[0m \u001b[0mint\u001b[0m\u001b[1;33m)\u001b[0m\u001b[1;33m:\u001b[0m\u001b[1;33m\u001b[0m\u001b[1;33m\u001b[0m\u001b[0m\n\u001b[0;32m   1058\u001b[0m         \u001b[1;31m# GH#5667 this will fail if the label is not present in the axis.\u001b[0m\u001b[1;33m\u001b[0m\u001b[1;33m\u001b[0m\u001b[1;33m\u001b[0m\u001b[0m\n\u001b[1;32m-> 1059\u001b[1;33m         \u001b[1;32mreturn\u001b[0m \u001b[0mself\u001b[0m\u001b[1;33m.\u001b[0m\u001b[0mobj\u001b[0m\u001b[1;33m.\u001b[0m\u001b[0mxs\u001b[0m\u001b[1;33m(\u001b[0m\u001b[0mlabel\u001b[0m\u001b[1;33m,\u001b[0m \u001b[0maxis\u001b[0m\u001b[1;33m=\u001b[0m\u001b[0maxis\u001b[0m\u001b[1;33m)\u001b[0m\u001b[1;33m\u001b[0m\u001b[1;33m\u001b[0m\u001b[0m\n\u001b[0m\u001b[0;32m   1060\u001b[0m \u001b[1;33m\u001b[0m\u001b[0m\n\u001b[0;32m   1061\u001b[0m     \u001b[1;32mdef\u001b[0m \u001b[0m_handle_lowerdim_multi_index_axis0\u001b[0m\u001b[1;33m(\u001b[0m\u001b[0mself\u001b[0m\u001b[1;33m,\u001b[0m \u001b[0mtup\u001b[0m\u001b[1;33m:\u001b[0m \u001b[0mTuple\u001b[0m\u001b[1;33m)\u001b[0m\u001b[1;33m:\u001b[0m\u001b[1;33m\u001b[0m\u001b[1;33m\u001b[0m\u001b[0m\n",
      "\u001b[1;32mC:\\Work\\anaconda3\\envs\\pandas_playground\\lib\\site-packages\\pandas\\core\\generic.py\u001b[0m in \u001b[0;36mxs\u001b[1;34m(self, key, axis, level, drop_level)\u001b[0m\n\u001b[0;32m   3489\u001b[0m             \u001b[0mloc\u001b[0m\u001b[1;33m,\u001b[0m \u001b[0mnew_index\u001b[0m \u001b[1;33m=\u001b[0m \u001b[0mself\u001b[0m\u001b[1;33m.\u001b[0m\u001b[0mindex\u001b[0m\u001b[1;33m.\u001b[0m\u001b[0mget_loc_level\u001b[0m\u001b[1;33m(\u001b[0m\u001b[0mkey\u001b[0m\u001b[1;33m,\u001b[0m \u001b[0mdrop_level\u001b[0m\u001b[1;33m=\u001b[0m\u001b[0mdrop_level\u001b[0m\u001b[1;33m)\u001b[0m\u001b[1;33m\u001b[0m\u001b[1;33m\u001b[0m\u001b[0m\n\u001b[0;32m   3490\u001b[0m         \u001b[1;32melse\u001b[0m\u001b[1;33m:\u001b[0m\u001b[1;33m\u001b[0m\u001b[1;33m\u001b[0m\u001b[0m\n\u001b[1;32m-> 3491\u001b[1;33m             \u001b[0mloc\u001b[0m \u001b[1;33m=\u001b[0m \u001b[0mself\u001b[0m\u001b[1;33m.\u001b[0m\u001b[0mindex\u001b[0m\u001b[1;33m.\u001b[0m\u001b[0mget_loc\u001b[0m\u001b[1;33m(\u001b[0m\u001b[0mkey\u001b[0m\u001b[1;33m)\u001b[0m\u001b[1;33m\u001b[0m\u001b[1;33m\u001b[0m\u001b[0m\n\u001b[0m\u001b[0;32m   3492\u001b[0m \u001b[1;33m\u001b[0m\u001b[0m\n\u001b[0;32m   3493\u001b[0m             \u001b[1;32mif\u001b[0m \u001b[0misinstance\u001b[0m\u001b[1;33m(\u001b[0m\u001b[0mloc\u001b[0m\u001b[1;33m,\u001b[0m \u001b[0mnp\u001b[0m\u001b[1;33m.\u001b[0m\u001b[0mndarray\u001b[0m\u001b[1;33m)\u001b[0m\u001b[1;33m:\u001b[0m\u001b[1;33m\u001b[0m\u001b[1;33m\u001b[0m\u001b[0m\n",
      "\u001b[1;32mC:\\Work\\anaconda3\\envs\\pandas_playground\\lib\\site-packages\\pandas\\core\\indexes\\datetimes.py\u001b[0m in \u001b[0;36mget_loc\u001b[1;34m(self, key, method, tolerance)\u001b[0m\n\u001b[0;32m    625\u001b[0m             \u001b[1;32mreturn\u001b[0m \u001b[0mIndex\u001b[0m\u001b[1;33m.\u001b[0m\u001b[0mget_loc\u001b[0m\u001b[1;33m(\u001b[0m\u001b[0mself\u001b[0m\u001b[1;33m,\u001b[0m \u001b[0mkey\u001b[0m\u001b[1;33m,\u001b[0m \u001b[0mmethod\u001b[0m\u001b[1;33m,\u001b[0m \u001b[0mtolerance\u001b[0m\u001b[1;33m)\u001b[0m\u001b[1;33m\u001b[0m\u001b[1;33m\u001b[0m\u001b[0m\n\u001b[0;32m    626\u001b[0m         \u001b[1;32mexcept\u001b[0m \u001b[0mKeyError\u001b[0m \u001b[1;32mas\u001b[0m \u001b[0merr\u001b[0m\u001b[1;33m:\u001b[0m\u001b[1;33m\u001b[0m\u001b[1;33m\u001b[0m\u001b[0m\n\u001b[1;32m--> 627\u001b[1;33m             \u001b[1;32mraise\u001b[0m \u001b[0mKeyError\u001b[0m\u001b[1;33m(\u001b[0m\u001b[0morig_key\u001b[0m\u001b[1;33m)\u001b[0m \u001b[1;32mfrom\u001b[0m \u001b[0merr\u001b[0m\u001b[1;33m\u001b[0m\u001b[1;33m\u001b[0m\u001b[0m\n\u001b[0m\u001b[0;32m    628\u001b[0m \u001b[1;33m\u001b[0m\u001b[0m\n\u001b[0;32m    629\u001b[0m     \u001b[1;32mdef\u001b[0m \u001b[0m_maybe_cast_for_get_loc\u001b[0m\u001b[1;33m(\u001b[0m\u001b[0mself\u001b[0m\u001b[1;33m,\u001b[0m \u001b[0mkey\u001b[0m\u001b[1;33m)\u001b[0m \u001b[1;33m->\u001b[0m \u001b[0mTimestamp\u001b[0m\u001b[1;33m:\u001b[0m\u001b[1;33m\u001b[0m\u001b[1;33m\u001b[0m\u001b[0m\n",
      "\u001b[1;31mKeyError\u001b[0m: '2030-02-04'"
     ]
    }
   ],
   "source": [
    "#a date that doesnt exist will give you an error\n",
    "stock.loc[\"2030-02-04\"]"
   ]
  },
  {
   "cell_type": "code",
   "execution_count": 21,
   "metadata": {
    "collapsed": true
   },
   "outputs": [
    {
     "ename": "IndexError",
     "evalue": "single positional indexer is out-of-bounds",
     "output_type": "error",
     "traceback": [
      "\u001b[1;31m---------------------------------------------------------------------------\u001b[0m",
      "\u001b[1;31mIndexError\u001b[0m                                Traceback (most recent call last)",
      "\u001b[1;32m<ipython-input-21-9120680244e3>\u001b[0m in \u001b[0;36m<module>\u001b[1;34m\u001b[0m\n\u001b[1;32m----> 1\u001b[1;33m \u001b[0mstock\u001b[0m\u001b[1;33m.\u001b[0m\u001b[0miloc\u001b[0m\u001b[1;33m[\u001b[0m\u001b[1;36m10000\u001b[0m\u001b[1;33m]\u001b[0m\u001b[1;33m\u001b[0m\u001b[1;33m\u001b[0m\u001b[0m\n\u001b[0m",
      "\u001b[1;32mC:\\Work\\anaconda3\\envs\\pandas_playground\\lib\\site-packages\\pandas\\core\\indexing.py\u001b[0m in \u001b[0;36m__getitem__\u001b[1;34m(self, key)\u001b[0m\n\u001b[0;32m    877\u001b[0m \u001b[1;33m\u001b[0m\u001b[0m\n\u001b[0;32m    878\u001b[0m             \u001b[0mmaybe_callable\u001b[0m \u001b[1;33m=\u001b[0m \u001b[0mcom\u001b[0m\u001b[1;33m.\u001b[0m\u001b[0mapply_if_callable\u001b[0m\u001b[1;33m(\u001b[0m\u001b[0mkey\u001b[0m\u001b[1;33m,\u001b[0m \u001b[0mself\u001b[0m\u001b[1;33m.\u001b[0m\u001b[0mobj\u001b[0m\u001b[1;33m)\u001b[0m\u001b[1;33m\u001b[0m\u001b[1;33m\u001b[0m\u001b[0m\n\u001b[1;32m--> 879\u001b[1;33m             \u001b[1;32mreturn\u001b[0m \u001b[0mself\u001b[0m\u001b[1;33m.\u001b[0m\u001b[0m_getitem_axis\u001b[0m\u001b[1;33m(\u001b[0m\u001b[0mmaybe_callable\u001b[0m\u001b[1;33m,\u001b[0m \u001b[0maxis\u001b[0m\u001b[1;33m=\u001b[0m\u001b[0maxis\u001b[0m\u001b[1;33m)\u001b[0m\u001b[1;33m\u001b[0m\u001b[1;33m\u001b[0m\u001b[0m\n\u001b[0m\u001b[0;32m    880\u001b[0m \u001b[1;33m\u001b[0m\u001b[0m\n\u001b[0;32m    881\u001b[0m     \u001b[1;32mdef\u001b[0m \u001b[0m_is_scalar_access\u001b[0m\u001b[1;33m(\u001b[0m\u001b[0mself\u001b[0m\u001b[1;33m,\u001b[0m \u001b[0mkey\u001b[0m\u001b[1;33m:\u001b[0m \u001b[0mTuple\u001b[0m\u001b[1;33m)\u001b[0m\u001b[1;33m:\u001b[0m\u001b[1;33m\u001b[0m\u001b[1;33m\u001b[0m\u001b[0m\n",
      "\u001b[1;32mC:\\Work\\anaconda3\\envs\\pandas_playground\\lib\\site-packages\\pandas\\core\\indexing.py\u001b[0m in \u001b[0;36m_getitem_axis\u001b[1;34m(self, key, axis)\u001b[0m\n\u001b[0;32m   1494\u001b[0m \u001b[1;33m\u001b[0m\u001b[0m\n\u001b[0;32m   1495\u001b[0m             \u001b[1;31m# validate the location\u001b[0m\u001b[1;33m\u001b[0m\u001b[1;33m\u001b[0m\u001b[1;33m\u001b[0m\u001b[0m\n\u001b[1;32m-> 1496\u001b[1;33m             \u001b[0mself\u001b[0m\u001b[1;33m.\u001b[0m\u001b[0m_validate_integer\u001b[0m\u001b[1;33m(\u001b[0m\u001b[0mkey\u001b[0m\u001b[1;33m,\u001b[0m \u001b[0maxis\u001b[0m\u001b[1;33m)\u001b[0m\u001b[1;33m\u001b[0m\u001b[1;33m\u001b[0m\u001b[0m\n\u001b[0m\u001b[0;32m   1497\u001b[0m \u001b[1;33m\u001b[0m\u001b[0m\n\u001b[0;32m   1498\u001b[0m             \u001b[1;32mreturn\u001b[0m \u001b[0mself\u001b[0m\u001b[1;33m.\u001b[0m\u001b[0mobj\u001b[0m\u001b[1;33m.\u001b[0m\u001b[0m_ixs\u001b[0m\u001b[1;33m(\u001b[0m\u001b[0mkey\u001b[0m\u001b[1;33m,\u001b[0m \u001b[0maxis\u001b[0m\u001b[1;33m=\u001b[0m\u001b[0maxis\u001b[0m\u001b[1;33m)\u001b[0m\u001b[1;33m\u001b[0m\u001b[1;33m\u001b[0m\u001b[0m\n",
      "\u001b[1;32mC:\\Work\\anaconda3\\envs\\pandas_playground\\lib\\site-packages\\pandas\\core\\indexing.py\u001b[0m in \u001b[0;36m_validate_integer\u001b[1;34m(self, key, axis)\u001b[0m\n\u001b[0;32m   1435\u001b[0m         \u001b[0mlen_axis\u001b[0m \u001b[1;33m=\u001b[0m \u001b[0mlen\u001b[0m\u001b[1;33m(\u001b[0m\u001b[0mself\u001b[0m\u001b[1;33m.\u001b[0m\u001b[0mobj\u001b[0m\u001b[1;33m.\u001b[0m\u001b[0m_get_axis\u001b[0m\u001b[1;33m(\u001b[0m\u001b[0maxis\u001b[0m\u001b[1;33m)\u001b[0m\u001b[1;33m)\u001b[0m\u001b[1;33m\u001b[0m\u001b[1;33m\u001b[0m\u001b[0m\n\u001b[0;32m   1436\u001b[0m         \u001b[1;32mif\u001b[0m \u001b[0mkey\u001b[0m \u001b[1;33m>=\u001b[0m \u001b[0mlen_axis\u001b[0m \u001b[1;32mor\u001b[0m \u001b[0mkey\u001b[0m \u001b[1;33m<\u001b[0m \u001b[1;33m-\u001b[0m\u001b[0mlen_axis\u001b[0m\u001b[1;33m:\u001b[0m\u001b[1;33m\u001b[0m\u001b[1;33m\u001b[0m\u001b[0m\n\u001b[1;32m-> 1437\u001b[1;33m             \u001b[1;32mraise\u001b[0m \u001b[0mIndexError\u001b[0m\u001b[1;33m(\u001b[0m\u001b[1;34m\"single positional indexer is out-of-bounds\"\u001b[0m\u001b[1;33m)\u001b[0m\u001b[1;33m\u001b[0m\u001b[1;33m\u001b[0m\u001b[0m\n\u001b[0m\u001b[0;32m   1438\u001b[0m \u001b[1;33m\u001b[0m\u001b[0m\n\u001b[0;32m   1439\u001b[0m     \u001b[1;31m# -------------------------------------------------------------------\u001b[0m\u001b[1;33m\u001b[0m\u001b[1;33m\u001b[0m\u001b[1;33m\u001b[0m\u001b[0m\n",
      "\u001b[1;31mIndexError\u001b[0m: single positional indexer is out-of-bounds"
     ]
    }
   ],
   "source": [
    "stock.iloc[10000]\n",
    "#index position that doesnt exist"
   ]
  },
  {
   "cell_type": "code",
   "execution_count": 22,
   "metadata": {},
   "outputs": [
    {
     "data": {
      "text/html": [
       "<div>\n",
       "<style scoped>\n",
       "    .dataframe tbody tr th:only-of-type {\n",
       "        vertical-align: middle;\n",
       "    }\n",
       "\n",
       "    .dataframe tbody tr th {\n",
       "        vertical-align: top;\n",
       "    }\n",
       "\n",
       "    .dataframe thead th {\n",
       "        text-align: right;\n",
       "    }\n",
       "</style>\n",
       "<table border=\"1\" class=\"dataframe\">\n",
       "  <thead>\n",
       "    <tr style=\"text-align: right;\">\n",
       "      <th></th>\n",
       "      <th>High</th>\n",
       "      <th>Low</th>\n",
       "      <th>Open</th>\n",
       "      <th>Close</th>\n",
       "      <th>Volume</th>\n",
       "      <th>Adj Close</th>\n",
       "    </tr>\n",
       "    <tr>\n",
       "      <th>Date</th>\n",
       "      <th></th>\n",
       "      <th></th>\n",
       "      <th></th>\n",
       "      <th></th>\n",
       "      <th></th>\n",
       "      <th></th>\n",
       "    </tr>\n",
       "  </thead>\n",
       "  <tbody>\n",
       "    <tr>\n",
       "      <th>2010-01-04</th>\n",
       "      <td>31.1</td>\n",
       "      <td>30.590000</td>\n",
       "      <td>30.620001</td>\n",
       "      <td>30.950001</td>\n",
       "      <td>38409100.0</td>\n",
       "      <td>24.105360</td>\n",
       "    </tr>\n",
       "    <tr>\n",
       "      <th>2010-01-05</th>\n",
       "      <td>31.1</td>\n",
       "      <td>30.639999</td>\n",
       "      <td>30.850000</td>\n",
       "      <td>30.959999</td>\n",
       "      <td>49749600.0</td>\n",
       "      <td>24.113148</td>\n",
       "    </tr>\n",
       "  </tbody>\n",
       "</table>\n",
       "</div>"
      ],
      "text/plain": [
       "            High        Low       Open      Close      Volume  Adj Close\n",
       "Date                                                                    \n",
       "2010-01-04  31.1  30.590000  30.620001  30.950001  38409100.0  24.105360\n",
       "2010-01-05  31.1  30.639999  30.850000  30.959999  49749600.0  24.113148"
      ]
     },
     "execution_count": 22,
     "metadata": {},
     "output_type": "execute_result"
    }
   ],
   "source": [
    "#pulling out more than one rows\n",
    "stock.loc[[\"2010-01-04\",\"2010-01-05\"]]"
   ]
  },
  {
   "cell_type": "code",
   "execution_count": 27,
   "metadata": {},
   "outputs": [
    {
     "data": {
      "text/html": [
       "<div>\n",
       "<style scoped>\n",
       "    .dataframe tbody tr th:only-of-type {\n",
       "        vertical-align: middle;\n",
       "    }\n",
       "\n",
       "    .dataframe tbody tr th {\n",
       "        vertical-align: top;\n",
       "    }\n",
       "\n",
       "    .dataframe thead th {\n",
       "        text-align: right;\n",
       "    }\n",
       "</style>\n",
       "<table border=\"1\" class=\"dataframe\">\n",
       "  <thead>\n",
       "    <tr style=\"text-align: right;\">\n",
       "      <th></th>\n",
       "      <th>High</th>\n",
       "      <th>Low</th>\n",
       "      <th>Open</th>\n",
       "      <th>Close</th>\n",
       "      <th>Volume</th>\n",
       "      <th>Adj Close</th>\n",
       "    </tr>\n",
       "    <tr>\n",
       "      <th>Date</th>\n",
       "      <th></th>\n",
       "      <th></th>\n",
       "      <th></th>\n",
       "      <th></th>\n",
       "      <th></th>\n",
       "      <th></th>\n",
       "    </tr>\n",
       "  </thead>\n",
       "  <tbody>\n",
       "    <tr>\n",
       "      <th>2010-01-04</th>\n",
       "      <td>31.1</td>\n",
       "      <td>30.590000</td>\n",
       "      <td>30.620001</td>\n",
       "      <td>30.950001</td>\n",
       "      <td>38409100.0</td>\n",
       "      <td>24.105360</td>\n",
       "    </tr>\n",
       "    <tr>\n",
       "      <th>2010-01-05</th>\n",
       "      <td>31.1</td>\n",
       "      <td>30.639999</td>\n",
       "      <td>30.850000</td>\n",
       "      <td>30.959999</td>\n",
       "      <td>49749600.0</td>\n",
       "      <td>24.113148</td>\n",
       "    </tr>\n",
       "  </tbody>\n",
       "</table>\n",
       "</div>"
      ],
      "text/plain": [
       "            High        Low       Open      Close      Volume  Adj Close\n",
       "Date                                                                    \n",
       "2010-01-04  31.1  30.590000  30.620001  30.950001  38409100.0  24.105360\n",
       "2010-01-05  31.1  30.639999  30.850000  30.959999  49749600.0  24.113148"
      ]
     },
     "execution_count": 27,
     "metadata": {},
     "output_type": "execute_result"
    }
   ],
   "source": [
    "stock.loc[[pd.Timestamp(\"2010-01-04\"),pd.Timestamp(\"2010-01-05\")]]"
   ]
  },
  {
   "cell_type": "code",
   "execution_count": 28,
   "metadata": {
    "collapsed": true
   },
   "outputs": [
    {
     "ename": "KeyError",
     "evalue": "\"Passing list-likes to .loc or [] with any missing labels is no longer supported. The following labels were missing: DatetimeIndex(['2030-01-05'], dtype='datetime64[ns]', name='Date', freq=None). See https://pandas.pydata.org/pandas-docs/stable/user_guide/indexing.html#deprecate-loc-reindex-listlike\"",
     "output_type": "error",
     "traceback": [
      "\u001b[1;31m---------------------------------------------------------------------------\u001b[0m",
      "\u001b[1;31mKeyError\u001b[0m                                  Traceback (most recent call last)",
      "\u001b[1;32m<ipython-input-28-93456160f8be>\u001b[0m in \u001b[0;36m<module>\u001b[1;34m\u001b[0m\n\u001b[0;32m      1\u001b[0m \u001b[1;31m#if date doesnt exist it gives error\u001b[0m\u001b[1;33m\u001b[0m\u001b[1;33m\u001b[0m\u001b[1;33m\u001b[0m\u001b[0m\n\u001b[1;32m----> 2\u001b[1;33m \u001b[0mstock\u001b[0m\u001b[1;33m.\u001b[0m\u001b[0mloc\u001b[0m\u001b[1;33m[\u001b[0m\u001b[1;33m[\u001b[0m\u001b[0mpd\u001b[0m\u001b[1;33m.\u001b[0m\u001b[0mTimestamp\u001b[0m\u001b[1;33m(\u001b[0m\u001b[1;34m\"2010-01-04\"\u001b[0m\u001b[1;33m)\u001b[0m\u001b[1;33m,\u001b[0m\u001b[0mpd\u001b[0m\u001b[1;33m.\u001b[0m\u001b[0mTimestamp\u001b[0m\u001b[1;33m(\u001b[0m\u001b[1;34m\"2030-01-05\"\u001b[0m\u001b[1;33m)\u001b[0m\u001b[1;33m]\u001b[0m\u001b[1;33m]\u001b[0m\u001b[1;33m\u001b[0m\u001b[1;33m\u001b[0m\u001b[0m\n\u001b[0m",
      "\u001b[1;32mC:\\Work\\anaconda3\\envs\\pandas_playground\\lib\\site-packages\\pandas\\core\\indexing.py\u001b[0m in \u001b[0;36m__getitem__\u001b[1;34m(self, key)\u001b[0m\n\u001b[0;32m    877\u001b[0m \u001b[1;33m\u001b[0m\u001b[0m\n\u001b[0;32m    878\u001b[0m             \u001b[0mmaybe_callable\u001b[0m \u001b[1;33m=\u001b[0m \u001b[0mcom\u001b[0m\u001b[1;33m.\u001b[0m\u001b[0mapply_if_callable\u001b[0m\u001b[1;33m(\u001b[0m\u001b[0mkey\u001b[0m\u001b[1;33m,\u001b[0m \u001b[0mself\u001b[0m\u001b[1;33m.\u001b[0m\u001b[0mobj\u001b[0m\u001b[1;33m)\u001b[0m\u001b[1;33m\u001b[0m\u001b[1;33m\u001b[0m\u001b[0m\n\u001b[1;32m--> 879\u001b[1;33m             \u001b[1;32mreturn\u001b[0m \u001b[0mself\u001b[0m\u001b[1;33m.\u001b[0m\u001b[0m_getitem_axis\u001b[0m\u001b[1;33m(\u001b[0m\u001b[0mmaybe_callable\u001b[0m\u001b[1;33m,\u001b[0m \u001b[0maxis\u001b[0m\u001b[1;33m=\u001b[0m\u001b[0maxis\u001b[0m\u001b[1;33m)\u001b[0m\u001b[1;33m\u001b[0m\u001b[1;33m\u001b[0m\u001b[0m\n\u001b[0m\u001b[0;32m    880\u001b[0m \u001b[1;33m\u001b[0m\u001b[0m\n\u001b[0;32m    881\u001b[0m     \u001b[1;32mdef\u001b[0m \u001b[0m_is_scalar_access\u001b[0m\u001b[1;33m(\u001b[0m\u001b[0mself\u001b[0m\u001b[1;33m,\u001b[0m \u001b[0mkey\u001b[0m\u001b[1;33m:\u001b[0m \u001b[0mTuple\u001b[0m\u001b[1;33m)\u001b[0m\u001b[1;33m:\u001b[0m\u001b[1;33m\u001b[0m\u001b[1;33m\u001b[0m\u001b[0m\n",
      "\u001b[1;32mC:\\Work\\anaconda3\\envs\\pandas_playground\\lib\\site-packages\\pandas\\core\\indexing.py\u001b[0m in \u001b[0;36m_getitem_axis\u001b[1;34m(self, key, axis)\u001b[0m\n\u001b[0;32m   1097\u001b[0m                     \u001b[1;32mraise\u001b[0m \u001b[0mValueError\u001b[0m\u001b[1;33m(\u001b[0m\u001b[1;34m\"Cannot index with multidimensional key\"\u001b[0m\u001b[1;33m)\u001b[0m\u001b[1;33m\u001b[0m\u001b[1;33m\u001b[0m\u001b[0m\n\u001b[0;32m   1098\u001b[0m \u001b[1;33m\u001b[0m\u001b[0m\n\u001b[1;32m-> 1099\u001b[1;33m                 \u001b[1;32mreturn\u001b[0m \u001b[0mself\u001b[0m\u001b[1;33m.\u001b[0m\u001b[0m_getitem_iterable\u001b[0m\u001b[1;33m(\u001b[0m\u001b[0mkey\u001b[0m\u001b[1;33m,\u001b[0m \u001b[0maxis\u001b[0m\u001b[1;33m=\u001b[0m\u001b[0maxis\u001b[0m\u001b[1;33m)\u001b[0m\u001b[1;33m\u001b[0m\u001b[1;33m\u001b[0m\u001b[0m\n\u001b[0m\u001b[0;32m   1100\u001b[0m \u001b[1;33m\u001b[0m\u001b[0m\n\u001b[0;32m   1101\u001b[0m             \u001b[1;31m# nested tuple slicing\u001b[0m\u001b[1;33m\u001b[0m\u001b[1;33m\u001b[0m\u001b[1;33m\u001b[0m\u001b[0m\n",
      "\u001b[1;32mC:\\Work\\anaconda3\\envs\\pandas_playground\\lib\\site-packages\\pandas\\core\\indexing.py\u001b[0m in \u001b[0;36m_getitem_iterable\u001b[1;34m(self, key, axis)\u001b[0m\n\u001b[0;32m   1035\u001b[0m \u001b[1;33m\u001b[0m\u001b[0m\n\u001b[0;32m   1036\u001b[0m         \u001b[1;31m# A collection of keys\u001b[0m\u001b[1;33m\u001b[0m\u001b[1;33m\u001b[0m\u001b[1;33m\u001b[0m\u001b[0m\n\u001b[1;32m-> 1037\u001b[1;33m         \u001b[0mkeyarr\u001b[0m\u001b[1;33m,\u001b[0m \u001b[0mindexer\u001b[0m \u001b[1;33m=\u001b[0m \u001b[0mself\u001b[0m\u001b[1;33m.\u001b[0m\u001b[0m_get_listlike_indexer\u001b[0m\u001b[1;33m(\u001b[0m\u001b[0mkey\u001b[0m\u001b[1;33m,\u001b[0m \u001b[0maxis\u001b[0m\u001b[1;33m,\u001b[0m \u001b[0mraise_missing\u001b[0m\u001b[1;33m=\u001b[0m\u001b[1;32mFalse\u001b[0m\u001b[1;33m)\u001b[0m\u001b[1;33m\u001b[0m\u001b[1;33m\u001b[0m\u001b[0m\n\u001b[0m\u001b[0;32m   1038\u001b[0m         return self.obj._reindex_with_indexers(\n\u001b[0;32m   1039\u001b[0m             \u001b[1;33m{\u001b[0m\u001b[0maxis\u001b[0m\u001b[1;33m:\u001b[0m \u001b[1;33m[\u001b[0m\u001b[0mkeyarr\u001b[0m\u001b[1;33m,\u001b[0m \u001b[0mindexer\u001b[0m\u001b[1;33m]\u001b[0m\u001b[1;33m}\u001b[0m\u001b[1;33m,\u001b[0m \u001b[0mcopy\u001b[0m\u001b[1;33m=\u001b[0m\u001b[1;32mTrue\u001b[0m\u001b[1;33m,\u001b[0m \u001b[0mallow_dups\u001b[0m\u001b[1;33m=\u001b[0m\u001b[1;32mTrue\u001b[0m\u001b[1;33m\u001b[0m\u001b[1;33m\u001b[0m\u001b[0m\n",
      "\u001b[1;32mC:\\Work\\anaconda3\\envs\\pandas_playground\\lib\\site-packages\\pandas\\core\\indexing.py\u001b[0m in \u001b[0;36m_get_listlike_indexer\u001b[1;34m(self, key, axis, raise_missing)\u001b[0m\n\u001b[0;32m   1252\u001b[0m             \u001b[0mkeyarr\u001b[0m\u001b[1;33m,\u001b[0m \u001b[0mindexer\u001b[0m\u001b[1;33m,\u001b[0m \u001b[0mnew_indexer\u001b[0m \u001b[1;33m=\u001b[0m \u001b[0max\u001b[0m\u001b[1;33m.\u001b[0m\u001b[0m_reindex_non_unique\u001b[0m\u001b[1;33m(\u001b[0m\u001b[0mkeyarr\u001b[0m\u001b[1;33m)\u001b[0m\u001b[1;33m\u001b[0m\u001b[1;33m\u001b[0m\u001b[0m\n\u001b[0;32m   1253\u001b[0m \u001b[1;33m\u001b[0m\u001b[0m\n\u001b[1;32m-> 1254\u001b[1;33m         \u001b[0mself\u001b[0m\u001b[1;33m.\u001b[0m\u001b[0m_validate_read_indexer\u001b[0m\u001b[1;33m(\u001b[0m\u001b[0mkeyarr\u001b[0m\u001b[1;33m,\u001b[0m \u001b[0mindexer\u001b[0m\u001b[1;33m,\u001b[0m \u001b[0maxis\u001b[0m\u001b[1;33m,\u001b[0m \u001b[0mraise_missing\u001b[0m\u001b[1;33m=\u001b[0m\u001b[0mraise_missing\u001b[0m\u001b[1;33m)\u001b[0m\u001b[1;33m\u001b[0m\u001b[1;33m\u001b[0m\u001b[0m\n\u001b[0m\u001b[0;32m   1255\u001b[0m         \u001b[1;32mreturn\u001b[0m \u001b[0mkeyarr\u001b[0m\u001b[1;33m,\u001b[0m \u001b[0mindexer\u001b[0m\u001b[1;33m\u001b[0m\u001b[1;33m\u001b[0m\u001b[0m\n\u001b[0;32m   1256\u001b[0m \u001b[1;33m\u001b[0m\u001b[0m\n",
      "\u001b[1;32mC:\\Work\\anaconda3\\envs\\pandas_playground\\lib\\site-packages\\pandas\\core\\indexing.py\u001b[0m in \u001b[0;36m_validate_read_indexer\u001b[1;34m(self, key, indexer, axis, raise_missing)\u001b[0m\n\u001b[0;32m   1313\u001b[0m \u001b[1;33m\u001b[0m\u001b[0m\n\u001b[0;32m   1314\u001b[0m                 \u001b[1;32mwith\u001b[0m \u001b[0moption_context\u001b[0m\u001b[1;33m(\u001b[0m\u001b[1;34m\"display.max_seq_items\"\u001b[0m\u001b[1;33m,\u001b[0m \u001b[1;36m10\u001b[0m\u001b[1;33m,\u001b[0m \u001b[1;34m\"display.width\"\u001b[0m\u001b[1;33m,\u001b[0m \u001b[1;36m80\u001b[0m\u001b[1;33m)\u001b[0m\u001b[1;33m:\u001b[0m\u001b[1;33m\u001b[0m\u001b[1;33m\u001b[0m\u001b[0m\n\u001b[1;32m-> 1315\u001b[1;33m                     raise KeyError(\n\u001b[0m\u001b[0;32m   1316\u001b[0m                         \u001b[1;34m\"Passing list-likes to .loc or [] with any missing labels \"\u001b[0m\u001b[1;33m\u001b[0m\u001b[1;33m\u001b[0m\u001b[0m\n\u001b[0;32m   1317\u001b[0m                         \u001b[1;34m\"is no longer supported. \"\u001b[0m\u001b[1;33m\u001b[0m\u001b[1;33m\u001b[0m\u001b[0m\n",
      "\u001b[1;31mKeyError\u001b[0m: \"Passing list-likes to .loc or [] with any missing labels is no longer supported. The following labels were missing: DatetimeIndex(['2030-01-05'], dtype='datetime64[ns]', name='Date', freq=None). See https://pandas.pydata.org/pandas-docs/stable/user_guide/indexing.html#deprecate-loc-reindex-listlike\""
     ]
    }
   ],
   "source": [
    "#if date doesnt exist it gives error\n",
    "stock.loc[[pd.Timestamp(\"2010-01-04\"),pd.Timestamp(\"2030-01-05\")]]"
   ]
  },
  {
   "cell_type": "code",
   "execution_count": 30,
   "metadata": {},
   "outputs": [
    {
     "data": {
      "text/html": [
       "<div>\n",
       "<style scoped>\n",
       "    .dataframe tbody tr th:only-of-type {\n",
       "        vertical-align: middle;\n",
       "    }\n",
       "\n",
       "    .dataframe tbody tr th {\n",
       "        vertical-align: top;\n",
       "    }\n",
       "\n",
       "    .dataframe thead th {\n",
       "        text-align: right;\n",
       "    }\n",
       "</style>\n",
       "<table border=\"1\" class=\"dataframe\">\n",
       "  <thead>\n",
       "    <tr style=\"text-align: right;\">\n",
       "      <th></th>\n",
       "      <th>High</th>\n",
       "      <th>Low</th>\n",
       "      <th>Open</th>\n",
       "      <th>Close</th>\n",
       "      <th>Volume</th>\n",
       "      <th>Adj Close</th>\n",
       "    </tr>\n",
       "    <tr>\n",
       "      <th>Date</th>\n",
       "      <th></th>\n",
       "      <th></th>\n",
       "      <th></th>\n",
       "      <th></th>\n",
       "      <th></th>\n",
       "      <th></th>\n",
       "    </tr>\n",
       "  </thead>\n",
       "  <tbody>\n",
       "    <tr>\n",
       "      <th>2010-01-15</th>\n",
       "      <td>31.240000</td>\n",
       "      <td>30.709999</td>\n",
       "      <td>31.080000</td>\n",
       "      <td>30.860001</td>\n",
       "      <td>79913200.0</td>\n",
       "      <td>24.035263</td>\n",
       "    </tr>\n",
       "    <tr>\n",
       "      <th>2010-01-25</th>\n",
       "      <td>29.660000</td>\n",
       "      <td>29.100000</td>\n",
       "      <td>29.240000</td>\n",
       "      <td>29.320000</td>\n",
       "      <td>63373000.0</td>\n",
       "      <td>22.835844</td>\n",
       "    </tr>\n",
       "    <tr>\n",
       "      <th>2010-02-16</th>\n",
       "      <td>28.370001</td>\n",
       "      <td>28.020000</td>\n",
       "      <td>28.129999</td>\n",
       "      <td>28.350000</td>\n",
       "      <td>51935600.0</td>\n",
       "      <td>22.183607</td>\n",
       "    </tr>\n",
       "  </tbody>\n",
       "</table>\n",
       "</div>"
      ],
      "text/plain": [
       "                 High        Low       Open      Close      Volume  Adj Close\n",
       "Date                                                                         \n",
       "2010-01-15  31.240000  30.709999  31.080000  30.860001  79913200.0  24.035263\n",
       "2010-01-25  29.660000  29.100000  29.240000  29.320000  63373000.0  22.835844\n",
       "2010-02-16  28.370001  28.020000  28.129999  28.350000  51935600.0  22.183607"
      ]
     },
     "execution_count": 30,
     "metadata": {},
     "output_type": "execute_result"
    }
   ],
   "source": [
    "stock.iloc[[10,15,30]]"
   ]
  },
  {
   "cell_type": "code",
   "execution_count": 31,
   "metadata": {
    "collapsed": true
   },
   "outputs": [
    {
     "ename": "IndexError",
     "evalue": "positional indexers are out-of-bounds",
     "output_type": "error",
     "traceback": [
      "\u001b[1;31m---------------------------------------------------------------------------\u001b[0m",
      "\u001b[1;31mIndexError\u001b[0m                                Traceback (most recent call last)",
      "\u001b[1;32mC:\\Work\\anaconda3\\envs\\pandas_playground\\lib\\site-packages\\pandas\\core\\indexing.py\u001b[0m in \u001b[0;36m_get_list_axis\u001b[1;34m(self, key, axis)\u001b[0m\n\u001b[0;32m   1468\u001b[0m         \u001b[1;32mtry\u001b[0m\u001b[1;33m:\u001b[0m\u001b[1;33m\u001b[0m\u001b[1;33m\u001b[0m\u001b[0m\n\u001b[1;32m-> 1469\u001b[1;33m             \u001b[1;32mreturn\u001b[0m \u001b[0mself\u001b[0m\u001b[1;33m.\u001b[0m\u001b[0mobj\u001b[0m\u001b[1;33m.\u001b[0m\u001b[0m_take_with_is_copy\u001b[0m\u001b[1;33m(\u001b[0m\u001b[0mkey\u001b[0m\u001b[1;33m,\u001b[0m \u001b[0maxis\u001b[0m\u001b[1;33m=\u001b[0m\u001b[0maxis\u001b[0m\u001b[1;33m)\u001b[0m\u001b[1;33m\u001b[0m\u001b[1;33m\u001b[0m\u001b[0m\n\u001b[0m\u001b[0;32m   1470\u001b[0m         \u001b[1;32mexcept\u001b[0m \u001b[0mIndexError\u001b[0m \u001b[1;32mas\u001b[0m \u001b[0merr\u001b[0m\u001b[1;33m:\u001b[0m\u001b[1;33m\u001b[0m\u001b[1;33m\u001b[0m\u001b[0m\n",
      "\u001b[1;32mC:\\Work\\anaconda3\\envs\\pandas_playground\\lib\\site-packages\\pandas\\core\\generic.py\u001b[0m in \u001b[0;36m_take_with_is_copy\u001b[1;34m(self, indices, axis)\u001b[0m\n\u001b[0;32m   3362\u001b[0m         \"\"\"\n\u001b[1;32m-> 3363\u001b[1;33m         \u001b[0mresult\u001b[0m \u001b[1;33m=\u001b[0m \u001b[0mself\u001b[0m\u001b[1;33m.\u001b[0m\u001b[0mtake\u001b[0m\u001b[1;33m(\u001b[0m\u001b[0mindices\u001b[0m\u001b[1;33m=\u001b[0m\u001b[0mindices\u001b[0m\u001b[1;33m,\u001b[0m \u001b[0maxis\u001b[0m\u001b[1;33m=\u001b[0m\u001b[0maxis\u001b[0m\u001b[1;33m)\u001b[0m\u001b[1;33m\u001b[0m\u001b[1;33m\u001b[0m\u001b[0m\n\u001b[0m\u001b[0;32m   3364\u001b[0m         \u001b[1;31m# Maybe set copy if we didn't actually change the index.\u001b[0m\u001b[1;33m\u001b[0m\u001b[1;33m\u001b[0m\u001b[1;33m\u001b[0m\u001b[0m\n",
      "\u001b[1;32mC:\\Work\\anaconda3\\envs\\pandas_playground\\lib\\site-packages\\pandas\\core\\generic.py\u001b[0m in \u001b[0;36mtake\u001b[1;34m(self, indices, axis, is_copy, **kwargs)\u001b[0m\n\u001b[0;32m   3349\u001b[0m \u001b[1;33m\u001b[0m\u001b[0m\n\u001b[1;32m-> 3350\u001b[1;33m         new_data = self._mgr.take(\n\u001b[0m\u001b[0;32m   3351\u001b[0m             \u001b[0mindices\u001b[0m\u001b[1;33m,\u001b[0m \u001b[0maxis\u001b[0m\u001b[1;33m=\u001b[0m\u001b[0mself\u001b[0m\u001b[1;33m.\u001b[0m\u001b[0m_get_block_manager_axis\u001b[0m\u001b[1;33m(\u001b[0m\u001b[0maxis\u001b[0m\u001b[1;33m)\u001b[0m\u001b[1;33m,\u001b[0m \u001b[0mverify\u001b[0m\u001b[1;33m=\u001b[0m\u001b[1;32mTrue\u001b[0m\u001b[1;33m\u001b[0m\u001b[1;33m\u001b[0m\u001b[0m\n",
      "\u001b[1;32mC:\\Work\\anaconda3\\envs\\pandas_playground\\lib\\site-packages\\pandas\\core\\internals\\managers.py\u001b[0m in \u001b[0;36mtake\u001b[1;34m(self, indexer, axis, verify, convert)\u001b[0m\n\u001b[0;32m   1439\u001b[0m         \u001b[1;32mif\u001b[0m \u001b[0mconvert\u001b[0m\u001b[1;33m:\u001b[0m\u001b[1;33m\u001b[0m\u001b[1;33m\u001b[0m\u001b[0m\n\u001b[1;32m-> 1440\u001b[1;33m             \u001b[0mindexer\u001b[0m \u001b[1;33m=\u001b[0m \u001b[0mmaybe_convert_indices\u001b[0m\u001b[1;33m(\u001b[0m\u001b[0mindexer\u001b[0m\u001b[1;33m,\u001b[0m \u001b[0mn\u001b[0m\u001b[1;33m)\u001b[0m\u001b[1;33m\u001b[0m\u001b[1;33m\u001b[0m\u001b[0m\n\u001b[0m\u001b[0;32m   1441\u001b[0m \u001b[1;33m\u001b[0m\u001b[0m\n",
      "\u001b[1;32mC:\\Work\\anaconda3\\envs\\pandas_playground\\lib\\site-packages\\pandas\\core\\indexers.py\u001b[0m in \u001b[0;36mmaybe_convert_indices\u001b[1;34m(indices, n)\u001b[0m\n\u001b[0;32m    249\u001b[0m     \u001b[1;32mif\u001b[0m \u001b[0mmask\u001b[0m\u001b[1;33m.\u001b[0m\u001b[0many\u001b[0m\u001b[1;33m(\u001b[0m\u001b[1;33m)\u001b[0m\u001b[1;33m:\u001b[0m\u001b[1;33m\u001b[0m\u001b[1;33m\u001b[0m\u001b[0m\n\u001b[1;32m--> 250\u001b[1;33m         \u001b[1;32mraise\u001b[0m \u001b[0mIndexError\u001b[0m\u001b[1;33m(\u001b[0m\u001b[1;34m\"indices are out-of-bounds\"\u001b[0m\u001b[1;33m)\u001b[0m\u001b[1;33m\u001b[0m\u001b[1;33m\u001b[0m\u001b[0m\n\u001b[0m\u001b[0;32m    251\u001b[0m     \u001b[1;32mreturn\u001b[0m \u001b[0mindices\u001b[0m\u001b[1;33m\u001b[0m\u001b[1;33m\u001b[0m\u001b[0m\n",
      "\u001b[1;31mIndexError\u001b[0m: indices are out-of-bounds",
      "\nThe above exception was the direct cause of the following exception:\n",
      "\u001b[1;31mIndexError\u001b[0m                                Traceback (most recent call last)",
      "\u001b[1;32m<ipython-input-31-2aede4f21005>\u001b[0m in \u001b[0;36m<module>\u001b[1;34m\u001b[0m\n\u001b[1;32m----> 1\u001b[1;33m \u001b[0mstock\u001b[0m\u001b[1;33m.\u001b[0m\u001b[0miloc\u001b[0m\u001b[1;33m[\u001b[0m\u001b[1;33m[\u001b[0m\u001b[1;36m10\u001b[0m\u001b[1;33m,\u001b[0m\u001b[1;36m15\u001b[0m\u001b[1;33m,\u001b[0m\u001b[1;36m10000\u001b[0m\u001b[1;33m]\u001b[0m\u001b[1;33m]\u001b[0m\u001b[1;33m\u001b[0m\u001b[1;33m\u001b[0m\u001b[0m\n\u001b[0m",
      "\u001b[1;32mC:\\Work\\anaconda3\\envs\\pandas_playground\\lib\\site-packages\\pandas\\core\\indexing.py\u001b[0m in \u001b[0;36m__getitem__\u001b[1;34m(self, key)\u001b[0m\n\u001b[0;32m    877\u001b[0m \u001b[1;33m\u001b[0m\u001b[0m\n\u001b[0;32m    878\u001b[0m             \u001b[0mmaybe_callable\u001b[0m \u001b[1;33m=\u001b[0m \u001b[0mcom\u001b[0m\u001b[1;33m.\u001b[0m\u001b[0mapply_if_callable\u001b[0m\u001b[1;33m(\u001b[0m\u001b[0mkey\u001b[0m\u001b[1;33m,\u001b[0m \u001b[0mself\u001b[0m\u001b[1;33m.\u001b[0m\u001b[0mobj\u001b[0m\u001b[1;33m)\u001b[0m\u001b[1;33m\u001b[0m\u001b[1;33m\u001b[0m\u001b[0m\n\u001b[1;32m--> 879\u001b[1;33m             \u001b[1;32mreturn\u001b[0m \u001b[0mself\u001b[0m\u001b[1;33m.\u001b[0m\u001b[0m_getitem_axis\u001b[0m\u001b[1;33m(\u001b[0m\u001b[0mmaybe_callable\u001b[0m\u001b[1;33m,\u001b[0m \u001b[0maxis\u001b[0m\u001b[1;33m=\u001b[0m\u001b[0maxis\u001b[0m\u001b[1;33m)\u001b[0m\u001b[1;33m\u001b[0m\u001b[1;33m\u001b[0m\u001b[0m\n\u001b[0m\u001b[0;32m    880\u001b[0m \u001b[1;33m\u001b[0m\u001b[0m\n\u001b[0;32m    881\u001b[0m     \u001b[1;32mdef\u001b[0m \u001b[0m_is_scalar_access\u001b[0m\u001b[1;33m(\u001b[0m\u001b[0mself\u001b[0m\u001b[1;33m,\u001b[0m \u001b[0mkey\u001b[0m\u001b[1;33m:\u001b[0m \u001b[0mTuple\u001b[0m\u001b[1;33m)\u001b[0m\u001b[1;33m:\u001b[0m\u001b[1;33m\u001b[0m\u001b[1;33m\u001b[0m\u001b[0m\n",
      "\u001b[1;32mC:\\Work\\anaconda3\\envs\\pandas_playground\\lib\\site-packages\\pandas\\core\\indexing.py\u001b[0m in \u001b[0;36m_getitem_axis\u001b[1;34m(self, key, axis)\u001b[0m\n\u001b[0;32m   1485\u001b[0m         \u001b[1;31m# a list of integers\u001b[0m\u001b[1;33m\u001b[0m\u001b[1;33m\u001b[0m\u001b[1;33m\u001b[0m\u001b[0m\n\u001b[0;32m   1486\u001b[0m         \u001b[1;32melif\u001b[0m \u001b[0mis_list_like_indexer\u001b[0m\u001b[1;33m(\u001b[0m\u001b[0mkey\u001b[0m\u001b[1;33m)\u001b[0m\u001b[1;33m:\u001b[0m\u001b[1;33m\u001b[0m\u001b[1;33m\u001b[0m\u001b[0m\n\u001b[1;32m-> 1487\u001b[1;33m             \u001b[1;32mreturn\u001b[0m \u001b[0mself\u001b[0m\u001b[1;33m.\u001b[0m\u001b[0m_get_list_axis\u001b[0m\u001b[1;33m(\u001b[0m\u001b[0mkey\u001b[0m\u001b[1;33m,\u001b[0m \u001b[0maxis\u001b[0m\u001b[1;33m=\u001b[0m\u001b[0maxis\u001b[0m\u001b[1;33m)\u001b[0m\u001b[1;33m\u001b[0m\u001b[1;33m\u001b[0m\u001b[0m\n\u001b[0m\u001b[0;32m   1488\u001b[0m \u001b[1;33m\u001b[0m\u001b[0m\n\u001b[0;32m   1489\u001b[0m         \u001b[1;31m# a single integer\u001b[0m\u001b[1;33m\u001b[0m\u001b[1;33m\u001b[0m\u001b[1;33m\u001b[0m\u001b[0m\n",
      "\u001b[1;32mC:\\Work\\anaconda3\\envs\\pandas_playground\\lib\\site-packages\\pandas\\core\\indexing.py\u001b[0m in \u001b[0;36m_get_list_axis\u001b[1;34m(self, key, axis)\u001b[0m\n\u001b[0;32m   1470\u001b[0m         \u001b[1;32mexcept\u001b[0m \u001b[0mIndexError\u001b[0m \u001b[1;32mas\u001b[0m \u001b[0merr\u001b[0m\u001b[1;33m:\u001b[0m\u001b[1;33m\u001b[0m\u001b[1;33m\u001b[0m\u001b[0m\n\u001b[0;32m   1471\u001b[0m             \u001b[1;31m# re-raise with different error message\u001b[0m\u001b[1;33m\u001b[0m\u001b[1;33m\u001b[0m\u001b[1;33m\u001b[0m\u001b[0m\n\u001b[1;32m-> 1472\u001b[1;33m             \u001b[1;32mraise\u001b[0m \u001b[0mIndexError\u001b[0m\u001b[1;33m(\u001b[0m\u001b[1;34m\"positional indexers are out-of-bounds\"\u001b[0m\u001b[1;33m)\u001b[0m \u001b[1;32mfrom\u001b[0m \u001b[0merr\u001b[0m\u001b[1;33m\u001b[0m\u001b[1;33m\u001b[0m\u001b[0m\n\u001b[0m\u001b[0;32m   1473\u001b[0m \u001b[1;33m\u001b[0m\u001b[0m\n\u001b[0;32m   1474\u001b[0m     \u001b[1;32mdef\u001b[0m \u001b[0m_getitem_axis\u001b[0m\u001b[1;33m(\u001b[0m\u001b[0mself\u001b[0m\u001b[1;33m,\u001b[0m \u001b[0mkey\u001b[0m\u001b[1;33m,\u001b[0m \u001b[0maxis\u001b[0m\u001b[1;33m:\u001b[0m \u001b[0mint\u001b[0m\u001b[1;33m)\u001b[0m\u001b[1;33m:\u001b[0m\u001b[1;33m\u001b[0m\u001b[1;33m\u001b[0m\u001b[0m\n",
      "\u001b[1;31mIndexError\u001b[0m: positional indexers are out-of-bounds"
     ]
    }
   ],
   "source": [
    "stock.iloc[[10,15,10000]]\n",
    "#gives error if row doesnt exist"
   ]
  },
  {
   "cell_type": "code",
   "execution_count": 32,
   "metadata": {},
   "outputs": [
    {
     "data": {
      "text/html": [
       "<div>\n",
       "<style scoped>\n",
       "    .dataframe tbody tr th:only-of-type {\n",
       "        vertical-align: middle;\n",
       "    }\n",
       "\n",
       "    .dataframe tbody tr th {\n",
       "        vertical-align: top;\n",
       "    }\n",
       "\n",
       "    .dataframe thead th {\n",
       "        text-align: right;\n",
       "    }\n",
       "</style>\n",
       "<table border=\"1\" class=\"dataframe\">\n",
       "  <thead>\n",
       "    <tr style=\"text-align: right;\">\n",
       "      <th></th>\n",
       "      <th>High</th>\n",
       "      <th>Low</th>\n",
       "      <th>Open</th>\n",
       "      <th>Close</th>\n",
       "      <th>Volume</th>\n",
       "      <th>Adj Close</th>\n",
       "    </tr>\n",
       "    <tr>\n",
       "      <th>Date</th>\n",
       "      <th></th>\n",
       "      <th></th>\n",
       "      <th></th>\n",
       "      <th></th>\n",
       "      <th></th>\n",
       "      <th></th>\n",
       "    </tr>\n",
       "  </thead>\n",
       "  <tbody>\n",
       "    <tr>\n",
       "      <th>2013-10-01</th>\n",
       "      <td>33.610001</td>\n",
       "      <td>33.299999</td>\n",
       "      <td>33.349998</td>\n",
       "      <td>33.580002</td>\n",
       "      <td>36718700.0</td>\n",
       "      <td>28.817102</td>\n",
       "    </tr>\n",
       "    <tr>\n",
       "      <th>2013-10-02</th>\n",
       "      <td>34.029999</td>\n",
       "      <td>33.290001</td>\n",
       "      <td>33.360001</td>\n",
       "      <td>33.919998</td>\n",
       "      <td>46946800.0</td>\n",
       "      <td>29.108875</td>\n",
       "    </tr>\n",
       "    <tr>\n",
       "      <th>2013-10-03</th>\n",
       "      <td>34.000000</td>\n",
       "      <td>33.419998</td>\n",
       "      <td>33.880001</td>\n",
       "      <td>33.860001</td>\n",
       "      <td>38703800.0</td>\n",
       "      <td>29.057384</td>\n",
       "    </tr>\n",
       "    <tr>\n",
       "      <th>2013-10-04</th>\n",
       "      <td>33.990002</td>\n",
       "      <td>33.619999</td>\n",
       "      <td>33.689999</td>\n",
       "      <td>33.880001</td>\n",
       "      <td>33008100.0</td>\n",
       "      <td>29.074543</td>\n",
       "    </tr>\n",
       "    <tr>\n",
       "      <th>2013-10-07</th>\n",
       "      <td>33.709999</td>\n",
       "      <td>33.200001</td>\n",
       "      <td>33.599998</td>\n",
       "      <td>33.299999</td>\n",
       "      <td>35069300.0</td>\n",
       "      <td>28.576813</td>\n",
       "    </tr>\n",
       "  </tbody>\n",
       "</table>\n",
       "</div>"
      ],
      "text/plain": [
       "                 High        Low       Open      Close      Volume  Adj Close\n",
       "Date                                                                         \n",
       "2013-10-01  33.610001  33.299999  33.349998  33.580002  36718700.0  28.817102\n",
       "2013-10-02  34.029999  33.290001  33.360001  33.919998  46946800.0  29.108875\n",
       "2013-10-03  34.000000  33.419998  33.880001  33.860001  38703800.0  29.057384\n",
       "2013-10-04  33.990002  33.619999  33.689999  33.880001  33008100.0  29.074543\n",
       "2013-10-07  33.709999  33.200001  33.599998  33.299999  35069300.0  28.576813"
      ]
     },
     "execution_count": 32,
     "metadata": {},
     "output_type": "execute_result"
    }
   ],
   "source": [
    "#slicing\n",
    "stock.loc[\"2013-10-01\":\"2013-10-07\"]"
   ]
  },
  {
   "cell_type": "code",
   "execution_count": 33,
   "metadata": {},
   "outputs": [
    {
     "data": {
      "text/html": [
       "<div>\n",
       "<style scoped>\n",
       "    .dataframe tbody tr th:only-of-type {\n",
       "        vertical-align: middle;\n",
       "    }\n",
       "\n",
       "    .dataframe tbody tr th {\n",
       "        vertical-align: top;\n",
       "    }\n",
       "\n",
       "    .dataframe thead th {\n",
       "        text-align: right;\n",
       "    }\n",
       "</style>\n",
       "<table border=\"1\" class=\"dataframe\">\n",
       "  <thead>\n",
       "    <tr style=\"text-align: right;\">\n",
       "      <th></th>\n",
       "      <th>High</th>\n",
       "      <th>Low</th>\n",
       "      <th>Open</th>\n",
       "      <th>Close</th>\n",
       "      <th>Volume</th>\n",
       "      <th>Adj Close</th>\n",
       "    </tr>\n",
       "    <tr>\n",
       "      <th>Date</th>\n",
       "      <th></th>\n",
       "      <th></th>\n",
       "      <th></th>\n",
       "      <th></th>\n",
       "      <th></th>\n",
       "      <th></th>\n",
       "    </tr>\n",
       "  </thead>\n",
       "  <tbody>\n",
       "    <tr>\n",
       "      <th>2013-10-01</th>\n",
       "      <td>33.610001</td>\n",
       "      <td>33.299999</td>\n",
       "      <td>33.349998</td>\n",
       "      <td>33.580002</td>\n",
       "      <td>36718700.0</td>\n",
       "      <td>28.817102</td>\n",
       "    </tr>\n",
       "    <tr>\n",
       "      <th>2013-10-02</th>\n",
       "      <td>34.029999</td>\n",
       "      <td>33.290001</td>\n",
       "      <td>33.360001</td>\n",
       "      <td>33.919998</td>\n",
       "      <td>46946800.0</td>\n",
       "      <td>29.108875</td>\n",
       "    </tr>\n",
       "    <tr>\n",
       "      <th>2013-10-03</th>\n",
       "      <td>34.000000</td>\n",
       "      <td>33.419998</td>\n",
       "      <td>33.880001</td>\n",
       "      <td>33.860001</td>\n",
       "      <td>38703800.0</td>\n",
       "      <td>29.057384</td>\n",
       "    </tr>\n",
       "    <tr>\n",
       "      <th>2013-10-04</th>\n",
       "      <td>33.990002</td>\n",
       "      <td>33.619999</td>\n",
       "      <td>33.689999</td>\n",
       "      <td>33.880001</td>\n",
       "      <td>33008100.0</td>\n",
       "      <td>29.074543</td>\n",
       "    </tr>\n",
       "    <tr>\n",
       "      <th>2013-10-07</th>\n",
       "      <td>33.709999</td>\n",
       "      <td>33.200001</td>\n",
       "      <td>33.599998</td>\n",
       "      <td>33.299999</td>\n",
       "      <td>35069300.0</td>\n",
       "      <td>28.576813</td>\n",
       "    </tr>\n",
       "  </tbody>\n",
       "</table>\n",
       "</div>"
      ],
      "text/plain": [
       "                 High        Low       Open      Close      Volume  Adj Close\n",
       "Date                                                                         \n",
       "2013-10-01  33.610001  33.299999  33.349998  33.580002  36718700.0  28.817102\n",
       "2013-10-02  34.029999  33.290001  33.360001  33.919998  46946800.0  29.108875\n",
       "2013-10-03  34.000000  33.419998  33.880001  33.860001  38703800.0  29.057384\n",
       "2013-10-04  33.990002  33.619999  33.689999  33.880001  33008100.0  29.074543\n",
       "2013-10-07  33.709999  33.200001  33.599998  33.299999  35069300.0  28.576813"
      ]
     },
     "execution_count": 33,
     "metadata": {},
     "output_type": "execute_result"
    }
   ],
   "source": [
    "#with loc accessor value after collin is inclusive\n",
    "#another way of achieving this is truncate method\n",
    "stock.truncate(before=\"2013-10-01\",after=\"2013-10-07\")"
   ]
  },
  {
   "cell_type": "code",
   "execution_count": 35,
   "metadata": {},
   "outputs": [
    {
     "data": {
      "text/html": [
       "<div>\n",
       "<style scoped>\n",
       "    .dataframe tbody tr th:only-of-type {\n",
       "        vertical-align: middle;\n",
       "    }\n",
       "\n",
       "    .dataframe tbody tr th {\n",
       "        vertical-align: top;\n",
       "    }\n",
       "\n",
       "    .dataframe thead th {\n",
       "        text-align: right;\n",
       "    }\n",
       "</style>\n",
       "<table border=\"1\" class=\"dataframe\">\n",
       "  <thead>\n",
       "    <tr style=\"text-align: right;\">\n",
       "      <th></th>\n",
       "      <th>High</th>\n",
       "      <th>Low</th>\n",
       "      <th>Open</th>\n",
       "      <th>Close</th>\n",
       "      <th>Volume</th>\n",
       "      <th>Adj Close</th>\n",
       "    </tr>\n",
       "    <tr>\n",
       "      <th>Date</th>\n",
       "      <th></th>\n",
       "      <th></th>\n",
       "      <th></th>\n",
       "      <th></th>\n",
       "      <th></th>\n",
       "      <th></th>\n",
       "    </tr>\n",
       "  </thead>\n",
       "  <tbody>\n",
       "    <tr>\n",
       "      <th>2013-12-20</th>\n",
       "      <td>36.930000</td>\n",
       "      <td>36.189999</td>\n",
       "      <td>36.200001</td>\n",
       "      <td>36.799999</td>\n",
       "      <td>62649100.0</td>\n",
       "      <td>31.819893</td>\n",
       "    </tr>\n",
       "    <tr>\n",
       "      <th>2013-12-23</th>\n",
       "      <td>36.889999</td>\n",
       "      <td>36.549999</td>\n",
       "      <td>36.810001</td>\n",
       "      <td>36.619999</td>\n",
       "      <td>25128700.0</td>\n",
       "      <td>31.664244</td>\n",
       "    </tr>\n",
       "    <tr>\n",
       "      <th>2013-12-24</th>\n",
       "      <td>37.169998</td>\n",
       "      <td>36.639999</td>\n",
       "      <td>36.720001</td>\n",
       "      <td>37.080002</td>\n",
       "      <td>14243000.0</td>\n",
       "      <td>32.061996</td>\n",
       "    </tr>\n",
       "    <tr>\n",
       "      <th>2013-12-26</th>\n",
       "      <td>37.490002</td>\n",
       "      <td>37.169998</td>\n",
       "      <td>37.200001</td>\n",
       "      <td>37.439999</td>\n",
       "      <td>17612800.0</td>\n",
       "      <td>32.373272</td>\n",
       "    </tr>\n",
       "    <tr>\n",
       "      <th>2013-12-27</th>\n",
       "      <td>37.619999</td>\n",
       "      <td>37.169998</td>\n",
       "      <td>37.580002</td>\n",
       "      <td>37.290001</td>\n",
       "      <td>14563000.0</td>\n",
       "      <td>32.243584</td>\n",
       "    </tr>\n",
       "  </tbody>\n",
       "</table>\n",
       "</div>"
      ],
      "text/plain": [
       "                 High        Low       Open      Close      Volume  Adj Close\n",
       "Date                                                                         \n",
       "2013-12-20  36.930000  36.189999  36.200001  36.799999  62649100.0  31.819893\n",
       "2013-12-23  36.889999  36.549999  36.810001  36.619999  25128700.0  31.664244\n",
       "2013-12-24  37.169998  36.639999  36.720001  37.080002  14243000.0  32.061996\n",
       "2013-12-26  37.490002  37.169998  37.200001  37.439999  17612800.0  32.373272\n",
       "2013-12-27  37.619999  37.169998  37.580002  37.290001  14563000.0  32.243584"
      ]
     },
     "execution_count": 35,
     "metadata": {},
     "output_type": "execute_result"
    }
   ],
   "source": [
    "stock.iloc[1000:1005]\n",
    "#end point is exclusive, we get six rows in our notation but we pull out till position of 1004"
   ]
  },
  {
   "cell_type": "code",
   "execution_count": 36,
   "metadata": {},
   "outputs": [
    {
     "data": {
      "text/plain": [
       "DatetimeIndex(['1991-04-12', '1992-04-12', '1993-04-12', '1994-04-12',\n",
       "               '1995-04-12', '1996-04-12', '1997-04-12', '1998-04-12',\n",
       "               '1999-04-12', '2000-04-12', '2001-04-12', '2002-04-12',\n",
       "               '2003-04-12', '2004-04-12', '2005-04-12', '2006-04-12',\n",
       "               '2007-04-12', '2008-04-12', '2009-04-12', '2010-04-12',\n",
       "               '2011-04-12', '2012-04-12', '2013-04-12', '2014-04-12',\n",
       "               '2015-04-12', '2016-04-12', '2017-04-12', '2018-04-12',\n",
       "               '2019-04-12', '2020-04-12'],\n",
       "              dtype='datetime64[ns]', freq='<DateOffset: years=1>')"
      ]
     },
     "execution_count": 36,
     "metadata": {},
     "output_type": "execute_result"
    }
   ],
   "source": [
    "#i want to find stock price of microsoft on each of my birthdays\n",
    "#using date range method to generate all rows of my birthdate\n",
    "pd.date_range(start=\"1991-04-12\",end=\"2020-12-31\",freq=pd.DateOffset(years=1))"
   ]
  },
  {
   "cell_type": "code",
   "execution_count": 37,
   "metadata": {},
   "outputs": [],
   "source": [
    "#these values we want to look inside our stock price dataframe\n",
    "birthdays=pd.date_range(start=\"1991-04-12\",end=\"2020-12-31\",freq=pd.DateOffset(years=1))"
   ]
  },
  {
   "cell_type": "code",
   "execution_count": 39,
   "metadata": {},
   "outputs": [
    {
     "data": {
      "text/plain": [
       "array([False, False, False, ..., False, False, False])"
      ]
     },
     "execution_count": 39,
     "metadata": {},
     "output_type": "execute_result"
    }
   ],
   "source": [
    "stock.index.isin(birthdays)\n",
    "#we get boolean array, False meaning stock date doesnt exist in our birthday"
   ]
  },
  {
   "cell_type": "code",
   "execution_count": 40,
   "metadata": {},
   "outputs": [],
   "source": [
    "birthdays_stock=stock.index.isin(birthdays)"
   ]
  },
  {
   "cell_type": "code",
   "execution_count": 41,
   "metadata": {
    "scrolled": true
   },
   "outputs": [
    {
     "data": {
      "text/html": [
       "<div>\n",
       "<style scoped>\n",
       "    .dataframe tbody tr th:only-of-type {\n",
       "        vertical-align: middle;\n",
       "    }\n",
       "\n",
       "    .dataframe tbody tr th {\n",
       "        vertical-align: top;\n",
       "    }\n",
       "\n",
       "    .dataframe thead th {\n",
       "        text-align: right;\n",
       "    }\n",
       "</style>\n",
       "<table border=\"1\" class=\"dataframe\">\n",
       "  <thead>\n",
       "    <tr style=\"text-align: right;\">\n",
       "      <th></th>\n",
       "      <th>High</th>\n",
       "      <th>Low</th>\n",
       "      <th>Open</th>\n",
       "      <th>Close</th>\n",
       "      <th>Volume</th>\n",
       "      <th>Adj Close</th>\n",
       "    </tr>\n",
       "    <tr>\n",
       "      <th>Date</th>\n",
       "      <th></th>\n",
       "      <th></th>\n",
       "      <th></th>\n",
       "      <th></th>\n",
       "      <th></th>\n",
       "      <th></th>\n",
       "    </tr>\n",
       "  </thead>\n",
       "  <tbody>\n",
       "    <tr>\n",
       "      <th>2010-04-12</th>\n",
       "      <td>30.490000</td>\n",
       "      <td>30.209999</td>\n",
       "      <td>30.250000</td>\n",
       "      <td>30.320000</td>\n",
       "      <td>37068800.0</td>\n",
       "      <td>23.725113</td>\n",
       "    </tr>\n",
       "    <tr>\n",
       "      <th>2011-04-12</th>\n",
       "      <td>25.850000</td>\n",
       "      <td>25.549999</td>\n",
       "      <td>25.830000</td>\n",
       "      <td>25.639999</td>\n",
       "      <td>36920400.0</td>\n",
       "      <td>20.506081</td>\n",
       "    </tr>\n",
       "    <tr>\n",
       "      <th>2012-04-12</th>\n",
       "      <td>31.040001</td>\n",
       "      <td>30.420000</td>\n",
       "      <td>30.480000</td>\n",
       "      <td>30.980000</td>\n",
       "      <td>38304000.0</td>\n",
       "      <td>25.452108</td>\n",
       "    </tr>\n",
       "    <tr>\n",
       "      <th>2013-04-12</th>\n",
       "      <td>29.020000</td>\n",
       "      <td>28.660000</td>\n",
       "      <td>28.850000</td>\n",
       "      <td>28.790001</td>\n",
       "      <td>62886300.0</td>\n",
       "      <td>24.362782</td>\n",
       "    </tr>\n",
       "    <tr>\n",
       "      <th>2016-04-12</th>\n",
       "      <td>54.779999</td>\n",
       "      <td>53.759998</td>\n",
       "      <td>54.369999</td>\n",
       "      <td>54.650002</td>\n",
       "      <td>24944300.0</td>\n",
       "      <td>50.227928</td>\n",
       "    </tr>\n",
       "    <tr>\n",
       "      <th>2017-04-12</th>\n",
       "      <td>65.510002</td>\n",
       "      <td>65.110001</td>\n",
       "      <td>65.419998</td>\n",
       "      <td>65.230003</td>\n",
       "      <td>17108500.0</td>\n",
       "      <td>61.528580</td>\n",
       "    </tr>\n",
       "    <tr>\n",
       "      <th>2018-04-12</th>\n",
       "      <td>94.160004</td>\n",
       "      <td>92.430000</td>\n",
       "      <td>92.430000</td>\n",
       "      <td>93.580002</td>\n",
       "      <td>26758900.0</td>\n",
       "      <td>90.118393</td>\n",
       "    </tr>\n",
       "    <tr>\n",
       "      <th>2019-04-12</th>\n",
       "      <td>120.980003</td>\n",
       "      <td>120.370003</td>\n",
       "      <td>120.639999</td>\n",
       "      <td>120.949997</td>\n",
       "      <td>19745100.0</td>\n",
       "      <td>118.441963</td>\n",
       "    </tr>\n",
       "  </tbody>\n",
       "</table>\n",
       "</div>"
      ],
      "text/plain": [
       "                  High         Low        Open       Close      Volume  \\\n",
       "Date                                                                     \n",
       "2010-04-12   30.490000   30.209999   30.250000   30.320000  37068800.0   \n",
       "2011-04-12   25.850000   25.549999   25.830000   25.639999  36920400.0   \n",
       "2012-04-12   31.040001   30.420000   30.480000   30.980000  38304000.0   \n",
       "2013-04-12   29.020000   28.660000   28.850000   28.790001  62886300.0   \n",
       "2016-04-12   54.779999   53.759998   54.369999   54.650002  24944300.0   \n",
       "2017-04-12   65.510002   65.110001   65.419998   65.230003  17108500.0   \n",
       "2018-04-12   94.160004   92.430000   92.430000   93.580002  26758900.0   \n",
       "2019-04-12  120.980003  120.370003  120.639999  120.949997  19745100.0   \n",
       "\n",
       "             Adj Close  \n",
       "Date                    \n",
       "2010-04-12   23.725113  \n",
       "2011-04-12   20.506081  \n",
       "2012-04-12   25.452108  \n",
       "2013-04-12   24.362782  \n",
       "2016-04-12   50.227928  \n",
       "2017-04-12   61.528580  \n",
       "2018-04-12   90.118393  \n",
       "2019-04-12  118.441963  "
      ]
     },
     "execution_count": 41,
     "metadata": {},
     "output_type": "execute_result"
    }
   ],
   "source": [
    "stock[birthdays_stock]\n",
    "#2014 year missing b/c it might have fallen on weekend hence stock value was missing"
   ]
  },
  {
   "cell_type": "code",
   "execution_count": 42,
   "metadata": {},
   "outputs": [
    {
     "data": {
      "text/html": [
       "<div>\n",
       "<style scoped>\n",
       "    .dataframe tbody tr th:only-of-type {\n",
       "        vertical-align: middle;\n",
       "    }\n",
       "\n",
       "    .dataframe tbody tr th {\n",
       "        vertical-align: top;\n",
       "    }\n",
       "\n",
       "    .dataframe thead th {\n",
       "        text-align: right;\n",
       "    }\n",
       "</style>\n",
       "<table border=\"1\" class=\"dataframe\">\n",
       "  <thead>\n",
       "    <tr style=\"text-align: right;\">\n",
       "      <th></th>\n",
       "      <th>High</th>\n",
       "      <th>Low</th>\n",
       "      <th>Open</th>\n",
       "      <th>Close</th>\n",
       "      <th>Volume</th>\n",
       "      <th>Adj Close</th>\n",
       "    </tr>\n",
       "    <tr>\n",
       "      <th>Date</th>\n",
       "      <th></th>\n",
       "      <th></th>\n",
       "      <th></th>\n",
       "      <th></th>\n",
       "      <th></th>\n",
       "      <th></th>\n",
       "    </tr>\n",
       "  </thead>\n",
       "  <tbody>\n",
       "    <tr>\n",
       "      <th>2010-04-12</th>\n",
       "      <td>30.490000</td>\n",
       "      <td>30.209999</td>\n",
       "      <td>30.250000</td>\n",
       "      <td>30.320000</td>\n",
       "      <td>37068800.0</td>\n",
       "      <td>23.725113</td>\n",
       "    </tr>\n",
       "    <tr>\n",
       "      <th>2011-04-12</th>\n",
       "      <td>25.850000</td>\n",
       "      <td>25.549999</td>\n",
       "      <td>25.830000</td>\n",
       "      <td>25.639999</td>\n",
       "      <td>36920400.0</td>\n",
       "      <td>20.506081</td>\n",
       "    </tr>\n",
       "    <tr>\n",
       "      <th>2012-04-12</th>\n",
       "      <td>31.040001</td>\n",
       "      <td>30.420000</td>\n",
       "      <td>30.480000</td>\n",
       "      <td>30.980000</td>\n",
       "      <td>38304000.0</td>\n",
       "      <td>25.452108</td>\n",
       "    </tr>\n",
       "    <tr>\n",
       "      <th>2013-04-12</th>\n",
       "      <td>29.020000</td>\n",
       "      <td>28.660000</td>\n",
       "      <td>28.850000</td>\n",
       "      <td>28.790001</td>\n",
       "      <td>62886300.0</td>\n",
       "      <td>24.362782</td>\n",
       "    </tr>\n",
       "    <tr>\n",
       "      <th>2016-04-12</th>\n",
       "      <td>54.779999</td>\n",
       "      <td>53.759998</td>\n",
       "      <td>54.369999</td>\n",
       "      <td>54.650002</td>\n",
       "      <td>24944300.0</td>\n",
       "      <td>50.227928</td>\n",
       "    </tr>\n",
       "    <tr>\n",
       "      <th>2017-04-12</th>\n",
       "      <td>65.510002</td>\n",
       "      <td>65.110001</td>\n",
       "      <td>65.419998</td>\n",
       "      <td>65.230003</td>\n",
       "      <td>17108500.0</td>\n",
       "      <td>61.528580</td>\n",
       "    </tr>\n",
       "    <tr>\n",
       "      <th>2018-04-12</th>\n",
       "      <td>94.160004</td>\n",
       "      <td>92.430000</td>\n",
       "      <td>92.430000</td>\n",
       "      <td>93.580002</td>\n",
       "      <td>26758900.0</td>\n",
       "      <td>90.118393</td>\n",
       "    </tr>\n",
       "    <tr>\n",
       "      <th>2019-04-12</th>\n",
       "      <td>120.980003</td>\n",
       "      <td>120.370003</td>\n",
       "      <td>120.639999</td>\n",
       "      <td>120.949997</td>\n",
       "      <td>19745100.0</td>\n",
       "      <td>118.441963</td>\n",
       "    </tr>\n",
       "  </tbody>\n",
       "</table>\n",
       "</div>"
      ],
      "text/plain": [
       "                  High         Low        Open       Close      Volume  \\\n",
       "Date                                                                     \n",
       "2010-04-12   30.490000   30.209999   30.250000   30.320000  37068800.0   \n",
       "2011-04-12   25.850000   25.549999   25.830000   25.639999  36920400.0   \n",
       "2012-04-12   31.040001   30.420000   30.480000   30.980000  38304000.0   \n",
       "2013-04-12   29.020000   28.660000   28.850000   28.790001  62886300.0   \n",
       "2016-04-12   54.779999   53.759998   54.369999   54.650002  24944300.0   \n",
       "2017-04-12   65.510002   65.110001   65.419998   65.230003  17108500.0   \n",
       "2018-04-12   94.160004   92.430000   92.430000   93.580002  26758900.0   \n",
       "2019-04-12  120.980003  120.370003  120.639999  120.949997  19745100.0   \n",
       "\n",
       "             Adj Close  \n",
       "Date                    \n",
       "2010-04-12   23.725113  \n",
       "2011-04-12   20.506081  \n",
       "2012-04-12   25.452108  \n",
       "2013-04-12   24.362782  \n",
       "2016-04-12   50.227928  \n",
       "2017-04-12   61.528580  \n",
       "2018-04-12   90.118393  \n",
       "2019-04-12  118.441963  "
      ]
     },
     "execution_count": 42,
     "metadata": {},
     "output_type": "execute_result"
    }
   ],
   "source": [
    "stock.loc[birthdays_stock]\n",
    "#this wil give same result but also changes origninal dataframe"
   ]
  },
  {
   "cell_type": "markdown",
   "metadata": {},
   "source": [
    "### Timestamp Object Attributes and Methods"
   ]
  },
  {
   "cell_type": "markdown",
   "metadata": {},
   "source": [
    "146. Timestamp Object Attributes and Methods"
   ]
  },
  {
   "cell_type": "code",
   "execution_count": 43,
   "metadata": {},
   "outputs": [],
   "source": [
    "#we will see pandas timestamp objects and how to apply on datetime index"
   ]
  },
  {
   "cell_type": "code",
   "execution_count": 44,
   "metadata": {},
   "outputs": [
    {
     "data": {
      "text/html": [
       "<div>\n",
       "<style scoped>\n",
       "    .dataframe tbody tr th:only-of-type {\n",
       "        vertical-align: middle;\n",
       "    }\n",
       "\n",
       "    .dataframe tbody tr th {\n",
       "        vertical-align: top;\n",
       "    }\n",
       "\n",
       "    .dataframe thead th {\n",
       "        text-align: right;\n",
       "    }\n",
       "</style>\n",
       "<table border=\"1\" class=\"dataframe\">\n",
       "  <thead>\n",
       "    <tr style=\"text-align: right;\">\n",
       "      <th></th>\n",
       "      <th>High</th>\n",
       "      <th>Low</th>\n",
       "      <th>Open</th>\n",
       "      <th>Close</th>\n",
       "      <th>Volume</th>\n",
       "      <th>Adj Close</th>\n",
       "    </tr>\n",
       "    <tr>\n",
       "      <th>Date</th>\n",
       "      <th></th>\n",
       "      <th></th>\n",
       "      <th></th>\n",
       "      <th></th>\n",
       "      <th></th>\n",
       "      <th></th>\n",
       "    </tr>\n",
       "  </thead>\n",
       "  <tbody>\n",
       "    <tr>\n",
       "      <th>2009-12-31</th>\n",
       "      <td>30.99</td>\n",
       "      <td>30.480000</td>\n",
       "      <td>30.980000</td>\n",
       "      <td>30.480000</td>\n",
       "      <td>31929700.0</td>\n",
       "      <td>23.739305</td>\n",
       "    </tr>\n",
       "    <tr>\n",
       "      <th>2010-01-04</th>\n",
       "      <td>31.10</td>\n",
       "      <td>30.590000</td>\n",
       "      <td>30.620001</td>\n",
       "      <td>30.950001</td>\n",
       "      <td>38409100.0</td>\n",
       "      <td>24.105360</td>\n",
       "    </tr>\n",
       "    <tr>\n",
       "      <th>2010-01-05</th>\n",
       "      <td>31.10</td>\n",
       "      <td>30.639999</td>\n",
       "      <td>30.850000</td>\n",
       "      <td>30.959999</td>\n",
       "      <td>49749600.0</td>\n",
       "      <td>24.113148</td>\n",
       "    </tr>\n",
       "  </tbody>\n",
       "</table>\n",
       "</div>"
      ],
      "text/plain": [
       "             High        Low       Open      Close      Volume  Adj Close\n",
       "Date                                                                     \n",
       "2009-12-31  30.99  30.480000  30.980000  30.480000  31929700.0  23.739305\n",
       "2010-01-04  31.10  30.590000  30.620001  30.950001  38409100.0  24.105360\n",
       "2010-01-05  31.10  30.639999  30.850000  30.959999  49749600.0  24.113148"
      ]
     },
     "execution_count": 44,
     "metadata": {},
     "output_type": "execute_result"
    }
   ],
   "source": [
    "stock=data.DataReader(name=\"MSFT\",data_source=\"yahoo\",start=\"2010-01-01\",end=\"2020-12-31\")\n",
    "stock.head(3)"
   ]
  },
  {
   "cell_type": "code",
   "execution_count": 45,
   "metadata": {},
   "outputs": [
    {
     "data": {
      "text/plain": [
       "DatetimeIndex(['2009-12-31', '2010-01-04', '2010-01-05', '2010-01-06',\n",
       "               '2010-01-07', '2010-01-08', '2010-01-11', '2010-01-12',\n",
       "               '2010-01-13', '2010-01-14',\n",
       "               ...\n",
       "               '2020-11-13', '2020-11-16', '2020-11-17', '2020-11-18',\n",
       "               '2020-11-19', '2020-11-20', '2020-11-23', '2020-11-24',\n",
       "               '2020-11-25', '2020-11-27'],\n",
       "              dtype='datetime64[ns]', name='Date', length=2747, freq=None)"
      ]
     },
     "execution_count": 45,
     "metadata": {},
     "output_type": "execute_result"
    }
   ],
   "source": [
    "#accesing our datetime index\n",
    "stock.index"
   ]
  },
  {
   "cell_type": "code",
   "execution_count": 46,
   "metadata": {},
   "outputs": [
    {
     "data": {
      "text/plain": [
       "Timestamp('2011-12-23 00:00:00')"
      ]
     },
     "execution_count": 46,
     "metadata": {},
     "output_type": "execute_result"
    }
   ],
   "source": [
    "#we can pull index\n",
    "stock.index[500]\n",
    "#this dataset doesnt provide time so 00:00"
   ]
  },
  {
   "cell_type": "code",
   "execution_count": 47,
   "metadata": {},
   "outputs": [
    {
     "data": {
      "text/plain": [
       "Timestamp('2011-12-23 00:00:00')"
      ]
     },
     "execution_count": 47,
     "metadata": {},
     "output_type": "execute_result"
    }
   ],
   "source": [
    "someday=stock.index[500]\n",
    "someday"
   ]
  },
  {
   "cell_type": "code",
   "execution_count": 48,
   "metadata": {},
   "outputs": [
    {
     "data": {
      "text/plain": [
       "12"
      ]
     },
     "execution_count": 48,
     "metadata": {},
     "output_type": "execute_result"
    }
   ],
   "source": [
    "#available attributes on this timeindex object\n",
    "someday.month"
   ]
  },
  {
   "cell_type": "code",
   "execution_count": 49,
   "metadata": {},
   "outputs": [
    {
     "data": {
      "text/plain": [
       "51"
      ]
     },
     "execution_count": 49,
     "metadata": {},
     "output_type": "execute_result"
    }
   ],
   "source": [
    "someday.week"
   ]
  },
  {
   "cell_type": "code",
   "execution_count": 50,
   "metadata": {},
   "outputs": [
    {
     "data": {
      "text/plain": [
       "False"
      ]
     },
     "execution_count": 50,
     "metadata": {},
     "output_type": "execute_result"
    }
   ],
   "source": [
    "#to tell whether our timestamp falls on a given day\n",
    "someday.is_month_start"
   ]
  },
  {
   "cell_type": "code",
   "execution_count": 51,
   "metadata": {},
   "outputs": [
    {
     "data": {
      "text/plain": [
       "False"
      ]
     },
     "execution_count": 51,
     "metadata": {},
     "output_type": "execute_result"
    }
   ],
   "source": [
    "someday.is_month_end"
   ]
  },
  {
   "cell_type": "code",
   "execution_count": 52,
   "metadata": {},
   "outputs": [
    {
     "data": {
      "text/plain": [
       "False"
      ]
     },
     "execution_count": 52,
     "metadata": {},
     "output_type": "execute_result"
    }
   ],
   "source": [
    "someday.is_quarter_start"
   ]
  },
  {
   "cell_type": "code",
   "execution_count": 53,
   "metadata": {},
   "outputs": [
    {
     "data": {
      "text/plain": [
       "False"
      ]
     },
     "execution_count": 53,
     "metadata": {},
     "output_type": "execute_result"
    }
   ],
   "source": [
    "someday.is_quarter_end"
   ]
  },
  {
   "cell_type": "code",
   "execution_count": 54,
   "metadata": {},
   "outputs": [
    {
     "data": {
      "text/plain": [
       "23"
      ]
     },
     "execution_count": 54,
     "metadata": {},
     "output_type": "execute_result"
    }
   ],
   "source": [
    "someday.day"
   ]
  },
  {
   "cell_type": "code",
   "execution_count": 55,
   "metadata": {},
   "outputs": [
    {
     "data": {
      "text/plain": [
       "'December'"
      ]
     },
     "execution_count": 55,
     "metadata": {},
     "output_type": "execute_result"
    }
   ],
   "source": [
    "#there are a lot of helpful methods\n",
    "someday.month_name()\n",
    "#calling a method requires some kind of logic/business operation"
   ]
  },
  {
   "cell_type": "code",
   "execution_count": 57,
   "metadata": {},
   "outputs": [
    {
     "data": {
      "text/plain": [
       "'Friday'"
      ]
     },
     "execution_count": 57,
     "metadata": {},
     "output_type": "execute_result"
    }
   ],
   "source": [
    "someday.day_name()\n",
    "#gives day of the week this day falls on"
   ]
  },
  {
   "cell_type": "code",
   "execution_count": 58,
   "metadata": {},
   "outputs": [
    {
     "data": {
      "text/plain": [
       "Index(['Thursday', 'Monday', 'Tuesday', 'Wednesday', 'Thursday', 'Friday',\n",
       "       'Monday', 'Tuesday', 'Wednesday', 'Thursday',\n",
       "       ...\n",
       "       'Friday', 'Monday', 'Tuesday', 'Wednesday', 'Thursday', 'Friday',\n",
       "       'Monday', 'Tuesday', 'Wednesday', 'Friday'],\n",
       "      dtype='object', name='Date', length=2747)"
      ]
     },
     "execution_count": 58,
     "metadata": {},
     "output_type": "execute_result"
    }
   ],
   "source": [
    "#we can access any of these attributes or method on datetime index\n",
    "#it is going to go to every value and figure out the result\n",
    "stock.index.day_name()\n",
    "#it generates a new pandas index and calls method on them"
   ]
  },
  {
   "cell_type": "code",
   "execution_count": 59,
   "metadata": {},
   "outputs": [],
   "source": [
    "#we can add it as a regular column in our stock datafram\n",
    "stock.insert(0,column=\"Day of week\",value=stock.index.day_name())"
   ]
  },
  {
   "cell_type": "code",
   "execution_count": 60,
   "metadata": {
    "scrolled": true
   },
   "outputs": [
    {
     "data": {
      "text/html": [
       "<div>\n",
       "<style scoped>\n",
       "    .dataframe tbody tr th:only-of-type {\n",
       "        vertical-align: middle;\n",
       "    }\n",
       "\n",
       "    .dataframe tbody tr th {\n",
       "        vertical-align: top;\n",
       "    }\n",
       "\n",
       "    .dataframe thead th {\n",
       "        text-align: right;\n",
       "    }\n",
       "</style>\n",
       "<table border=\"1\" class=\"dataframe\">\n",
       "  <thead>\n",
       "    <tr style=\"text-align: right;\">\n",
       "      <th></th>\n",
       "      <th>Day of week</th>\n",
       "      <th>High</th>\n",
       "      <th>Low</th>\n",
       "      <th>Open</th>\n",
       "      <th>Close</th>\n",
       "      <th>Volume</th>\n",
       "      <th>Adj Close</th>\n",
       "    </tr>\n",
       "    <tr>\n",
       "      <th>Date</th>\n",
       "      <th></th>\n",
       "      <th></th>\n",
       "      <th></th>\n",
       "      <th></th>\n",
       "      <th></th>\n",
       "      <th></th>\n",
       "      <th></th>\n",
       "    </tr>\n",
       "  </thead>\n",
       "  <tbody>\n",
       "    <tr>\n",
       "      <th>2009-12-31</th>\n",
       "      <td>Thursday</td>\n",
       "      <td>30.990000</td>\n",
       "      <td>30.480000</td>\n",
       "      <td>30.980000</td>\n",
       "      <td>30.480000</td>\n",
       "      <td>31929700.0</td>\n",
       "      <td>23.739305</td>\n",
       "    </tr>\n",
       "    <tr>\n",
       "      <th>2010-01-04</th>\n",
       "      <td>Monday</td>\n",
       "      <td>31.100000</td>\n",
       "      <td>30.590000</td>\n",
       "      <td>30.620001</td>\n",
       "      <td>30.950001</td>\n",
       "      <td>38409100.0</td>\n",
       "      <td>24.105360</td>\n",
       "    </tr>\n",
       "    <tr>\n",
       "      <th>2010-01-05</th>\n",
       "      <td>Tuesday</td>\n",
       "      <td>31.100000</td>\n",
       "      <td>30.639999</td>\n",
       "      <td>30.850000</td>\n",
       "      <td>30.959999</td>\n",
       "      <td>49749600.0</td>\n",
       "      <td>24.113148</td>\n",
       "    </tr>\n",
       "    <tr>\n",
       "      <th>2010-01-06</th>\n",
       "      <td>Wednesday</td>\n",
       "      <td>31.080000</td>\n",
       "      <td>30.520000</td>\n",
       "      <td>30.879999</td>\n",
       "      <td>30.770000</td>\n",
       "      <td>58182400.0</td>\n",
       "      <td>23.965164</td>\n",
       "    </tr>\n",
       "    <tr>\n",
       "      <th>2010-01-07</th>\n",
       "      <td>Thursday</td>\n",
       "      <td>30.700001</td>\n",
       "      <td>30.190001</td>\n",
       "      <td>30.629999</td>\n",
       "      <td>30.450001</td>\n",
       "      <td>50559700.0</td>\n",
       "      <td>23.715933</td>\n",
       "    </tr>\n",
       "    <tr>\n",
       "      <th>...</th>\n",
       "      <td>...</td>\n",
       "      <td>...</td>\n",
       "      <td>...</td>\n",
       "      <td>...</td>\n",
       "      <td>...</td>\n",
       "      <td>...</td>\n",
       "      <td>...</td>\n",
       "    </tr>\n",
       "    <tr>\n",
       "      <th>2020-11-20</th>\n",
       "      <td>Friday</td>\n",
       "      <td>213.289993</td>\n",
       "      <td>210.000000</td>\n",
       "      <td>212.199997</td>\n",
       "      <td>210.389999</td>\n",
       "      <td>22829100.0</td>\n",
       "      <td>210.389999</td>\n",
       "    </tr>\n",
       "    <tr>\n",
       "      <th>2020-11-23</th>\n",
       "      <td>Monday</td>\n",
       "      <td>212.289993</td>\n",
       "      <td>208.160004</td>\n",
       "      <td>210.949997</td>\n",
       "      <td>210.110001</td>\n",
       "      <td>25683500.0</td>\n",
       "      <td>210.110001</td>\n",
       "    </tr>\n",
       "    <tr>\n",
       "      <th>2020-11-24</th>\n",
       "      <td>Tuesday</td>\n",
       "      <td>214.250000</td>\n",
       "      <td>208.860001</td>\n",
       "      <td>209.589996</td>\n",
       "      <td>213.860001</td>\n",
       "      <td>33979700.0</td>\n",
       "      <td>213.860001</td>\n",
       "    </tr>\n",
       "    <tr>\n",
       "      <th>2020-11-25</th>\n",
       "      <td>Wednesday</td>\n",
       "      <td>215.289993</td>\n",
       "      <td>212.460007</td>\n",
       "      <td>215.110001</td>\n",
       "      <td>213.869995</td>\n",
       "      <td>21012900.0</td>\n",
       "      <td>213.869995</td>\n",
       "    </tr>\n",
       "    <tr>\n",
       "      <th>2020-11-27</th>\n",
       "      <td>Friday</td>\n",
       "      <td>216.270004</td>\n",
       "      <td>214.039993</td>\n",
       "      <td>214.850006</td>\n",
       "      <td>215.229996</td>\n",
       "      <td>14512200.0</td>\n",
       "      <td>215.229996</td>\n",
       "    </tr>\n",
       "  </tbody>\n",
       "</table>\n",
       "<p>2747 rows × 7 columns</p>\n",
       "</div>"
      ],
      "text/plain": [
       "           Day of week        High         Low        Open       Close  \\\n",
       "Date                                                                     \n",
       "2009-12-31    Thursday   30.990000   30.480000   30.980000   30.480000   \n",
       "2010-01-04      Monday   31.100000   30.590000   30.620001   30.950001   \n",
       "2010-01-05     Tuesday   31.100000   30.639999   30.850000   30.959999   \n",
       "2010-01-06   Wednesday   31.080000   30.520000   30.879999   30.770000   \n",
       "2010-01-07    Thursday   30.700001   30.190001   30.629999   30.450001   \n",
       "...                ...         ...         ...         ...         ...   \n",
       "2020-11-20      Friday  213.289993  210.000000  212.199997  210.389999   \n",
       "2020-11-23      Monday  212.289993  208.160004  210.949997  210.110001   \n",
       "2020-11-24     Tuesday  214.250000  208.860001  209.589996  213.860001   \n",
       "2020-11-25   Wednesday  215.289993  212.460007  215.110001  213.869995   \n",
       "2020-11-27      Friday  216.270004  214.039993  214.850006  215.229996   \n",
       "\n",
       "                Volume   Adj Close  \n",
       "Date                                \n",
       "2009-12-31  31929700.0   23.739305  \n",
       "2010-01-04  38409100.0   24.105360  \n",
       "2010-01-05  49749600.0   24.113148  \n",
       "2010-01-06  58182400.0   23.965164  \n",
       "2010-01-07  50559700.0   23.715933  \n",
       "...                ...         ...  \n",
       "2020-11-20  22829100.0  210.389999  \n",
       "2020-11-23  25683500.0  210.110001  \n",
       "2020-11-24  33979700.0  213.860001  \n",
       "2020-11-25  21012900.0  213.869995  \n",
       "2020-11-27  14512200.0  215.229996  \n",
       "\n",
       "[2747 rows x 7 columns]"
      ]
     },
     "execution_count": 60,
     "metadata": {},
     "output_type": "execute_result"
    }
   ],
   "source": [
    "stock "
   ]
  },
  {
   "cell_type": "code",
   "execution_count": 61,
   "metadata": {},
   "outputs": [
    {
     "data": {
      "text/plain": [
       "array([False, False, False, ..., False, False, False])"
      ]
     },
     "execution_count": 61,
     "metadata": {},
     "output_type": "execute_result"
    }
   ],
   "source": [
    "#lets say we want an attribute\n",
    "stock.index.is_month_start"
   ]
  },
  {
   "cell_type": "code",
   "execution_count": 64,
   "metadata": {
    "scrolled": true
   },
   "outputs": [],
   "source": [
    "stock.insert(1,\"Is Start of Month\",value=stock.index.is_month_start)"
   ]
  },
  {
   "cell_type": "code",
   "execution_count": 65,
   "metadata": {
    "scrolled": true
   },
   "outputs": [
    {
     "data": {
      "text/html": [
       "<div>\n",
       "<style scoped>\n",
       "    .dataframe tbody tr th:only-of-type {\n",
       "        vertical-align: middle;\n",
       "    }\n",
       "\n",
       "    .dataframe tbody tr th {\n",
       "        vertical-align: top;\n",
       "    }\n",
       "\n",
       "    .dataframe thead th {\n",
       "        text-align: right;\n",
       "    }\n",
       "</style>\n",
       "<table border=\"1\" class=\"dataframe\">\n",
       "  <thead>\n",
       "    <tr style=\"text-align: right;\">\n",
       "      <th></th>\n",
       "      <th>Day of week</th>\n",
       "      <th>Is Start of Month</th>\n",
       "      <th>High</th>\n",
       "      <th>Low</th>\n",
       "      <th>Open</th>\n",
       "      <th>Close</th>\n",
       "      <th>Volume</th>\n",
       "      <th>Adj Close</th>\n",
       "    </tr>\n",
       "    <tr>\n",
       "      <th>Date</th>\n",
       "      <th></th>\n",
       "      <th></th>\n",
       "      <th></th>\n",
       "      <th></th>\n",
       "      <th></th>\n",
       "      <th></th>\n",
       "      <th></th>\n",
       "      <th></th>\n",
       "    </tr>\n",
       "  </thead>\n",
       "  <tbody>\n",
       "    <tr>\n",
       "      <th>2009-12-31</th>\n",
       "      <td>Thursday</td>\n",
       "      <td>False</td>\n",
       "      <td>30.990000</td>\n",
       "      <td>30.480000</td>\n",
       "      <td>30.980000</td>\n",
       "      <td>30.480000</td>\n",
       "      <td>31929700.0</td>\n",
       "      <td>23.739305</td>\n",
       "    </tr>\n",
       "    <tr>\n",
       "      <th>2010-01-04</th>\n",
       "      <td>Monday</td>\n",
       "      <td>False</td>\n",
       "      <td>31.100000</td>\n",
       "      <td>30.590000</td>\n",
       "      <td>30.620001</td>\n",
       "      <td>30.950001</td>\n",
       "      <td>38409100.0</td>\n",
       "      <td>24.105360</td>\n",
       "    </tr>\n",
       "    <tr>\n",
       "      <th>2010-01-05</th>\n",
       "      <td>Tuesday</td>\n",
       "      <td>False</td>\n",
       "      <td>31.100000</td>\n",
       "      <td>30.639999</td>\n",
       "      <td>30.850000</td>\n",
       "      <td>30.959999</td>\n",
       "      <td>49749600.0</td>\n",
       "      <td>24.113148</td>\n",
       "    </tr>\n",
       "    <tr>\n",
       "      <th>2010-01-06</th>\n",
       "      <td>Wednesday</td>\n",
       "      <td>False</td>\n",
       "      <td>31.080000</td>\n",
       "      <td>30.520000</td>\n",
       "      <td>30.879999</td>\n",
       "      <td>30.770000</td>\n",
       "      <td>58182400.0</td>\n",
       "      <td>23.965164</td>\n",
       "    </tr>\n",
       "    <tr>\n",
       "      <th>2010-01-07</th>\n",
       "      <td>Thursday</td>\n",
       "      <td>False</td>\n",
       "      <td>30.700001</td>\n",
       "      <td>30.190001</td>\n",
       "      <td>30.629999</td>\n",
       "      <td>30.450001</td>\n",
       "      <td>50559700.0</td>\n",
       "      <td>23.715933</td>\n",
       "    </tr>\n",
       "    <tr>\n",
       "      <th>...</th>\n",
       "      <td>...</td>\n",
       "      <td>...</td>\n",
       "      <td>...</td>\n",
       "      <td>...</td>\n",
       "      <td>...</td>\n",
       "      <td>...</td>\n",
       "      <td>...</td>\n",
       "      <td>...</td>\n",
       "    </tr>\n",
       "    <tr>\n",
       "      <th>2020-11-20</th>\n",
       "      <td>Friday</td>\n",
       "      <td>False</td>\n",
       "      <td>213.289993</td>\n",
       "      <td>210.000000</td>\n",
       "      <td>212.199997</td>\n",
       "      <td>210.389999</td>\n",
       "      <td>22829100.0</td>\n",
       "      <td>210.389999</td>\n",
       "    </tr>\n",
       "    <tr>\n",
       "      <th>2020-11-23</th>\n",
       "      <td>Monday</td>\n",
       "      <td>False</td>\n",
       "      <td>212.289993</td>\n",
       "      <td>208.160004</td>\n",
       "      <td>210.949997</td>\n",
       "      <td>210.110001</td>\n",
       "      <td>25683500.0</td>\n",
       "      <td>210.110001</td>\n",
       "    </tr>\n",
       "    <tr>\n",
       "      <th>2020-11-24</th>\n",
       "      <td>Tuesday</td>\n",
       "      <td>False</td>\n",
       "      <td>214.250000</td>\n",
       "      <td>208.860001</td>\n",
       "      <td>209.589996</td>\n",
       "      <td>213.860001</td>\n",
       "      <td>33979700.0</td>\n",
       "      <td>213.860001</td>\n",
       "    </tr>\n",
       "    <tr>\n",
       "      <th>2020-11-25</th>\n",
       "      <td>Wednesday</td>\n",
       "      <td>False</td>\n",
       "      <td>215.289993</td>\n",
       "      <td>212.460007</td>\n",
       "      <td>215.110001</td>\n",
       "      <td>213.869995</td>\n",
       "      <td>21012900.0</td>\n",
       "      <td>213.869995</td>\n",
       "    </tr>\n",
       "    <tr>\n",
       "      <th>2020-11-27</th>\n",
       "      <td>Friday</td>\n",
       "      <td>False</td>\n",
       "      <td>216.270004</td>\n",
       "      <td>214.039993</td>\n",
       "      <td>214.850006</td>\n",
       "      <td>215.229996</td>\n",
       "      <td>14512200.0</td>\n",
       "      <td>215.229996</td>\n",
       "    </tr>\n",
       "  </tbody>\n",
       "</table>\n",
       "<p>2747 rows × 8 columns</p>\n",
       "</div>"
      ],
      "text/plain": [
       "           Day of week  Is Start of Month        High         Low        Open  \\\n",
       "Date                                                                            \n",
       "2009-12-31    Thursday              False   30.990000   30.480000   30.980000   \n",
       "2010-01-04      Monday              False   31.100000   30.590000   30.620001   \n",
       "2010-01-05     Tuesday              False   31.100000   30.639999   30.850000   \n",
       "2010-01-06   Wednesday              False   31.080000   30.520000   30.879999   \n",
       "2010-01-07    Thursday              False   30.700001   30.190001   30.629999   \n",
       "...                ...                ...         ...         ...         ...   \n",
       "2020-11-20      Friday              False  213.289993  210.000000  212.199997   \n",
       "2020-11-23      Monday              False  212.289993  208.160004  210.949997   \n",
       "2020-11-24     Tuesday              False  214.250000  208.860001  209.589996   \n",
       "2020-11-25   Wednesday              False  215.289993  212.460007  215.110001   \n",
       "2020-11-27      Friday              False  216.270004  214.039993  214.850006   \n",
       "\n",
       "                 Close      Volume   Adj Close  \n",
       "Date                                            \n",
       "2009-12-31   30.480000  31929700.0   23.739305  \n",
       "2010-01-04   30.950001  38409100.0   24.105360  \n",
       "2010-01-05   30.959999  49749600.0   24.113148  \n",
       "2010-01-06   30.770000  58182400.0   23.965164  \n",
       "2010-01-07   30.450001  50559700.0   23.715933  \n",
       "...                ...         ...         ...  \n",
       "2020-11-20  210.389999  22829100.0  210.389999  \n",
       "2020-11-23  210.110001  25683500.0  210.110001  \n",
       "2020-11-24  213.860001  33979700.0  213.860001  \n",
       "2020-11-25  213.869995  21012900.0  213.869995  \n",
       "2020-11-27  215.229996  14512200.0  215.229996  \n",
       "\n",
       "[2747 rows x 8 columns]"
      ]
     },
     "execution_count": 65,
     "metadata": {},
     "output_type": "execute_result"
    }
   ],
   "source": [
    "stock"
   ]
  },
  {
   "cell_type": "code",
   "execution_count": 66,
   "metadata": {},
   "outputs": [
    {
     "data": {
      "text/plain": [
       "Date\n",
       "2009-12-31    False\n",
       "2010-01-04    False\n",
       "2010-01-05    False\n",
       "2010-01-06    False\n",
       "2010-01-07    False\n",
       "              ...  \n",
       "2020-11-20    False\n",
       "2020-11-23    False\n",
       "2020-11-24    False\n",
       "2020-11-25    False\n",
       "2020-11-27    False\n",
       "Name: Is Start of Month, Length: 2747, dtype: bool"
      ]
     },
     "execution_count": 66,
     "metadata": {},
     "output_type": "execute_result"
    }
   ],
   "source": [
    "#we can filter data\n",
    "#lets say we want all rows with first start of month\n",
    "stock[\"Is Start of Month\"]"
   ]
  },
  {
   "cell_type": "code",
   "execution_count": 67,
   "metadata": {
    "scrolled": true
   },
   "outputs": [
    {
     "data": {
      "text/html": [
       "<div>\n",
       "<style scoped>\n",
       "    .dataframe tbody tr th:only-of-type {\n",
       "        vertical-align: middle;\n",
       "    }\n",
       "\n",
       "    .dataframe tbody tr th {\n",
       "        vertical-align: top;\n",
       "    }\n",
       "\n",
       "    .dataframe thead th {\n",
       "        text-align: right;\n",
       "    }\n",
       "</style>\n",
       "<table border=\"1\" class=\"dataframe\">\n",
       "  <thead>\n",
       "    <tr style=\"text-align: right;\">\n",
       "      <th></th>\n",
       "      <th>Day of week</th>\n",
       "      <th>Is Start of Month</th>\n",
       "      <th>High</th>\n",
       "      <th>Low</th>\n",
       "      <th>Open</th>\n",
       "      <th>Close</th>\n",
       "      <th>Volume</th>\n",
       "      <th>Adj Close</th>\n",
       "    </tr>\n",
       "    <tr>\n",
       "      <th>Date</th>\n",
       "      <th></th>\n",
       "      <th></th>\n",
       "      <th></th>\n",
       "      <th></th>\n",
       "      <th></th>\n",
       "      <th></th>\n",
       "      <th></th>\n",
       "      <th></th>\n",
       "    </tr>\n",
       "  </thead>\n",
       "  <tbody>\n",
       "    <tr>\n",
       "      <th>2010-02-01</th>\n",
       "      <td>Monday</td>\n",
       "      <td>True</td>\n",
       "      <td>28.480000</td>\n",
       "      <td>27.920000</td>\n",
       "      <td>28.389999</td>\n",
       "      <td>28.410000</td>\n",
       "      <td>85931100.0</td>\n",
       "      <td>22.127089</td>\n",
       "    </tr>\n",
       "    <tr>\n",
       "      <th>2010-03-01</th>\n",
       "      <td>Monday</td>\n",
       "      <td>True</td>\n",
       "      <td>29.049999</td>\n",
       "      <td>28.530001</td>\n",
       "      <td>28.770000</td>\n",
       "      <td>29.020000</td>\n",
       "      <td>43805400.0</td>\n",
       "      <td>22.707878</td>\n",
       "    </tr>\n",
       "    <tr>\n",
       "      <th>2010-04-01</th>\n",
       "      <td>Thursday</td>\n",
       "      <td>True</td>\n",
       "      <td>29.540001</td>\n",
       "      <td>28.620001</td>\n",
       "      <td>29.350000</td>\n",
       "      <td>29.160000</td>\n",
       "      <td>74768100.0</td>\n",
       "      <td>22.817423</td>\n",
       "    </tr>\n",
       "    <tr>\n",
       "      <th>2010-06-01</th>\n",
       "      <td>Tuesday</td>\n",
       "      <td>True</td>\n",
       "      <td>26.309999</td>\n",
       "      <td>25.520000</td>\n",
       "      <td>25.530001</td>\n",
       "      <td>25.889999</td>\n",
       "      <td>76152400.0</td>\n",
       "      <td>20.350094</td>\n",
       "    </tr>\n",
       "    <tr>\n",
       "      <th>2010-07-01</th>\n",
       "      <td>Thursday</td>\n",
       "      <td>True</td>\n",
       "      <td>23.320000</td>\n",
       "      <td>22.730000</td>\n",
       "      <td>23.090000</td>\n",
       "      <td>23.160000</td>\n",
       "      <td>92239400.0</td>\n",
       "      <td>18.204264</td>\n",
       "    </tr>\n",
       "    <tr>\n",
       "      <th>...</th>\n",
       "      <td>...</td>\n",
       "      <td>...</td>\n",
       "      <td>...</td>\n",
       "      <td>...</td>\n",
       "      <td>...</td>\n",
       "      <td>...</td>\n",
       "      <td>...</td>\n",
       "      <td>...</td>\n",
       "    </tr>\n",
       "    <tr>\n",
       "      <th>2020-05-01</th>\n",
       "      <td>Friday</td>\n",
       "      <td>True</td>\n",
       "      <td>178.639999</td>\n",
       "      <td>174.009995</td>\n",
       "      <td>175.800003</td>\n",
       "      <td>174.570007</td>\n",
       "      <td>39370500.0</td>\n",
       "      <td>173.211899</td>\n",
       "    </tr>\n",
       "    <tr>\n",
       "      <th>2020-06-01</th>\n",
       "      <td>Monday</td>\n",
       "      <td>True</td>\n",
       "      <td>183.000000</td>\n",
       "      <td>181.460007</td>\n",
       "      <td>182.539993</td>\n",
       "      <td>182.830002</td>\n",
       "      <td>22622400.0</td>\n",
       "      <td>181.912857</td>\n",
       "    </tr>\n",
       "    <tr>\n",
       "      <th>2020-07-01</th>\n",
       "      <td>Wednesday</td>\n",
       "      <td>True</td>\n",
       "      <td>206.350006</td>\n",
       "      <td>201.770004</td>\n",
       "      <td>203.139999</td>\n",
       "      <td>204.699997</td>\n",
       "      <td>32061200.0</td>\n",
       "      <td>203.673141</td>\n",
       "    </tr>\n",
       "    <tr>\n",
       "      <th>2020-09-01</th>\n",
       "      <td>Tuesday</td>\n",
       "      <td>True</td>\n",
       "      <td>227.449997</td>\n",
       "      <td>224.429993</td>\n",
       "      <td>225.509995</td>\n",
       "      <td>227.270004</td>\n",
       "      <td>25791200.0</td>\n",
       "      <td>226.676559</td>\n",
       "    </tr>\n",
       "    <tr>\n",
       "      <th>2020-10-01</th>\n",
       "      <td>Thursday</td>\n",
       "      <td>True</td>\n",
       "      <td>213.990005</td>\n",
       "      <td>211.320007</td>\n",
       "      <td>213.490005</td>\n",
       "      <td>212.460007</td>\n",
       "      <td>27158400.0</td>\n",
       "      <td>211.905228</td>\n",
       "    </tr>\n",
       "  </tbody>\n",
       "</table>\n",
       "<p>84 rows × 8 columns</p>\n",
       "</div>"
      ],
      "text/plain": [
       "           Day of week  Is Start of Month        High         Low        Open  \\\n",
       "Date                                                                            \n",
       "2010-02-01      Monday               True   28.480000   27.920000   28.389999   \n",
       "2010-03-01      Monday               True   29.049999   28.530001   28.770000   \n",
       "2010-04-01    Thursday               True   29.540001   28.620001   29.350000   \n",
       "2010-06-01     Tuesday               True   26.309999   25.520000   25.530001   \n",
       "2010-07-01    Thursday               True   23.320000   22.730000   23.090000   \n",
       "...                ...                ...         ...         ...         ...   \n",
       "2020-05-01      Friday               True  178.639999  174.009995  175.800003   \n",
       "2020-06-01      Monday               True  183.000000  181.460007  182.539993   \n",
       "2020-07-01   Wednesday               True  206.350006  201.770004  203.139999   \n",
       "2020-09-01     Tuesday               True  227.449997  224.429993  225.509995   \n",
       "2020-10-01    Thursday               True  213.990005  211.320007  213.490005   \n",
       "\n",
       "                 Close      Volume   Adj Close  \n",
       "Date                                            \n",
       "2010-02-01   28.410000  85931100.0   22.127089  \n",
       "2010-03-01   29.020000  43805400.0   22.707878  \n",
       "2010-04-01   29.160000  74768100.0   22.817423  \n",
       "2010-06-01   25.889999  76152400.0   20.350094  \n",
       "2010-07-01   23.160000  92239400.0   18.204264  \n",
       "...                ...         ...         ...  \n",
       "2020-05-01  174.570007  39370500.0  173.211899  \n",
       "2020-06-01  182.830002  22622400.0  181.912857  \n",
       "2020-07-01  204.699997  32061200.0  203.673141  \n",
       "2020-09-01  227.270004  25791200.0  226.676559  \n",
       "2020-10-01  212.460007  27158400.0  211.905228  \n",
       "\n",
       "[84 rows x 8 columns]"
      ]
     },
     "execution_count": 67,
     "metadata": {},
     "output_type": "execute_result"
    }
   ],
   "source": [
    "stock[stock[\"Is Start of Month\"]]\n",
    "#we have extracted 84 rows that start at beginning of a month"
   ]
  },
  {
   "cell_type": "code",
   "execution_count": null,
   "metadata": {},
   "outputs": [],
   "source": [
    "#you can do financial analysis like on which week day does a stock has biggest chance or rising or falling"
   ]
  },
  {
   "cell_type": "markdown",
   "metadata": {},
   "source": [
    "### The pd.DateOffset Object"
   ]
  },
  {
   "cell_type": "markdown",
   "metadata": {},
   "source": [
    "147. The pd.DateOffset Object"
   ]
  },
  {
   "cell_type": "code",
   "execution_count": 68,
   "metadata": {},
   "outputs": [
    {
     "data": {
      "text/html": [
       "<div>\n",
       "<style scoped>\n",
       "    .dataframe tbody tr th:only-of-type {\n",
       "        vertical-align: middle;\n",
       "    }\n",
       "\n",
       "    .dataframe tbody tr th {\n",
       "        vertical-align: top;\n",
       "    }\n",
       "\n",
       "    .dataframe thead th {\n",
       "        text-align: right;\n",
       "    }\n",
       "</style>\n",
       "<table border=\"1\" class=\"dataframe\">\n",
       "  <thead>\n",
       "    <tr style=\"text-align: right;\">\n",
       "      <th></th>\n",
       "      <th>High</th>\n",
       "      <th>Low</th>\n",
       "      <th>Open</th>\n",
       "      <th>Close</th>\n",
       "      <th>Volume</th>\n",
       "      <th>Adj Close</th>\n",
       "    </tr>\n",
       "    <tr>\n",
       "      <th>Date</th>\n",
       "      <th></th>\n",
       "      <th></th>\n",
       "      <th></th>\n",
       "      <th></th>\n",
       "      <th></th>\n",
       "      <th></th>\n",
       "    </tr>\n",
       "  </thead>\n",
       "  <tbody>\n",
       "    <tr>\n",
       "      <th>2009-12-31</th>\n",
       "      <td>30.99</td>\n",
       "      <td>30.480000</td>\n",
       "      <td>30.980000</td>\n",
       "      <td>30.480000</td>\n",
       "      <td>31929700.0</td>\n",
       "      <td>23.739305</td>\n",
       "    </tr>\n",
       "    <tr>\n",
       "      <th>2010-01-04</th>\n",
       "      <td>31.10</td>\n",
       "      <td>30.590000</td>\n",
       "      <td>30.620001</td>\n",
       "      <td>30.950001</td>\n",
       "      <td>38409100.0</td>\n",
       "      <td>24.105360</td>\n",
       "    </tr>\n",
       "    <tr>\n",
       "      <th>2010-01-05</th>\n",
       "      <td>31.10</td>\n",
       "      <td>30.639999</td>\n",
       "      <td>30.850000</td>\n",
       "      <td>30.959999</td>\n",
       "      <td>49749600.0</td>\n",
       "      <td>24.113148</td>\n",
       "    </tr>\n",
       "  </tbody>\n",
       "</table>\n",
       "</div>"
      ],
      "text/plain": [
       "             High        Low       Open      Close      Volume  Adj Close\n",
       "Date                                                                     \n",
       "2009-12-31  30.99  30.480000  30.980000  30.480000  31929700.0  23.739305\n",
       "2010-01-04  31.10  30.590000  30.620001  30.950001  38409100.0  24.105360\n",
       "2010-01-05  31.10  30.639999  30.850000  30.959999  49749600.0  24.113148"
      ]
     },
     "execution_count": 68,
     "metadata": {},
     "output_type": "execute_result"
    }
   ],
   "source": [
    "stock=data.DataReader(name=\"MSFT\",data_source=\"yahoo\",start=\"2010-01-01\",end=\"2020-12-31\")\n",
    "stock.head(3)"
   ]
  },
  {
   "cell_type": "code",
   "execution_count": 69,
   "metadata": {},
   "outputs": [],
   "source": [
    "#DateOffset object allows to add or subtract an amount of time from every date in our datetime index"
   ]
  },
  {
   "cell_type": "code",
   "execution_count": 70,
   "metadata": {
    "scrolled": true
   },
   "outputs": [
    {
     "data": {
      "text/plain": [
       "Date\n",
       "2009-12-31     35.990000\n",
       "2010-01-04     36.100000\n",
       "2010-01-05     36.100000\n",
       "2010-01-06     36.080000\n",
       "2010-01-07     35.700001\n",
       "                 ...    \n",
       "2020-11-20    218.289993\n",
       "2020-11-23    217.289993\n",
       "2020-11-24    219.250000\n",
       "2020-11-25    220.289993\n",
       "2020-11-27    221.270004\n",
       "Name: High, Length: 2747, dtype: float64"
      ]
     },
     "execution_count": 70,
     "metadata": {},
     "output_type": "execute_result"
    }
   ],
   "source": [
    "#lets say i want to add five days to every day\n",
    "#for e.g we want Jan 4 2010 to be Jan 9 2010\n",
    "stock[\"High\"]+5 \n",
    "#adding 5 to every value in High column"
   ]
  },
  {
   "cell_type": "code",
   "execution_count": 71,
   "metadata": {
    "collapsed": true
   },
   "outputs": [
    {
     "ename": "TypeError",
     "evalue": "Addition/subtraction of integers and integer-arrays with DatetimeArray is no longer supported.  Instead of adding/subtracting `n`, use `n * obj.freq`",
     "output_type": "error",
     "traceback": [
      "\u001b[1;31m---------------------------------------------------------------------------\u001b[0m",
      "\u001b[1;31mTypeError\u001b[0m                                 Traceback (most recent call last)",
      "\u001b[1;32m<ipython-input-71-b8d40e6dfefa>\u001b[0m in \u001b[0;36m<module>\u001b[1;34m\u001b[0m\n\u001b[1;32m----> 1\u001b[1;33m \u001b[0mstock\u001b[0m\u001b[1;33m.\u001b[0m\u001b[0mindex\u001b[0m\u001b[1;33m+\u001b[0m\u001b[1;36m5\u001b[0m\u001b[1;33m\u001b[0m\u001b[1;33m\u001b[0m\u001b[0m\n\u001b[0m",
      "\u001b[1;32mC:\\Work\\anaconda3\\envs\\pandas_playground\\lib\\site-packages\\pandas\\core\\indexes\\extension.py\u001b[0m in \u001b[0;36mmethod\u001b[1;34m(self, other)\u001b[0m\n\u001b[0;32m    145\u001b[0m             \u001b[1;32mreturn\u001b[0m \u001b[0mNotImplemented\u001b[0m\u001b[1;33m\u001b[0m\u001b[1;33m\u001b[0m\u001b[0m\n\u001b[0;32m    146\u001b[0m         \u001b[0mmeth\u001b[0m \u001b[1;33m=\u001b[0m \u001b[0mgetattr\u001b[0m\u001b[1;33m(\u001b[0m\u001b[0mself\u001b[0m\u001b[1;33m.\u001b[0m\u001b[0m_data\u001b[0m\u001b[1;33m,\u001b[0m \u001b[0mopname\u001b[0m\u001b[1;33m)\u001b[0m\u001b[1;33m\u001b[0m\u001b[1;33m\u001b[0m\u001b[0m\n\u001b[1;32m--> 147\u001b[1;33m         \u001b[0mresult\u001b[0m \u001b[1;33m=\u001b[0m \u001b[0mmeth\u001b[0m\u001b[1;33m(\u001b[0m\u001b[0m_maybe_unwrap_index\u001b[0m\u001b[1;33m(\u001b[0m\u001b[0mother\u001b[0m\u001b[1;33m)\u001b[0m\u001b[1;33m)\u001b[0m\u001b[1;33m\u001b[0m\u001b[1;33m\u001b[0m\u001b[0m\n\u001b[0m\u001b[0;32m    148\u001b[0m         \u001b[1;32mreturn\u001b[0m \u001b[0m_wrap_arithmetic_op\u001b[0m\u001b[1;33m(\u001b[0m\u001b[0mself\u001b[0m\u001b[1;33m,\u001b[0m \u001b[0mother\u001b[0m\u001b[1;33m,\u001b[0m \u001b[0mresult\u001b[0m\u001b[1;33m)\u001b[0m\u001b[1;33m\u001b[0m\u001b[1;33m\u001b[0m\u001b[0m\n\u001b[0;32m    149\u001b[0m \u001b[1;33m\u001b[0m\u001b[0m\n",
      "\u001b[1;32mC:\\Work\\anaconda3\\envs\\pandas_playground\\lib\\site-packages\\pandas\\core\\ops\\common.py\u001b[0m in \u001b[0;36mnew_method\u001b[1;34m(self, other)\u001b[0m\n\u001b[0;32m     63\u001b[0m         \u001b[0mother\u001b[0m \u001b[1;33m=\u001b[0m \u001b[0mitem_from_zerodim\u001b[0m\u001b[1;33m(\u001b[0m\u001b[0mother\u001b[0m\u001b[1;33m)\u001b[0m\u001b[1;33m\u001b[0m\u001b[1;33m\u001b[0m\u001b[0m\n\u001b[0;32m     64\u001b[0m \u001b[1;33m\u001b[0m\u001b[0m\n\u001b[1;32m---> 65\u001b[1;33m         \u001b[1;32mreturn\u001b[0m \u001b[0mmethod\u001b[0m\u001b[1;33m(\u001b[0m\u001b[0mself\u001b[0m\u001b[1;33m,\u001b[0m \u001b[0mother\u001b[0m\u001b[1;33m)\u001b[0m\u001b[1;33m\u001b[0m\u001b[1;33m\u001b[0m\u001b[0m\n\u001b[0m\u001b[0;32m     66\u001b[0m \u001b[1;33m\u001b[0m\u001b[0m\n\u001b[0;32m     67\u001b[0m     \u001b[1;32mreturn\u001b[0m \u001b[0mnew_method\u001b[0m\u001b[1;33m\u001b[0m\u001b[1;33m\u001b[0m\u001b[0m\n",
      "\u001b[1;32mC:\\Work\\anaconda3\\envs\\pandas_playground\\lib\\site-packages\\pandas\\core\\arrays\\datetimelike.py\u001b[0m in \u001b[0;36m__add__\u001b[1;34m(self, other)\u001b[0m\n\u001b[0;32m   1411\u001b[0m             \u001b[1;31m# as is_integer returns True for these\u001b[0m\u001b[1;33m\u001b[0m\u001b[1;33m\u001b[0m\u001b[1;33m\u001b[0m\u001b[0m\n\u001b[0;32m   1412\u001b[0m             \u001b[1;32mif\u001b[0m \u001b[1;32mnot\u001b[0m \u001b[0mis_period_dtype\u001b[0m\u001b[1;33m(\u001b[0m\u001b[0mself\u001b[0m\u001b[1;33m.\u001b[0m\u001b[0mdtype\u001b[0m\u001b[1;33m)\u001b[0m\u001b[1;33m:\u001b[0m\u001b[1;33m\u001b[0m\u001b[1;33m\u001b[0m\u001b[0m\n\u001b[1;32m-> 1413\u001b[1;33m                 \u001b[1;32mraise\u001b[0m \u001b[0minteger_op_not_supported\u001b[0m\u001b[1;33m(\u001b[0m\u001b[0mself\u001b[0m\u001b[1;33m)\u001b[0m\u001b[1;33m\u001b[0m\u001b[1;33m\u001b[0m\u001b[0m\n\u001b[0m\u001b[0;32m   1414\u001b[0m             \u001b[0mresult\u001b[0m \u001b[1;33m=\u001b[0m \u001b[0mself\u001b[0m\u001b[1;33m.\u001b[0m\u001b[0m_time_shift\u001b[0m\u001b[1;33m(\u001b[0m\u001b[0mother\u001b[0m\u001b[1;33m)\u001b[0m\u001b[1;33m\u001b[0m\u001b[1;33m\u001b[0m\u001b[0m\n\u001b[0;32m   1415\u001b[0m \u001b[1;33m\u001b[0m\u001b[0m\n",
      "\u001b[1;31mTypeError\u001b[0m: Addition/subtraction of integers and integer-arrays with DatetimeArray is no longer supported.  Instead of adding/subtracting `n`, use `n * obj.freq`"
     ]
    }
   ],
   "source": [
    "stock.index+5\n",
    "#this gives error since value of 5 , does it mean 5 years? 5 days? etc.\n",
    "#a lot of ambuigity"
   ]
  },
  {
   "cell_type": "code",
   "execution_count": 72,
   "metadata": {},
   "outputs": [
    {
     "data": {
      "text/plain": [
       "DatetimeIndex(['2010-01-05', '2010-01-09', '2010-01-10', '2010-01-11',\n",
       "               '2010-01-12', '2010-01-13', '2010-01-16', '2010-01-17',\n",
       "               '2010-01-18', '2010-01-19',\n",
       "               ...\n",
       "               '2020-11-18', '2020-11-21', '2020-11-22', '2020-11-23',\n",
       "               '2020-11-24', '2020-11-25', '2020-11-28', '2020-11-29',\n",
       "               '2020-11-30', '2020-12-02'],\n",
       "              dtype='datetime64[ns]', name='Date', length=2747, freq=None)"
      ]
     },
     "execution_count": 72,
     "metadata": {},
     "output_type": "execute_result"
    }
   ],
   "source": [
    "#when we use - sign, we tell pandas that we are moving backwards\n",
    "stock.index + pd.DateOffset(days=5)\n",
    "#we get new datetime index with addition of 5"
   ]
  },
  {
   "cell_type": "code",
   "execution_count": 78,
   "metadata": {},
   "outputs": [
    {
     "data": {
      "text/plain": [
       "DatetimeIndex(['2009-12-26', '2009-12-30', '2009-12-31', '2010-01-01',\n",
       "               '2010-01-02', '2010-01-03', '2010-01-06', '2010-01-07',\n",
       "               '2010-01-08', '2010-01-09',\n",
       "               ...\n",
       "               '2020-11-08', '2020-11-11', '2020-11-12', '2020-11-13',\n",
       "               '2020-11-14', '2020-11-15', '2020-11-18', '2020-11-19',\n",
       "               '2020-11-20', '2020-11-22'],\n",
       "              dtype='datetime64[ns]', name='Date', length=2747, freq=None)"
      ]
     },
     "execution_count": 78,
     "metadata": {},
     "output_type": "execute_result"
    }
   ],
   "source": [
    "stock.index - pd.DateOffset(days=5)\n",
    "#to subtract"
   ]
  },
  {
   "cell_type": "code",
   "execution_count": 74,
   "metadata": {},
   "outputs": [],
   "source": [
    "#stock.index=stock.index + pd.DateOffset(days=5)\n",
    "#to overwrite the original index"
   ]
  },
  {
   "cell_type": "code",
   "execution_count": 75,
   "metadata": {},
   "outputs": [
    {
     "data": {
      "text/plain": [
       "DatetimeIndex(['2010-01-14', '2010-01-18', '2010-01-19', '2010-01-20',\n",
       "               '2010-01-21', '2010-01-22', '2010-01-25', '2010-01-26',\n",
       "               '2010-01-27', '2010-01-28',\n",
       "               ...\n",
       "               '2020-11-27', '2020-11-30', '2020-12-01', '2020-12-02',\n",
       "               '2020-12-03', '2020-12-04', '2020-12-07', '2020-12-08',\n",
       "               '2020-12-09', '2020-12-11'],\n",
       "              dtype='datetime64[ns]', name='Date', length=2747, freq=None)"
      ]
     },
     "execution_count": 75,
     "metadata": {},
     "output_type": "execute_result"
    }
   ],
   "source": [
    "stock.index + pd.DateOffset(weeks=2)"
   ]
  },
  {
   "cell_type": "code",
   "execution_count": 77,
   "metadata": {},
   "outputs": [
    {
     "data": {
      "text/plain": [
       "DatetimeIndex(['2009-12-10', '2009-12-14', '2009-12-15', '2009-12-16',\n",
       "               '2009-12-17', '2009-12-18', '2009-12-21', '2009-12-22',\n",
       "               '2009-12-23', '2009-12-24',\n",
       "               ...\n",
       "               '2020-10-23', '2020-10-26', '2020-10-27', '2020-10-28',\n",
       "               '2020-10-29', '2020-10-30', '2020-11-02', '2020-11-03',\n",
       "               '2020-11-04', '2020-11-06'],\n",
       "              dtype='datetime64[ns]', name='Date', length=2747, freq=None)"
      ]
     },
     "execution_count": 77,
     "metadata": {},
     "output_type": "execute_result"
    }
   ],
   "source": [
    "stock.index - pd.DateOffset(weeks=3)\n",
    "#to move 3 weeks backwards"
   ]
  },
  {
   "cell_type": "code",
   "execution_count": 79,
   "metadata": {},
   "outputs": [
    {
     "data": {
      "text/plain": [
       "DatetimeIndex(['2010-03-31', '2010-04-04', '2010-04-05', '2010-04-06',\n",
       "               '2010-04-07', '2010-04-08', '2010-04-11', '2010-04-12',\n",
       "               '2010-04-13', '2010-04-14',\n",
       "               ...\n",
       "               '2021-02-13', '2021-02-16', '2021-02-17', '2021-02-18',\n",
       "               '2021-02-19', '2021-02-20', '2021-02-23', '2021-02-24',\n",
       "               '2021-02-25', '2021-02-27'],\n",
       "              dtype='datetime64[ns]', name='Date', length=2747, freq=None)"
      ]
     },
     "execution_count": 79,
     "metadata": {},
     "output_type": "execute_result"
    }
   ],
   "source": [
    "stock.index + pd.DateOffset(months=3)\n",
    "#moving from Jan 4 to april 4"
   ]
  },
  {
   "cell_type": "code",
   "execution_count": 80,
   "metadata": {},
   "outputs": [
    {
     "data": {
      "text/plain": [
       "DatetimeIndex(['2010-12-31', '2011-01-04', '2011-01-05', '2011-01-06',\n",
       "               '2011-01-07', '2011-01-08', '2011-01-11', '2011-01-12',\n",
       "               '2011-01-13', '2011-01-14',\n",
       "               ...\n",
       "               '2021-11-13', '2021-11-16', '2021-11-17', '2021-11-18',\n",
       "               '2021-11-19', '2021-11-20', '2021-11-23', '2021-11-24',\n",
       "               '2021-11-25', '2021-11-27'],\n",
       "              dtype='datetime64[ns]', name='Date', length=2747, freq=None)"
      ]
     },
     "execution_count": 80,
     "metadata": {},
     "output_type": "execute_result"
    }
   ],
   "source": [
    "stock.index + pd.DateOffset(years=1)"
   ]
  },
  {
   "cell_type": "code",
   "execution_count": 81,
   "metadata": {
    "scrolled": true
   },
   "outputs": [
    {
     "data": {
      "text/plain": [
       "DatetimeIndex(['2001-12-31', '2002-01-04', '2002-01-05', '2002-01-06',\n",
       "               '2002-01-07', '2002-01-08', '2002-01-11', '2002-01-12',\n",
       "               '2002-01-13', '2002-01-14',\n",
       "               ...\n",
       "               '2012-11-13', '2012-11-16', '2012-11-17', '2012-11-18',\n",
       "               '2012-11-19', '2012-11-20', '2012-11-23', '2012-11-24',\n",
       "               '2012-11-25', '2012-11-27'],\n",
       "              dtype='datetime64[ns]', name='Date', length=2747, freq=None)"
      ]
     },
     "execution_count": 81,
     "metadata": {},
     "output_type": "execute_result"
    }
   ],
   "source": [
    "stock.index - pd.DateOffset(years=8)"
   ]
  },
  {
   "cell_type": "code",
   "execution_count": 83,
   "metadata": {},
   "outputs": [
    {
     "data": {
      "text/plain": [
       "DatetimeIndex(['2011-04-10 06:02:00', '2011-04-14 06:02:00',\n",
       "               '2011-04-15 06:02:00', '2011-04-16 06:02:00',\n",
       "               '2011-04-17 06:02:00', '2011-04-18 06:02:00',\n",
       "               '2011-04-21 06:02:00', '2011-04-22 06:02:00',\n",
       "               '2011-04-23 06:02:00', '2011-04-24 06:02:00',\n",
       "               ...\n",
       "               '2022-02-23 06:02:00', '2022-02-26 06:02:00',\n",
       "               '2022-02-27 06:02:00', '2022-02-28 06:02:00',\n",
       "               '2022-03-01 06:02:00', '2022-03-02 06:02:00',\n",
       "               '2022-03-05 06:02:00', '2022-03-06 06:02:00',\n",
       "               '2022-03-07 06:02:00', '2022-03-09 06:02:00'],\n",
       "              dtype='datetime64[ns]', name='Date', length=2747, freq=None)"
      ]
     },
     "execution_count": 83,
     "metadata": {},
     "output_type": "execute_result"
    }
   ],
   "source": [
    "#you can mix and match\n",
    "stock.index + pd.DateOffset(years=1, months=3, days=10, hours=6,minutes=2 )\n",
    "#since our time is midnight it is adding 6 hours 2 min to 00:00:00"
   ]
  },
  {
   "cell_type": "code",
   "execution_count": 84,
   "metadata": {},
   "outputs": [
    {
     "data": {
      "text/plain": [
       "DatetimeIndex(['2006-08-05 10:36:00', '2006-08-09 10:36:00',\n",
       "               '2006-08-10 10:36:00', '2006-08-11 10:36:00',\n",
       "               '2006-08-12 10:36:00', '2006-08-13 10:36:00',\n",
       "               '2006-08-16 10:36:00', '2006-08-17 10:36:00',\n",
       "               '2006-08-18 10:36:00', '2006-08-19 10:36:00',\n",
       "               ...\n",
       "               '2017-06-17 10:36:00', '2017-06-20 10:36:00',\n",
       "               '2017-06-21 10:36:00', '2017-06-22 10:36:00',\n",
       "               '2017-06-23 10:36:00', '2017-06-24 10:36:00',\n",
       "               '2017-06-27 10:36:00', '2017-06-28 10:36:00',\n",
       "               '2017-06-29 10:36:00', '2017-07-01 10:36:00'],\n",
       "              dtype='datetime64[ns]', name='Date', length=2747, freq=None)"
      ]
     },
     "execution_count": 84,
     "metadata": {},
     "output_type": "execute_result"
    }
   ],
   "source": [
    "stock.index - pd.DateOffset(years=3, months=4, days=25, hours=13,minutes=24 )"
   ]
  },
  {
   "cell_type": "code",
   "execution_count": 85,
   "metadata": {},
   "outputs": [
    {
     "data": {
      "text/plain": [
       "DatetimeIndex(['2006-08-05 10:35:34', '2006-08-09 10:35:34',\n",
       "               '2006-08-10 10:35:34', '2006-08-11 10:35:34',\n",
       "               '2006-08-12 10:35:34', '2006-08-13 10:35:34',\n",
       "               '2006-08-16 10:35:34', '2006-08-17 10:35:34',\n",
       "               '2006-08-18 10:35:34', '2006-08-19 10:35:34',\n",
       "               ...\n",
       "               '2017-06-17 10:35:34', '2017-06-20 10:35:34',\n",
       "               '2017-06-21 10:35:34', '2017-06-22 10:35:34',\n",
       "               '2017-06-23 10:35:34', '2017-06-24 10:35:34',\n",
       "               '2017-06-27 10:35:34', '2017-06-28 10:35:34',\n",
       "               '2017-06-29 10:35:34', '2017-07-01 10:35:34'],\n",
       "              dtype='datetime64[ns]', name='Date', length=2747, freq=None)"
      ]
     },
     "execution_count": 85,
     "metadata": {},
     "output_type": "execute_result"
    }
   ],
   "source": [
    "stock.index - pd.DateOffset(years=3, months=4, days=25, hours=13,minutes=24,seconds=26 )"
   ]
  },
  {
   "cell_type": "markdown",
   "metadata": {},
   "source": [
    "### Timeseries Offsets"
   ]
  },
  {
   "cell_type": "markdown",
   "metadata": {},
   "source": [
    "148. Timeseries Offsets"
   ]
  },
  {
   "cell_type": "code",
   "execution_count": 86,
   "metadata": {},
   "outputs": [
    {
     "data": {
      "text/html": [
       "<div>\n",
       "<style scoped>\n",
       "    .dataframe tbody tr th:only-of-type {\n",
       "        vertical-align: middle;\n",
       "    }\n",
       "\n",
       "    .dataframe tbody tr th {\n",
       "        vertical-align: top;\n",
       "    }\n",
       "\n",
       "    .dataframe thead th {\n",
       "        text-align: right;\n",
       "    }\n",
       "</style>\n",
       "<table border=\"1\" class=\"dataframe\">\n",
       "  <thead>\n",
       "    <tr style=\"text-align: right;\">\n",
       "      <th></th>\n",
       "      <th>High</th>\n",
       "      <th>Low</th>\n",
       "      <th>Open</th>\n",
       "      <th>Close</th>\n",
       "      <th>Volume</th>\n",
       "      <th>Adj Close</th>\n",
       "    </tr>\n",
       "    <tr>\n",
       "      <th>Date</th>\n",
       "      <th></th>\n",
       "      <th></th>\n",
       "      <th></th>\n",
       "      <th></th>\n",
       "      <th></th>\n",
       "      <th></th>\n",
       "    </tr>\n",
       "  </thead>\n",
       "  <tbody>\n",
       "    <tr>\n",
       "      <th>2009-12-31</th>\n",
       "      <td>30.99</td>\n",
       "      <td>30.480000</td>\n",
       "      <td>30.980000</td>\n",
       "      <td>30.480000</td>\n",
       "      <td>31929700.0</td>\n",
       "      <td>23.739305</td>\n",
       "    </tr>\n",
       "    <tr>\n",
       "      <th>2010-01-04</th>\n",
       "      <td>31.10</td>\n",
       "      <td>30.590000</td>\n",
       "      <td>30.620001</td>\n",
       "      <td>30.950001</td>\n",
       "      <td>38409100.0</td>\n",
       "      <td>24.105360</td>\n",
       "    </tr>\n",
       "    <tr>\n",
       "      <th>2010-01-05</th>\n",
       "      <td>31.10</td>\n",
       "      <td>30.639999</td>\n",
       "      <td>30.850000</td>\n",
       "      <td>30.959999</td>\n",
       "      <td>49749600.0</td>\n",
       "      <td>24.113148</td>\n",
       "    </tr>\n",
       "  </tbody>\n",
       "</table>\n",
       "</div>"
      ],
      "text/plain": [
       "             High        Low       Open      Close      Volume  Adj Close\n",
       "Date                                                                     \n",
       "2009-12-31  30.99  30.480000  30.980000  30.480000  31929700.0  23.739305\n",
       "2010-01-04  31.10  30.590000  30.620001  30.950001  38409100.0  24.105360\n",
       "2010-01-05  31.10  30.639999  30.850000  30.959999  49749600.0  24.113148"
      ]
     },
     "execution_count": 86,
     "metadata": {},
     "output_type": "execute_result"
    }
   ],
   "source": [
    "stock=data.DataReader(name=\"MSFT\",data_source=\"yahoo\",start=\"2010-01-01\",end=\"2020-12-31\")\n",
    "stock.head(3)"
   ]
  },
  {
   "cell_type": "code",
   "execution_count": 87,
   "metadata": {},
   "outputs": [
    {
     "data": {
      "text/plain": [
       "DatetimeIndex(['2009-12-31', '2010-01-04', '2010-01-05', '2010-01-06',\n",
       "               '2010-01-07', '2010-01-08', '2010-01-11', '2010-01-12',\n",
       "               '2010-01-13', '2010-01-14',\n",
       "               ...\n",
       "               '2020-11-13', '2020-11-16', '2020-11-17', '2020-11-18',\n",
       "               '2020-11-19', '2020-11-20', '2020-11-23', '2020-11-24',\n",
       "               '2020-11-25', '2020-11-27'],\n",
       "              dtype='datetime64[ns]', name='Date', length=2747, freq=None)"
      ]
     },
     "execution_count": 87,
     "metadata": {},
     "output_type": "execute_result"
    }
   ],
   "source": [
    "#what if we want to add a dynamic amount of time to each time\n",
    "#e.g round each day to end of each month e.g for Jan4 round it off jan 31\n",
    "stock.index"
   ]
  },
  {
   "cell_type": "code",
   "execution_count": 88,
   "metadata": {},
   "outputs": [
    {
     "data": {
      "text/plain": [
       "DatetimeIndex(['2010-01-31', '2010-01-31', '2010-01-31', '2010-01-31',\n",
       "               '2010-01-31', '2010-01-31', '2010-01-31', '2010-01-31',\n",
       "               '2010-01-31', '2010-01-31',\n",
       "               ...\n",
       "               '2020-11-30', '2020-11-30', '2020-11-30', '2020-11-30',\n",
       "               '2020-11-30', '2020-11-30', '2020-11-30', '2020-11-30',\n",
       "               '2020-11-30', '2020-11-30'],\n",
       "              dtype='datetime64[ns]', name='Date', length=2747, freq=None)"
      ]
     },
     "execution_count": 88,
     "metadata": {},
     "output_type": "execute_result"
    }
   ],
   "source": [
    "stock.index + pd.tseries.offsets.MonthEnd()\n",
    "#you can think of pandas as group of folders nested inside"
   ]
  },
  {
   "cell_type": "code",
   "execution_count": 89,
   "metadata": {},
   "outputs": [
    {
     "data": {
      "text/html": [
       "<div>\n",
       "<style scoped>\n",
       "    .dataframe tbody tr th:only-of-type {\n",
       "        vertical-align: middle;\n",
       "    }\n",
       "\n",
       "    .dataframe tbody tr th {\n",
       "        vertical-align: top;\n",
       "    }\n",
       "\n",
       "    .dataframe thead th {\n",
       "        text-align: right;\n",
       "    }\n",
       "</style>\n",
       "<table border=\"1\" class=\"dataframe\">\n",
       "  <thead>\n",
       "    <tr style=\"text-align: right;\">\n",
       "      <th></th>\n",
       "      <th>High</th>\n",
       "      <th>Low</th>\n",
       "      <th>Open</th>\n",
       "      <th>Close</th>\n",
       "      <th>Volume</th>\n",
       "      <th>Adj Close</th>\n",
       "    </tr>\n",
       "    <tr>\n",
       "      <th>Date</th>\n",
       "      <th></th>\n",
       "      <th></th>\n",
       "      <th></th>\n",
       "      <th></th>\n",
       "      <th></th>\n",
       "      <th></th>\n",
       "    </tr>\n",
       "  </thead>\n",
       "  <tbody>\n",
       "    <tr>\n",
       "      <th>2020-11-24</th>\n",
       "      <td>214.250000</td>\n",
       "      <td>208.860001</td>\n",
       "      <td>209.589996</td>\n",
       "      <td>213.860001</td>\n",
       "      <td>33979700.0</td>\n",
       "      <td>213.860001</td>\n",
       "    </tr>\n",
       "    <tr>\n",
       "      <th>2020-11-25</th>\n",
       "      <td>215.289993</td>\n",
       "      <td>212.460007</td>\n",
       "      <td>215.110001</td>\n",
       "      <td>213.869995</td>\n",
       "      <td>21012900.0</td>\n",
       "      <td>213.869995</td>\n",
       "    </tr>\n",
       "    <tr>\n",
       "      <th>2020-11-27</th>\n",
       "      <td>216.270004</td>\n",
       "      <td>214.039993</td>\n",
       "      <td>214.850006</td>\n",
       "      <td>215.229996</td>\n",
       "      <td>14512200.0</td>\n",
       "      <td>215.229996</td>\n",
       "    </tr>\n",
       "  </tbody>\n",
       "</table>\n",
       "</div>"
      ],
      "text/plain": [
       "                  High         Low        Open       Close      Volume  \\\n",
       "Date                                                                     \n",
       "2020-11-24  214.250000  208.860001  209.589996  213.860001  33979700.0   \n",
       "2020-11-25  215.289993  212.460007  215.110001  213.869995  21012900.0   \n",
       "2020-11-27  216.270004  214.039993  214.850006  215.229996  14512200.0   \n",
       "\n",
       "             Adj Close  \n",
       "Date                    \n",
       "2020-11-24  213.860001  \n",
       "2020-11-25  213.869995  \n",
       "2020-11-27  215.229996  "
      ]
     },
     "execution_count": 89,
     "metadata": {},
     "output_type": "execute_result"
    }
   ],
   "source": [
    "stock.tail(3)\n",
    "#if there is a date that falls on end or start of month, it will be considered as passing the threshold\n",
    "#it will be counted as next month"
   ]
  },
  {
   "cell_type": "code",
   "execution_count": 90,
   "metadata": {},
   "outputs": [
    {
     "data": {
      "text/plain": [
       "DatetimeIndex(['2009-11-30', '2009-12-31', '2009-12-31', '2009-12-31',\n",
       "               '2009-12-31', '2009-12-31', '2009-12-31', '2009-12-31',\n",
       "               '2009-12-31', '2009-12-31',\n",
       "               ...\n",
       "               '2020-10-31', '2020-10-31', '2020-10-31', '2020-10-31',\n",
       "               '2020-10-31', '2020-10-31', '2020-10-31', '2020-10-31',\n",
       "               '2020-10-31', '2020-10-31'],\n",
       "              dtype='datetime64[ns]', name='Date', length=2747, freq=None)"
      ]
     },
     "execution_count": 90,
     "metadata": {},
     "output_type": "execute_result"
    }
   ],
   "source": [
    "stock.index - pd.tseries.offsets.MonthEnd()\n",
    "#goes backwards"
   ]
  },
  {
   "cell_type": "code",
   "execution_count": 91,
   "metadata": {},
   "outputs": [
    {
     "data": {
      "text/plain": [
       "DatetimeIndex(['2010-01-01', '2010-02-01', '2010-02-01', '2010-02-01',\n",
       "               '2010-02-01', '2010-02-01', '2010-02-01', '2010-02-01',\n",
       "               '2010-02-01', '2010-02-01',\n",
       "               ...\n",
       "               '2020-12-01', '2020-12-01', '2020-12-01', '2020-12-01',\n",
       "               '2020-12-01', '2020-12-01', '2020-12-01', '2020-12-01',\n",
       "               '2020-12-01', '2020-12-01'],\n",
       "              dtype='datetime64[ns]', name='Date', length=2747, freq=None)"
      ]
     },
     "execution_count": 91,
     "metadata": {},
     "output_type": "execute_result"
    }
   ],
   "source": [
    "stock.index + pd.tseries.offsets.MonthBegin()\n",
    "#will give beginning of next month"
   ]
  },
  {
   "cell_type": "code",
   "execution_count": 92,
   "metadata": {},
   "outputs": [
    {
     "data": {
      "text/plain": [
       "DatetimeIndex(['2009-12-01', '2010-01-01', '2010-01-01', '2010-01-01',\n",
       "               '2010-01-01', '2010-01-01', '2010-01-01', '2010-01-01',\n",
       "               '2010-01-01', '2010-01-01',\n",
       "               ...\n",
       "               '2020-11-01', '2020-11-01', '2020-11-01', '2020-11-01',\n",
       "               '2020-11-01', '2020-11-01', '2020-11-01', '2020-11-01',\n",
       "               '2020-11-01', '2020-11-01'],\n",
       "              dtype='datetime64[ns]', name='Date', length=2747, freq=None)"
      ]
     },
     "execution_count": 92,
     "metadata": {},
     "output_type": "execute_result"
    }
   ],
   "source": [
    "stock.index - pd.tseries.offsets.MonthBegin()"
   ]
  },
  {
   "cell_type": "code",
   "execution_count": 93,
   "metadata": {},
   "outputs": [],
   "source": [
    "# we can also import like this\n",
    "from pandas.tseries import offsets"
   ]
  },
  {
   "cell_type": "code",
   "execution_count": 94,
   "metadata": {},
   "outputs": [
    {
     "data": {
      "text/plain": [
       "DatetimeIndex(['2010-01-31', '2010-01-31', '2010-01-31', '2010-01-31',\n",
       "               '2010-01-31', '2010-01-31', '2010-01-31', '2010-01-31',\n",
       "               '2010-01-31', '2010-01-31',\n",
       "               ...\n",
       "               '2020-11-30', '2020-11-30', '2020-11-30', '2020-11-30',\n",
       "               '2020-11-30', '2020-11-30', '2020-11-30', '2020-11-30',\n",
       "               '2020-11-30', '2020-11-30'],\n",
       "              dtype='datetime64[ns]', name='Date', length=2747, freq=None)"
      ]
     },
     "execution_count": 94,
     "metadata": {},
     "output_type": "execute_result"
    }
   ],
   "source": [
    "stock.index + offsets.MonthEnd()\n",
    "#now we can use it like this"
   ]
  },
  {
   "cell_type": "code",
   "execution_count": 95,
   "metadata": {},
   "outputs": [
    {
     "data": {
      "text/plain": [
       "DatetimeIndex(['2010-01-29', '2010-01-29', '2010-01-29', '2010-01-29',\n",
       "               '2010-01-29', '2010-01-29', '2010-01-29', '2010-01-29',\n",
       "               '2010-01-29', '2010-01-29',\n",
       "               ...\n",
       "               '2020-11-30', '2020-11-30', '2020-11-30', '2020-11-30',\n",
       "               '2020-11-30', '2020-11-30', '2020-11-30', '2020-11-30',\n",
       "               '2020-11-30', '2020-11-30'],\n",
       "              dtype='datetime64[ns]', name='Date', length=2747, freq=None)"
      ]
     },
     "execution_count": 95,
     "metadata": {},
     "output_type": "execute_result"
    }
   ],
   "source": [
    "#lets look at couple of more examples\n",
    "#caring about business ends of the month, the last working day in a month\n",
    "stock.index+offsets.BMonthEnd()"
   ]
  },
  {
   "cell_type": "code",
   "execution_count": 96,
   "metadata": {},
   "outputs": [
    {
     "data": {
      "text/plain": [
       "DatetimeIndex(['2009-11-30', '2009-12-31', '2009-12-31', '2009-12-31',\n",
       "               '2009-12-31', '2009-12-31', '2009-12-31', '2009-12-31',\n",
       "               '2009-12-31', '2009-12-31',\n",
       "               ...\n",
       "               '2020-10-30', '2020-10-30', '2020-10-30', '2020-10-30',\n",
       "               '2020-10-30', '2020-10-30', '2020-10-30', '2020-10-30',\n",
       "               '2020-10-30', '2020-10-30'],\n",
       "              dtype='datetime64[ns]', name='Date', length=2747, freq=None)"
      ]
     },
     "execution_count": 96,
     "metadata": {},
     "output_type": "execute_result"
    }
   ],
   "source": [
    "stock.index-offsets.BMonthEnd()"
   ]
  },
  {
   "cell_type": "code",
   "execution_count": 97,
   "metadata": {},
   "outputs": [
    {
     "data": {
      "text/plain": [
       "DatetimeIndex(['2010-12-31', '2010-12-31', '2010-12-31', '2010-12-31',\n",
       "               '2010-12-31', '2010-12-31', '2010-12-31', '2010-12-31',\n",
       "               '2010-12-31', '2010-12-31',\n",
       "               ...\n",
       "               '2020-12-31', '2020-12-31', '2020-12-31', '2020-12-31',\n",
       "               '2020-12-31', '2020-12-31', '2020-12-31', '2020-12-31',\n",
       "               '2020-12-31', '2020-12-31'],\n",
       "              dtype='datetime64[ns]', name='Date', length=2747, freq=None)"
      ]
     },
     "execution_count": 97,
     "metadata": {},
     "output_type": "execute_result"
    }
   ],
   "source": [
    "stock.index+offsets.YearEnd()"
   ]
  },
  {
   "cell_type": "code",
   "execution_count": 98,
   "metadata": {},
   "outputs": [
    {
     "data": {
      "text/plain": [
       "DatetimeIndex(['2008-12-31', '2009-12-31', '2009-12-31', '2009-12-31',\n",
       "               '2009-12-31', '2009-12-31', '2009-12-31', '2009-12-31',\n",
       "               '2009-12-31', '2009-12-31',\n",
       "               ...\n",
       "               '2019-12-31', '2019-12-31', '2019-12-31', '2019-12-31',\n",
       "               '2019-12-31', '2019-12-31', '2019-12-31', '2019-12-31',\n",
       "               '2019-12-31', '2019-12-31'],\n",
       "              dtype='datetime64[ns]', name='Date', length=2747, freq=None)"
      ]
     },
     "execution_count": 98,
     "metadata": {},
     "output_type": "execute_result"
    }
   ],
   "source": [
    "stock.index-offsets.YearEnd()"
   ]
  },
  {
   "cell_type": "code",
   "execution_count": 99,
   "metadata": {},
   "outputs": [
    {
     "data": {
      "text/plain": [
       "DatetimeIndex(['2010-01-01', '2011-01-01', '2011-01-01', '2011-01-01',\n",
       "               '2011-01-01', '2011-01-01', '2011-01-01', '2011-01-01',\n",
       "               '2011-01-01', '2011-01-01',\n",
       "               ...\n",
       "               '2021-01-01', '2021-01-01', '2021-01-01', '2021-01-01',\n",
       "               '2021-01-01', '2021-01-01', '2021-01-01', '2021-01-01',\n",
       "               '2021-01-01', '2021-01-01'],\n",
       "              dtype='datetime64[ns]', name='Date', length=2747, freq=None)"
      ]
     },
     "execution_count": 99,
     "metadata": {},
     "output_type": "execute_result"
    }
   ],
   "source": [
    "stock.index+offsets.YearBegin()\n",
    "#begining of next year"
   ]
  },
  {
   "cell_type": "code",
   "execution_count": 100,
   "metadata": {},
   "outputs": [
    {
     "data": {
      "text/plain": [
       "DatetimeIndex(['2009-01-01', '2010-01-01', '2010-01-01', '2010-01-01',\n",
       "               '2010-01-01', '2010-01-01', '2010-01-01', '2010-01-01',\n",
       "               '2010-01-01', '2010-01-01',\n",
       "               ...\n",
       "               '2020-01-01', '2020-01-01', '2020-01-01', '2020-01-01',\n",
       "               '2020-01-01', '2020-01-01', '2020-01-01', '2020-01-01',\n",
       "               '2020-01-01', '2020-01-01'],\n",
       "              dtype='datetime64[ns]', name='Date', length=2747, freq=None)"
      ]
     },
     "execution_count": 100,
     "metadata": {},
     "output_type": "execute_result"
    }
   ],
   "source": [
    "stock.index-offsets.YearBegin()"
   ]
  },
  {
   "cell_type": "markdown",
   "metadata": {},
   "source": [
    "### The Timedelta Object"
   ]
  },
  {
   "cell_type": "markdown",
   "metadata": {},
   "source": [
    "149. The Timedelta Object"
   ]
  },
  {
   "cell_type": "code",
   "execution_count": 101,
   "metadata": {},
   "outputs": [
    {
     "data": {
      "text/plain": [
       "Timedelta('11 days 00:00:00')"
      ]
     },
     "execution_count": 101,
     "metadata": {},
     "output_type": "execute_result"
    }
   ],
   "source": [
    "#we know pandas timestamp object represents given moment in time, something we can plot on calendar\n",
    "#timedelta represents duration of time, it is difference between times, it is a duration\n",
    "#e.g. party is in 3 days\n",
    "time_a=pd.Timestamp(\"2020-03-31\")\n",
    "time_b=pd.Timestamp(\"2020-03-20\")\n",
    "\n",
    "time_a - time_b\n",
    "#we get pandas time delta object"
   ]
  },
  {
   "cell_type": "code",
   "execution_count": 102,
   "metadata": {},
   "outputs": [
    {
     "data": {
      "text/plain": [
       "Timedelta('11 days 14:19:27')"
      ]
     },
     "execution_count": 102,
     "metadata": {},
     "output_type": "execute_result"
    }
   ],
   "source": [
    "time_a=pd.Timestamp(\"2020-03-31 04:35:16 PM\")\n",
    "time_b=pd.Timestamp(\"2020-03-20 02:15:49 AM\")\n",
    "\n",
    "time_a - time_b"
   ]
  },
  {
   "cell_type": "code",
   "execution_count": 103,
   "metadata": {},
   "outputs": [
    {
     "data": {
      "text/plain": [
       "Timedelta('-12 days +09:40:33')"
      ]
     },
     "execution_count": 103,
     "metadata": {},
     "output_type": "execute_result"
    }
   ],
   "source": [
    "time_b - time_a\n",
    "# we get negative value since time_a occurs in future"
   ]
  },
  {
   "cell_type": "code",
   "execution_count": 104,
   "metadata": {},
   "outputs": [
    {
     "data": {
      "text/plain": [
       "Timedelta('3 days 00:00:00')"
      ]
     },
     "execution_count": 104,
     "metadata": {},
     "output_type": "execute_result"
    }
   ],
   "source": [
    "#how to create Timedelta object from scratch\n",
    "pd.Timedelta(days=3)\n",
    "#helpful in adding a time frame"
   ]
  },
  {
   "cell_type": "code",
   "execution_count": 105,
   "metadata": {},
   "outputs": [
    {
     "data": {
      "text/plain": [
       "Timestamp('2020-04-03 16:35:16')"
      ]
     },
     "execution_count": 105,
     "metadata": {},
     "output_type": "execute_result"
    }
   ],
   "source": [
    "time_a + pd.Timedelta(days=3)\n",
    "# we get 3 days after 31 march"
   ]
  },
  {
   "cell_type": "code",
   "execution_count": 106,
   "metadata": {},
   "outputs": [
    {
     "data": {
      "text/plain": [
       "Timedelta('3 days 00:45:00')"
      ]
     },
     "execution_count": 106,
     "metadata": {},
     "output_type": "execute_result"
    }
   ],
   "source": [
    "pd.Timedelta(days=3, minutes=45)"
   ]
  },
  {
   "cell_type": "code",
   "execution_count": 107,
   "metadata": {},
   "outputs": [
    {
     "data": {
      "text/plain": [
       "Timedelta('3 days 12:45:00')"
      ]
     },
     "execution_count": 107,
     "metadata": {},
     "output_type": "execute_result"
    }
   ],
   "source": [
    "pd.Timedelta(days=3,hours=12, minutes=45)"
   ]
  },
  {
   "cell_type": "code",
   "execution_count": 108,
   "metadata": {},
   "outputs": [
    {
     "data": {
      "text/plain": [
       "Timedelta('3 days 12:45:20')"
      ]
     },
     "execution_count": 108,
     "metadata": {},
     "output_type": "execute_result"
    }
   ],
   "source": [
    "pd.Timedelta(days=3,hours=12, minutes=45,seconds=20)"
   ]
  },
  {
   "cell_type": "code",
   "execution_count": 110,
   "metadata": {},
   "outputs": [
    {
     "data": {
      "text/plain": [
       "Timedelta('59 days 12:45:20')"
      ]
     },
     "execution_count": 110,
     "metadata": {},
     "output_type": "execute_result"
    }
   ],
   "source": [
    "pd.Timedelta(weeks=8,days=3,hours=12, minutes=45,seconds=20)"
   ]
  },
  {
   "cell_type": "code",
   "execution_count": 111,
   "metadata": {},
   "outputs": [
    {
     "data": {
      "text/plain": [
       "Timedelta('0 days 00:05:00')"
      ]
     },
     "execution_count": 111,
     "metadata": {},
     "output_type": "execute_result"
    }
   ],
   "source": [
    "#years paramter doesnt work here since there can be 365 days or 366\n",
    "#timedelta is quite versatile\n",
    "pd.Timedelta(\"5 minutes\")"
   ]
  },
  {
   "cell_type": "code",
   "execution_count": 112,
   "metadata": {},
   "outputs": [
    {
     "data": {
      "text/plain": [
       "Timedelta('0 days 06:05:00')"
      ]
     },
     "execution_count": 112,
     "metadata": {},
     "output_type": "execute_result"
    }
   ],
   "source": [
    "pd.Timedelta(\"6 hours 12 minutes\")"
   ]
  },
  {
   "cell_type": "code",
   "execution_count": 113,
   "metadata": {},
   "outputs": [
    {
     "data": {
      "text/plain": [
       "Timedelta('14 days 06:12:49')"
      ]
     },
     "execution_count": 113,
     "metadata": {},
     "output_type": "execute_result"
    }
   ],
   "source": [
    "pd.Timedelta(\"14 days, 6 hours 12 minutes 49 seconds\")"
   ]
  },
  {
   "cell_type": "markdown",
   "metadata": {},
   "source": [
    "### Timedeltas in a Dataset"
   ]
  },
  {
   "cell_type": "markdown",
   "metadata": {},
   "source": [
    "150. Timedeltas in a Dataset"
   ]
  },
  {
   "cell_type": "code",
   "execution_count": 115,
   "metadata": {},
   "outputs": [
    {
     "data": {
      "text/html": [
       "<div>\n",
       "<style scoped>\n",
       "    .dataframe tbody tr th:only-of-type {\n",
       "        vertical-align: middle;\n",
       "    }\n",
       "\n",
       "    .dataframe tbody tr th {\n",
       "        vertical-align: top;\n",
       "    }\n",
       "\n",
       "    .dataframe thead th {\n",
       "        text-align: right;\n",
       "    }\n",
       "</style>\n",
       "<table border=\"1\" class=\"dataframe\">\n",
       "  <thead>\n",
       "    <tr style=\"text-align: right;\">\n",
       "      <th></th>\n",
       "      <th>ID</th>\n",
       "      <th>order_date</th>\n",
       "      <th>delivery_date</th>\n",
       "    </tr>\n",
       "  </thead>\n",
       "  <tbody>\n",
       "    <tr>\n",
       "      <th>0</th>\n",
       "      <td>1</td>\n",
       "      <td>5/24/98</td>\n",
       "      <td>2/5/99</td>\n",
       "    </tr>\n",
       "    <tr>\n",
       "      <th>1</th>\n",
       "      <td>2</td>\n",
       "      <td>4/22/92</td>\n",
       "      <td>3/6/98</td>\n",
       "    </tr>\n",
       "    <tr>\n",
       "      <th>2</th>\n",
       "      <td>4</td>\n",
       "      <td>2/10/91</td>\n",
       "      <td>8/26/92</td>\n",
       "    </tr>\n",
       "    <tr>\n",
       "      <th>3</th>\n",
       "      <td>5</td>\n",
       "      <td>7/21/92</td>\n",
       "      <td>11/20/97</td>\n",
       "    </tr>\n",
       "    <tr>\n",
       "      <th>4</th>\n",
       "      <td>7</td>\n",
       "      <td>9/2/93</td>\n",
       "      <td>6/10/98</td>\n",
       "    </tr>\n",
       "    <tr>\n",
       "      <th>...</th>\n",
       "      <td>...</td>\n",
       "      <td>...</td>\n",
       "      <td>...</td>\n",
       "    </tr>\n",
       "    <tr>\n",
       "      <th>496</th>\n",
       "      <td>990</td>\n",
       "      <td>6/24/91</td>\n",
       "      <td>2/2/96</td>\n",
       "    </tr>\n",
       "    <tr>\n",
       "      <th>497</th>\n",
       "      <td>991</td>\n",
       "      <td>9/9/91</td>\n",
       "      <td>3/30/98</td>\n",
       "    </tr>\n",
       "    <tr>\n",
       "      <th>498</th>\n",
       "      <td>993</td>\n",
       "      <td>11/16/90</td>\n",
       "      <td>4/27/98</td>\n",
       "    </tr>\n",
       "    <tr>\n",
       "      <th>499</th>\n",
       "      <td>994</td>\n",
       "      <td>6/3/93</td>\n",
       "      <td>6/13/93</td>\n",
       "    </tr>\n",
       "    <tr>\n",
       "      <th>500</th>\n",
       "      <td>997</td>\n",
       "      <td>1/4/90</td>\n",
       "      <td>10/3/91</td>\n",
       "    </tr>\n",
       "  </tbody>\n",
       "</table>\n",
       "<p>501 rows × 3 columns</p>\n",
       "</div>"
      ],
      "text/plain": [
       "      ID order_date delivery_date\n",
       "0      1    5/24/98        2/5/99\n",
       "1      2    4/22/92        3/6/98\n",
       "2      4    2/10/91       8/26/92\n",
       "3      5    7/21/92      11/20/97\n",
       "4      7     9/2/93       6/10/98\n",
       "..   ...        ...           ...\n",
       "496  990    6/24/91        2/2/96\n",
       "497  991     9/9/91       3/30/98\n",
       "498  993   11/16/90       4/27/98\n",
       "499  994     6/3/93       6/13/93\n",
       "500  997     1/4/90       10/3/91\n",
       "\n",
       "[501 rows x 3 columns]"
      ]
     },
     "execution_count": 115,
     "metadata": {},
     "output_type": "execute_result"
    }
   ],
   "source": [
    "#how timedelta object applies in real life dataset\n",
    "pd.read_csv(\"ecommerce.csv\")"
   ]
  },
  {
   "cell_type": "code",
   "execution_count": 116,
   "metadata": {},
   "outputs": [
    {
     "data": {
      "text/html": [
       "<div>\n",
       "<style scoped>\n",
       "    .dataframe tbody tr th:only-of-type {\n",
       "        vertical-align: middle;\n",
       "    }\n",
       "\n",
       "    .dataframe tbody tr th {\n",
       "        vertical-align: top;\n",
       "    }\n",
       "\n",
       "    .dataframe thead th {\n",
       "        text-align: right;\n",
       "    }\n",
       "</style>\n",
       "<table border=\"1\" class=\"dataframe\">\n",
       "  <thead>\n",
       "    <tr style=\"text-align: right;\">\n",
       "      <th></th>\n",
       "      <th>order_date</th>\n",
       "      <th>delivery_date</th>\n",
       "    </tr>\n",
       "    <tr>\n",
       "      <th>ID</th>\n",
       "      <th></th>\n",
       "      <th></th>\n",
       "    </tr>\n",
       "  </thead>\n",
       "  <tbody>\n",
       "    <tr>\n",
       "      <th>1</th>\n",
       "      <td>5/24/98</td>\n",
       "      <td>2/5/99</td>\n",
       "    </tr>\n",
       "    <tr>\n",
       "      <th>2</th>\n",
       "      <td>4/22/92</td>\n",
       "      <td>3/6/98</td>\n",
       "    </tr>\n",
       "    <tr>\n",
       "      <th>4</th>\n",
       "      <td>2/10/91</td>\n",
       "      <td>8/26/92</td>\n",
       "    </tr>\n",
       "    <tr>\n",
       "      <th>5</th>\n",
       "      <td>7/21/92</td>\n",
       "      <td>11/20/97</td>\n",
       "    </tr>\n",
       "    <tr>\n",
       "      <th>7</th>\n",
       "      <td>9/2/93</td>\n",
       "      <td>6/10/98</td>\n",
       "    </tr>\n",
       "    <tr>\n",
       "      <th>...</th>\n",
       "      <td>...</td>\n",
       "      <td>...</td>\n",
       "    </tr>\n",
       "    <tr>\n",
       "      <th>990</th>\n",
       "      <td>6/24/91</td>\n",
       "      <td>2/2/96</td>\n",
       "    </tr>\n",
       "    <tr>\n",
       "      <th>991</th>\n",
       "      <td>9/9/91</td>\n",
       "      <td>3/30/98</td>\n",
       "    </tr>\n",
       "    <tr>\n",
       "      <th>993</th>\n",
       "      <td>11/16/90</td>\n",
       "      <td>4/27/98</td>\n",
       "    </tr>\n",
       "    <tr>\n",
       "      <th>994</th>\n",
       "      <td>6/3/93</td>\n",
       "      <td>6/13/93</td>\n",
       "    </tr>\n",
       "    <tr>\n",
       "      <th>997</th>\n",
       "      <td>1/4/90</td>\n",
       "      <td>10/3/91</td>\n",
       "    </tr>\n",
       "  </tbody>\n",
       "</table>\n",
       "<p>501 rows × 2 columns</p>\n",
       "</div>"
      ],
      "text/plain": [
       "    order_date delivery_date\n",
       "ID                          \n",
       "1      5/24/98        2/5/99\n",
       "2      4/22/92        3/6/98\n",
       "4      2/10/91       8/26/92\n",
       "5      7/21/92      11/20/97\n",
       "7       9/2/93       6/10/98\n",
       "..         ...           ...\n",
       "990    6/24/91        2/2/96\n",
       "991     9/9/91       3/30/98\n",
       "993   11/16/90       4/27/98\n",
       "994     6/3/93       6/13/93\n",
       "997     1/4/90       10/3/91\n",
       "\n",
       "[501 rows x 2 columns]"
      ]
     },
     "execution_count": 116,
     "metadata": {},
     "output_type": "execute_result"
    }
   ],
   "source": [
    "pd.read_csv(\"ecommerce.csv\",index_col=\"ID\")"
   ]
  },
  {
   "cell_type": "code",
   "execution_count": 117,
   "metadata": {},
   "outputs": [
    {
     "name": "stdout",
     "output_type": "stream",
     "text": [
      "<class 'pandas.core.frame.DataFrame'>\n",
      "Int64Index: 501 entries, 1 to 997\n",
      "Data columns (total 2 columns):\n",
      " #   Column         Non-Null Count  Dtype \n",
      "---  ------         --------------  ----- \n",
      " 0   order_date     501 non-null    object\n",
      " 1   delivery_date  501 non-null    object\n",
      "dtypes: object(2)\n",
      "memory usage: 11.7+ KB\n"
     ]
    }
   ],
   "source": [
    "pd.read_csv(\"ecommerce.csv\",index_col=\"ID\").info()\n",
    "#order date and delivery date column are strings\n",
    "#we can also tell this by | rather than dashes-"
   ]
  },
  {
   "cell_type": "code",
   "execution_count": 118,
   "metadata": {},
   "outputs": [
    {
     "data": {
      "text/html": [
       "<div>\n",
       "<style scoped>\n",
       "    .dataframe tbody tr th:only-of-type {\n",
       "        vertical-align: middle;\n",
       "    }\n",
       "\n",
       "    .dataframe tbody tr th {\n",
       "        vertical-align: top;\n",
       "    }\n",
       "\n",
       "    .dataframe thead th {\n",
       "        text-align: right;\n",
       "    }\n",
       "</style>\n",
       "<table border=\"1\" class=\"dataframe\">\n",
       "  <thead>\n",
       "    <tr style=\"text-align: right;\">\n",
       "      <th></th>\n",
       "      <th>order_date</th>\n",
       "      <th>delivery_date</th>\n",
       "    </tr>\n",
       "    <tr>\n",
       "      <th>ID</th>\n",
       "      <th></th>\n",
       "      <th></th>\n",
       "    </tr>\n",
       "  </thead>\n",
       "  <tbody>\n",
       "    <tr>\n",
       "      <th>1</th>\n",
       "      <td>1998-05-24</td>\n",
       "      <td>1999-02-05</td>\n",
       "    </tr>\n",
       "    <tr>\n",
       "      <th>2</th>\n",
       "      <td>1992-04-22</td>\n",
       "      <td>1998-03-06</td>\n",
       "    </tr>\n",
       "    <tr>\n",
       "      <th>4</th>\n",
       "      <td>1991-02-10</td>\n",
       "      <td>1992-08-26</td>\n",
       "    </tr>\n",
       "    <tr>\n",
       "      <th>5</th>\n",
       "      <td>1992-07-21</td>\n",
       "      <td>1997-11-20</td>\n",
       "    </tr>\n",
       "    <tr>\n",
       "      <th>7</th>\n",
       "      <td>1993-09-02</td>\n",
       "      <td>1998-06-10</td>\n",
       "    </tr>\n",
       "    <tr>\n",
       "      <th>...</th>\n",
       "      <td>...</td>\n",
       "      <td>...</td>\n",
       "    </tr>\n",
       "    <tr>\n",
       "      <th>990</th>\n",
       "      <td>1991-06-24</td>\n",
       "      <td>1996-02-02</td>\n",
       "    </tr>\n",
       "    <tr>\n",
       "      <th>991</th>\n",
       "      <td>1991-09-09</td>\n",
       "      <td>1998-03-30</td>\n",
       "    </tr>\n",
       "    <tr>\n",
       "      <th>993</th>\n",
       "      <td>1990-11-16</td>\n",
       "      <td>1998-04-27</td>\n",
       "    </tr>\n",
       "    <tr>\n",
       "      <th>994</th>\n",
       "      <td>1993-06-03</td>\n",
       "      <td>1993-06-13</td>\n",
       "    </tr>\n",
       "    <tr>\n",
       "      <th>997</th>\n",
       "      <td>1990-01-04</td>\n",
       "      <td>1991-10-03</td>\n",
       "    </tr>\n",
       "  </tbody>\n",
       "</table>\n",
       "<p>501 rows × 2 columns</p>\n",
       "</div>"
      ],
      "text/plain": [
       "    order_date delivery_date\n",
       "ID                          \n",
       "1   1998-05-24    1999-02-05\n",
       "2   1992-04-22    1998-03-06\n",
       "4   1991-02-10    1992-08-26\n",
       "5   1992-07-21    1997-11-20\n",
       "7   1993-09-02    1998-06-10\n",
       "..         ...           ...\n",
       "990 1991-06-24    1996-02-02\n",
       "991 1991-09-09    1998-03-30\n",
       "993 1990-11-16    1998-04-27\n",
       "994 1993-06-03    1993-06-13\n",
       "997 1990-01-04    1991-10-03\n",
       "\n",
       "[501 rows x 2 columns]"
      ]
     },
     "execution_count": 118,
     "metadata": {},
     "output_type": "execute_result"
    }
   ],
   "source": [
    "pd.read_csv(\"ecommerce.csv\",index_col=\"ID\",parse_dates=[\"order_date\",\"delivery_date\"])"
   ]
  },
  {
   "cell_type": "code",
   "execution_count": 119,
   "metadata": {},
   "outputs": [],
   "source": [
    "shipping= pd.read_csv(\"ecommerce.csv\",index_col=\"ID\",parse_dates=[\"order_date\",\"delivery_date\"]) "
   ]
  },
  {
   "cell_type": "code",
   "execution_count": 120,
   "metadata": {},
   "outputs": [
    {
     "data": {
      "text/html": [
       "<div>\n",
       "<style scoped>\n",
       "    .dataframe tbody tr th:only-of-type {\n",
       "        vertical-align: middle;\n",
       "    }\n",
       "\n",
       "    .dataframe tbody tr th {\n",
       "        vertical-align: top;\n",
       "    }\n",
       "\n",
       "    .dataframe thead th {\n",
       "        text-align: right;\n",
       "    }\n",
       "</style>\n",
       "<table border=\"1\" class=\"dataframe\">\n",
       "  <thead>\n",
       "    <tr style=\"text-align: right;\">\n",
       "      <th></th>\n",
       "      <th>order_date</th>\n",
       "      <th>delivery_date</th>\n",
       "    </tr>\n",
       "    <tr>\n",
       "      <th>ID</th>\n",
       "      <th></th>\n",
       "      <th></th>\n",
       "    </tr>\n",
       "  </thead>\n",
       "  <tbody>\n",
       "    <tr>\n",
       "      <th>1</th>\n",
       "      <td>1998-05-24</td>\n",
       "      <td>1999-02-05</td>\n",
       "    </tr>\n",
       "    <tr>\n",
       "      <th>2</th>\n",
       "      <td>1992-04-22</td>\n",
       "      <td>1998-03-06</td>\n",
       "    </tr>\n",
       "    <tr>\n",
       "      <th>4</th>\n",
       "      <td>1991-02-10</td>\n",
       "      <td>1992-08-26</td>\n",
       "    </tr>\n",
       "  </tbody>\n",
       "</table>\n",
       "</div>"
      ],
      "text/plain": [
       "   order_date delivery_date\n",
       "ID                         \n",
       "1  1998-05-24    1999-02-05\n",
       "2  1992-04-22    1998-03-06\n",
       "4  1991-02-10    1992-08-26"
      ]
     },
     "execution_count": 120,
     "metadata": {},
     "output_type": "execute_result"
    }
   ],
   "source": [
    "shipping.head(3)"
   ]
  },
  {
   "cell_type": "code",
   "execution_count": 121,
   "metadata": {},
   "outputs": [
    {
     "data": {
      "text/plain": [
       "ID\n",
       "1     1999-02-05\n",
       "2     1998-03-06\n",
       "4     1992-08-26\n",
       "5     1997-11-20\n",
       "7     1998-06-10\n",
       "         ...    \n",
       "990   1996-02-02\n",
       "991   1998-03-30\n",
       "993   1998-04-27\n",
       "994   1993-06-13\n",
       "997   1991-10-03\n",
       "Name: delivery_date, Length: 501, dtype: datetime64[ns]"
      ]
     },
     "execution_count": 121,
     "metadata": {},
     "output_type": "execute_result"
    }
   ],
   "source": [
    "#lets say we want duration between them\n",
    "#we extract column that we want to extract from\n",
    "shipping[\"delivery_date\"]"
   ]
  },
  {
   "cell_type": "code",
   "execution_count": 122,
   "metadata": {},
   "outputs": [
    {
     "data": {
      "text/plain": [
       "ID\n",
       "1      257 days\n",
       "2     2144 days\n",
       "4      563 days\n",
       "5     1948 days\n",
       "7     1742 days\n",
       "         ...   \n",
       "990   1684 days\n",
       "991   2394 days\n",
       "993   2719 days\n",
       "994     10 days\n",
       "997    637 days\n",
       "Length: 501, dtype: timedelta64[ns]"
      ]
     },
     "execution_count": 122,
     "metadata": {},
     "output_type": "execute_result"
    }
   ],
   "source": [
    "shipping[\"delivery_date\"] - shipping[\"order_date\"]\n",
    "# we get series of pandas timedelta"
   ]
  },
  {
   "cell_type": "code",
   "execution_count": 123,
   "metadata": {},
   "outputs": [
    {
     "data": {
      "text/html": [
       "<div>\n",
       "<style scoped>\n",
       "    .dataframe tbody tr th:only-of-type {\n",
       "        vertical-align: middle;\n",
       "    }\n",
       "\n",
       "    .dataframe tbody tr th {\n",
       "        vertical-align: top;\n",
       "    }\n",
       "\n",
       "    .dataframe thead th {\n",
       "        text-align: right;\n",
       "    }\n",
       "</style>\n",
       "<table border=\"1\" class=\"dataframe\">\n",
       "  <thead>\n",
       "    <tr style=\"text-align: right;\">\n",
       "      <th></th>\n",
       "      <th>order_date</th>\n",
       "      <th>delivery_date</th>\n",
       "      <th>Delivery Time</th>\n",
       "    </tr>\n",
       "    <tr>\n",
       "      <th>ID</th>\n",
       "      <th></th>\n",
       "      <th></th>\n",
       "      <th></th>\n",
       "    </tr>\n",
       "  </thead>\n",
       "  <tbody>\n",
       "    <tr>\n",
       "      <th>1</th>\n",
       "      <td>1998-05-24</td>\n",
       "      <td>1999-02-05</td>\n",
       "      <td>257 days</td>\n",
       "    </tr>\n",
       "    <tr>\n",
       "      <th>2</th>\n",
       "      <td>1992-04-22</td>\n",
       "      <td>1998-03-06</td>\n",
       "      <td>2144 days</td>\n",
       "    </tr>\n",
       "    <tr>\n",
       "      <th>4</th>\n",
       "      <td>1991-02-10</td>\n",
       "      <td>1992-08-26</td>\n",
       "      <td>563 days</td>\n",
       "    </tr>\n",
       "  </tbody>\n",
       "</table>\n",
       "</div>"
      ],
      "text/plain": [
       "   order_date delivery_date Delivery Time\n",
       "ID                                       \n",
       "1  1998-05-24    1999-02-05      257 days\n",
       "2  1992-04-22    1998-03-06     2144 days\n",
       "4  1991-02-10    1992-08-26      563 days"
      ]
     },
     "execution_count": 123,
     "metadata": {},
     "output_type": "execute_result"
    }
   ],
   "source": [
    "shipping[\"Delivery Time\"]=shipping[\"delivery_date\"] - shipping[\"order_date\"]\n",
    "shipping.head(3)"
   ]
  },
  {
   "cell_type": "code",
   "execution_count": 124,
   "metadata": {},
   "outputs": [
    {
     "data": {
      "text/plain": [
       "ID\n",
       "1     1999-02-05\n",
       "2     1998-03-06\n",
       "4     1992-08-26\n",
       "5     1997-11-20\n",
       "7     1998-06-10\n",
       "         ...    \n",
       "990   1996-02-02\n",
       "991   1998-03-30\n",
       "993   1998-04-27\n",
       "994   1993-06-13\n",
       "997   1991-10-03\n",
       "Name: delivery_date, Length: 501, dtype: datetime64[ns]"
      ]
     },
     "execution_count": 124,
     "metadata": {},
     "output_type": "execute_result"
    }
   ],
   "source": [
    "#we can create new series by combining timestamp and timedelta columns\n",
    "#e.g if we want to find out what day in future it will be if delivery time took twice as long\n",
    "#we can timedeltas in our Delivery Time column to our Delivery_date column\n",
    "shipping[\"delivery_date\"]"
   ]
  },
  {
   "cell_type": "code",
   "execution_count": 125,
   "metadata": {},
   "outputs": [
    {
     "data": {
      "text/plain": [
       "ID\n",
       "1     1999-10-20\n",
       "2     2004-01-18\n",
       "4     1994-03-12\n",
       "5     2003-03-22\n",
       "7     2003-03-18\n",
       "         ...    \n",
       "990   2000-09-12\n",
       "991   2004-10-18\n",
       "993   2005-10-06\n",
       "994   1993-06-23\n",
       "997   1993-07-01\n",
       "Length: 501, dtype: datetime64[ns]"
      ]
     },
     "execution_count": 125,
     "metadata": {},
     "output_type": "execute_result"
    }
   ],
   "source": [
    "shipping[\"delivery_date\"]+shipping[\"Delivery Time\"]\n",
    "#we get datetime"
   ]
  },
  {
   "cell_type": "code",
   "execution_count": 126,
   "metadata": {},
   "outputs": [
    {
     "data": {
      "text/plain": [
       "ID\n",
       "1     1998-05-24\n",
       "2     1992-04-22\n",
       "4     1991-02-10\n",
       "5     1992-07-21\n",
       "7     1993-09-02\n",
       "         ...    \n",
       "990   1991-06-24\n",
       "991   1991-09-09\n",
       "993   1990-11-16\n",
       "994   1993-06-03\n",
       "997   1990-01-04\n",
       "Length: 501, dtype: datetime64[ns]"
      ]
     },
     "execution_count": 126,
     "metadata": {},
     "output_type": "execute_result"
    }
   ],
   "source": [
    "shipping[\"delivery_date\"]-shipping[\"Delivery Time\"]\n",
    "#we get order date"
   ]
  },
  {
   "cell_type": "code",
   "execution_count": 127,
   "metadata": {},
   "outputs": [],
   "source": [
    "shipping[\"Twice As Long\"]=shipping[\"delivery_date\"]+shipping[\"Delivery Time\"]"
   ]
  },
  {
   "cell_type": "code",
   "execution_count": 128,
   "metadata": {},
   "outputs": [
    {
     "data": {
      "text/html": [
       "<div>\n",
       "<style scoped>\n",
       "    .dataframe tbody tr th:only-of-type {\n",
       "        vertical-align: middle;\n",
       "    }\n",
       "\n",
       "    .dataframe tbody tr th {\n",
       "        vertical-align: top;\n",
       "    }\n",
       "\n",
       "    .dataframe thead th {\n",
       "        text-align: right;\n",
       "    }\n",
       "</style>\n",
       "<table border=\"1\" class=\"dataframe\">\n",
       "  <thead>\n",
       "    <tr style=\"text-align: right;\">\n",
       "      <th></th>\n",
       "      <th>order_date</th>\n",
       "      <th>delivery_date</th>\n",
       "      <th>Delivery Time</th>\n",
       "      <th>Twice As Long</th>\n",
       "    </tr>\n",
       "    <tr>\n",
       "      <th>ID</th>\n",
       "      <th></th>\n",
       "      <th></th>\n",
       "      <th></th>\n",
       "      <th></th>\n",
       "    </tr>\n",
       "  </thead>\n",
       "  <tbody>\n",
       "    <tr>\n",
       "      <th>1</th>\n",
       "      <td>1998-05-24</td>\n",
       "      <td>1999-02-05</td>\n",
       "      <td>257 days</td>\n",
       "      <td>1999-10-20</td>\n",
       "    </tr>\n",
       "    <tr>\n",
       "      <th>2</th>\n",
       "      <td>1992-04-22</td>\n",
       "      <td>1998-03-06</td>\n",
       "      <td>2144 days</td>\n",
       "      <td>2004-01-18</td>\n",
       "    </tr>\n",
       "    <tr>\n",
       "      <th>4</th>\n",
       "      <td>1991-02-10</td>\n",
       "      <td>1992-08-26</td>\n",
       "      <td>563 days</td>\n",
       "      <td>1994-03-12</td>\n",
       "    </tr>\n",
       "  </tbody>\n",
       "</table>\n",
       "</div>"
      ],
      "text/plain": [
       "   order_date delivery_date Delivery Time Twice As Long\n",
       "ID                                                     \n",
       "1  1998-05-24    1999-02-05      257 days    1999-10-20\n",
       "2  1992-04-22    1998-03-06     2144 days    2004-01-18\n",
       "4  1991-02-10    1992-08-26      563 days    1994-03-12"
      ]
     },
     "execution_count": 128,
     "metadata": {},
     "output_type": "execute_result"
    }
   ],
   "source": [
    "shipping.head(3)\n",
    "# 3 columns of datetimes, one of timedelta"
   ]
  },
  {
   "cell_type": "code",
   "execution_count": 129,
   "metadata": {},
   "outputs": [
    {
     "data": {
      "text/plain": [
       "order_date        datetime64[ns]\n",
       "delivery_date     datetime64[ns]\n",
       "Delivery Time    timedelta64[ns]\n",
       "Twice As Long     datetime64[ns]\n",
       "dtype: object"
      ]
     },
     "execution_count": 129,
     "metadata": {},
     "output_type": "execute_result"
    }
   ],
   "source": [
    "shipping.dtypes"
   ]
  },
  {
   "cell_type": "code",
   "execution_count": 130,
   "metadata": {},
   "outputs": [
    {
     "data": {
      "text/plain": [
       "ID\n",
       "1      257 days\n",
       "2     2144 days\n",
       "4      563 days\n",
       "5     1948 days\n",
       "7     1742 days\n",
       "         ...   \n",
       "990   1684 days\n",
       "991   2394 days\n",
       "993   2719 days\n",
       "994     10 days\n",
       "997    637 days\n",
       "Name: Delivery Time, Length: 501, dtype: timedelta64[ns]"
      ]
     },
     "execution_count": 130,
     "metadata": {},
     "output_type": "execute_result"
    }
   ],
   "source": [
    "#we can do all kind of operations e.g those that took more than one year to deliver\n",
    "shipping[\"Delivery Time\"]"
   ]
  },
  {
   "cell_type": "code",
   "execution_count": 131,
   "metadata": {},
   "outputs": [
    {
     "data": {
      "text/plain": [
       "ID\n",
       "1      False\n",
       "2       True\n",
       "4       True\n",
       "5       True\n",
       "7       True\n",
       "       ...  \n",
       "990     True\n",
       "991     True\n",
       "993     True\n",
       "994    False\n",
       "997     True\n",
       "Name: Delivery Time, Length: 501, dtype: bool"
      ]
     },
     "execution_count": 131,
     "metadata": {},
     "output_type": "execute_result"
    }
   ],
   "source": [
    "shipping[\"Delivery Time\"]>\"365 days\" \n",
    "#we get boolean series"
   ]
  },
  {
   "cell_type": "code",
   "execution_count": 132,
   "metadata": {},
   "outputs": [
    {
     "data": {
      "text/html": [
       "<div>\n",
       "<style scoped>\n",
       "    .dataframe tbody tr th:only-of-type {\n",
       "        vertical-align: middle;\n",
       "    }\n",
       "\n",
       "    .dataframe tbody tr th {\n",
       "        vertical-align: top;\n",
       "    }\n",
       "\n",
       "    .dataframe thead th {\n",
       "        text-align: right;\n",
       "    }\n",
       "</style>\n",
       "<table border=\"1\" class=\"dataframe\">\n",
       "  <thead>\n",
       "    <tr style=\"text-align: right;\">\n",
       "      <th></th>\n",
       "      <th>order_date</th>\n",
       "      <th>delivery_date</th>\n",
       "      <th>Delivery Time</th>\n",
       "      <th>Twice As Long</th>\n",
       "    </tr>\n",
       "    <tr>\n",
       "      <th>ID</th>\n",
       "      <th></th>\n",
       "      <th></th>\n",
       "      <th></th>\n",
       "      <th></th>\n",
       "    </tr>\n",
       "  </thead>\n",
       "  <tbody>\n",
       "    <tr>\n",
       "      <th>2</th>\n",
       "      <td>1992-04-22</td>\n",
       "      <td>1998-03-06</td>\n",
       "      <td>2144 days</td>\n",
       "      <td>2004-01-18</td>\n",
       "    </tr>\n",
       "    <tr>\n",
       "      <th>4</th>\n",
       "      <td>1991-02-10</td>\n",
       "      <td>1992-08-26</td>\n",
       "      <td>563 days</td>\n",
       "      <td>1994-03-12</td>\n",
       "    </tr>\n",
       "    <tr>\n",
       "      <th>5</th>\n",
       "      <td>1992-07-21</td>\n",
       "      <td>1997-11-20</td>\n",
       "      <td>1948 days</td>\n",
       "      <td>2003-03-22</td>\n",
       "    </tr>\n",
       "    <tr>\n",
       "      <th>7</th>\n",
       "      <td>1993-09-02</td>\n",
       "      <td>1998-06-10</td>\n",
       "      <td>1742 days</td>\n",
       "      <td>2003-03-18</td>\n",
       "    </tr>\n",
       "    <tr>\n",
       "      <th>9</th>\n",
       "      <td>1990-01-25</td>\n",
       "      <td>1994-10-02</td>\n",
       "      <td>1711 days</td>\n",
       "      <td>1999-06-09</td>\n",
       "    </tr>\n",
       "    <tr>\n",
       "      <th>...</th>\n",
       "      <td>...</td>\n",
       "      <td>...</td>\n",
       "      <td>...</td>\n",
       "      <td>...</td>\n",
       "    </tr>\n",
       "    <tr>\n",
       "      <th>986</th>\n",
       "      <td>1990-12-10</td>\n",
       "      <td>1992-12-16</td>\n",
       "      <td>737 days</td>\n",
       "      <td>1994-12-23</td>\n",
       "    </tr>\n",
       "    <tr>\n",
       "      <th>990</th>\n",
       "      <td>1991-06-24</td>\n",
       "      <td>1996-02-02</td>\n",
       "      <td>1684 days</td>\n",
       "      <td>2000-09-12</td>\n",
       "    </tr>\n",
       "    <tr>\n",
       "      <th>991</th>\n",
       "      <td>1991-09-09</td>\n",
       "      <td>1998-03-30</td>\n",
       "      <td>2394 days</td>\n",
       "      <td>2004-10-18</td>\n",
       "    </tr>\n",
       "    <tr>\n",
       "      <th>993</th>\n",
       "      <td>1990-11-16</td>\n",
       "      <td>1998-04-27</td>\n",
       "      <td>2719 days</td>\n",
       "      <td>2005-10-06</td>\n",
       "    </tr>\n",
       "    <tr>\n",
       "      <th>997</th>\n",
       "      <td>1990-01-04</td>\n",
       "      <td>1991-10-03</td>\n",
       "      <td>637 days</td>\n",
       "      <td>1993-07-01</td>\n",
       "    </tr>\n",
       "  </tbody>\n",
       "</table>\n",
       "<p>394 rows × 4 columns</p>\n",
       "</div>"
      ],
      "text/plain": [
       "    order_date delivery_date Delivery Time Twice As Long\n",
       "ID                                                      \n",
       "2   1992-04-22    1998-03-06     2144 days    2004-01-18\n",
       "4   1991-02-10    1992-08-26      563 days    1994-03-12\n",
       "5   1992-07-21    1997-11-20     1948 days    2003-03-22\n",
       "7   1993-09-02    1998-06-10     1742 days    2003-03-18\n",
       "9   1990-01-25    1994-10-02     1711 days    1999-06-09\n",
       "..         ...           ...           ...           ...\n",
       "986 1990-12-10    1992-12-16      737 days    1994-12-23\n",
       "990 1991-06-24    1996-02-02     1684 days    2000-09-12\n",
       "991 1991-09-09    1998-03-30     2394 days    2004-10-18\n",
       "993 1990-11-16    1998-04-27     2719 days    2005-10-06\n",
       "997 1990-01-04    1991-10-03      637 days    1993-07-01\n",
       "\n",
       "[394 rows x 4 columns]"
      ]
     },
     "execution_count": 132,
     "metadata": {},
     "output_type": "execute_result"
    }
   ],
   "source": [
    "mask=shipping[\"Delivery Time\"]>\"365 days\" \n",
    "shipping[mask]"
   ]
  },
  {
   "cell_type": "code",
   "execution_count": 133,
   "metadata": {},
   "outputs": [
    {
     "data": {
      "text/html": [
       "<div>\n",
       "<style scoped>\n",
       "    .dataframe tbody tr th:only-of-type {\n",
       "        vertical-align: middle;\n",
       "    }\n",
       "\n",
       "    .dataframe tbody tr th {\n",
       "        vertical-align: top;\n",
       "    }\n",
       "\n",
       "    .dataframe thead th {\n",
       "        text-align: right;\n",
       "    }\n",
       "</style>\n",
       "<table border=\"1\" class=\"dataframe\">\n",
       "  <thead>\n",
       "    <tr style=\"text-align: right;\">\n",
       "      <th></th>\n",
       "      <th>order_date</th>\n",
       "      <th>delivery_date</th>\n",
       "      <th>Delivery Time</th>\n",
       "      <th>Twice As Long</th>\n",
       "    </tr>\n",
       "    <tr>\n",
       "      <th>ID</th>\n",
       "      <th></th>\n",
       "      <th></th>\n",
       "      <th></th>\n",
       "      <th></th>\n",
       "    </tr>\n",
       "  </thead>\n",
       "  <tbody>\n",
       "    <tr>\n",
       "      <th>2</th>\n",
       "      <td>1992-04-22</td>\n",
       "      <td>1998-03-06</td>\n",
       "      <td>2144 days</td>\n",
       "      <td>2004-01-18</td>\n",
       "    </tr>\n",
       "    <tr>\n",
       "      <th>10</th>\n",
       "      <td>1992-02-23</td>\n",
       "      <td>1998-12-30</td>\n",
       "      <td>2502 days</td>\n",
       "      <td>2005-11-05</td>\n",
       "    </tr>\n",
       "    <tr>\n",
       "      <th>20</th>\n",
       "      <td>1992-10-17</td>\n",
       "      <td>1998-10-06</td>\n",
       "      <td>2180 days</td>\n",
       "      <td>2004-09-24</td>\n",
       "    </tr>\n",
       "    <tr>\n",
       "      <th>23</th>\n",
       "      <td>1992-05-30</td>\n",
       "      <td>1999-08-15</td>\n",
       "      <td>2633 days</td>\n",
       "      <td>2006-10-30</td>\n",
       "    </tr>\n",
       "    <tr>\n",
       "      <th>32</th>\n",
       "      <td>1990-01-20</td>\n",
       "      <td>1998-07-24</td>\n",
       "      <td>3107 days</td>\n",
       "      <td>2007-01-25</td>\n",
       "    </tr>\n",
       "    <tr>\n",
       "      <th>...</th>\n",
       "      <td>...</td>\n",
       "      <td>...</td>\n",
       "      <td>...</td>\n",
       "      <td>...</td>\n",
       "    </tr>\n",
       "    <tr>\n",
       "      <th>958</th>\n",
       "      <td>1990-04-26</td>\n",
       "      <td>1997-06-29</td>\n",
       "      <td>2621 days</td>\n",
       "      <td>2004-09-01</td>\n",
       "    </tr>\n",
       "    <tr>\n",
       "      <th>972</th>\n",
       "      <td>1990-02-07</td>\n",
       "      <td>1995-11-05</td>\n",
       "      <td>2097 days</td>\n",
       "      <td>2001-08-02</td>\n",
       "    </tr>\n",
       "    <tr>\n",
       "      <th>984</th>\n",
       "      <td>1991-07-25</td>\n",
       "      <td>1999-02-09</td>\n",
       "      <td>2756 days</td>\n",
       "      <td>2006-08-27</td>\n",
       "    </tr>\n",
       "    <tr>\n",
       "      <th>991</th>\n",
       "      <td>1991-09-09</td>\n",
       "      <td>1998-03-30</td>\n",
       "      <td>2394 days</td>\n",
       "      <td>2004-10-18</td>\n",
       "    </tr>\n",
       "    <tr>\n",
       "      <th>993</th>\n",
       "      <td>1990-11-16</td>\n",
       "      <td>1998-04-27</td>\n",
       "      <td>2719 days</td>\n",
       "      <td>2005-10-06</td>\n",
       "    </tr>\n",
       "  </tbody>\n",
       "</table>\n",
       "<p>113 rows × 4 columns</p>\n",
       "</div>"
      ],
      "text/plain": [
       "    order_date delivery_date Delivery Time Twice As Long\n",
       "ID                                                      \n",
       "2   1992-04-22    1998-03-06     2144 days    2004-01-18\n",
       "10  1992-02-23    1998-12-30     2502 days    2005-11-05\n",
       "20  1992-10-17    1998-10-06     2180 days    2004-09-24\n",
       "23  1992-05-30    1999-08-15     2633 days    2006-10-30\n",
       "32  1990-01-20    1998-07-24     3107 days    2007-01-25\n",
       "..         ...           ...           ...           ...\n",
       "958 1990-04-26    1997-06-29     2621 days    2004-09-01\n",
       "972 1990-02-07    1995-11-05     2097 days    2001-08-02\n",
       "984 1991-07-25    1999-02-09     2756 days    2006-08-27\n",
       "991 1991-09-09    1998-03-30     2394 days    2004-10-18\n",
       "993 1990-11-16    1998-04-27     2719 days    2005-10-06\n",
       "\n",
       "[113 rows x 4 columns]"
      ]
     },
     "execution_count": 133,
     "metadata": {},
     "output_type": "execute_result"
    }
   ],
   "source": [
    "mask=shipping[\"Delivery Time\"]>\"2000 days\" \n",
    "shipping[mask]"
   ]
  },
  {
   "cell_type": "code",
   "execution_count": 134,
   "metadata": {
    "scrolled": true
   },
   "outputs": [
    {
     "data": {
      "text/html": [
       "<div>\n",
       "<style scoped>\n",
       "    .dataframe tbody tr th:only-of-type {\n",
       "        vertical-align: middle;\n",
       "    }\n",
       "\n",
       "    .dataframe tbody tr th {\n",
       "        vertical-align: top;\n",
       "    }\n",
       "\n",
       "    .dataframe thead th {\n",
       "        text-align: right;\n",
       "    }\n",
       "</style>\n",
       "<table border=\"1\" class=\"dataframe\">\n",
       "  <thead>\n",
       "    <tr style=\"text-align: right;\">\n",
       "      <th></th>\n",
       "      <th>order_date</th>\n",
       "      <th>delivery_date</th>\n",
       "      <th>Delivery Time</th>\n",
       "      <th>Twice As Long</th>\n",
       "    </tr>\n",
       "    <tr>\n",
       "      <th>ID</th>\n",
       "      <th></th>\n",
       "      <th></th>\n",
       "      <th></th>\n",
       "      <th></th>\n",
       "    </tr>\n",
       "  </thead>\n",
       "  <tbody>\n",
       "    <tr>\n",
       "      <th>32</th>\n",
       "      <td>1990-01-20</td>\n",
       "      <td>1998-07-24</td>\n",
       "      <td>3107 days</td>\n",
       "      <td>2007-01-25</td>\n",
       "    </tr>\n",
       "    <tr>\n",
       "      <th>130</th>\n",
       "      <td>1990-04-02</td>\n",
       "      <td>1999-08-16</td>\n",
       "      <td>3423 days</td>\n",
       "      <td>2008-12-29</td>\n",
       "    </tr>\n",
       "    <tr>\n",
       "      <th>151</th>\n",
       "      <td>1991-01-29</td>\n",
       "      <td>1999-08-05</td>\n",
       "      <td>3110 days</td>\n",
       "      <td>2008-02-09</td>\n",
       "    </tr>\n",
       "    <tr>\n",
       "      <th>229</th>\n",
       "      <td>1990-04-13</td>\n",
       "      <td>1998-11-17</td>\n",
       "      <td>3140 days</td>\n",
       "      <td>2007-06-23</td>\n",
       "    </tr>\n",
       "    <tr>\n",
       "      <th>314</th>\n",
       "      <td>1990-03-07</td>\n",
       "      <td>1999-12-25</td>\n",
       "      <td>3580 days</td>\n",
       "      <td>2009-10-13</td>\n",
       "    </tr>\n",
       "    <tr>\n",
       "      <th>331</th>\n",
       "      <td>1990-09-18</td>\n",
       "      <td>1999-12-19</td>\n",
       "      <td>3379 days</td>\n",
       "      <td>2009-03-20</td>\n",
       "    </tr>\n",
       "    <tr>\n",
       "      <th>348</th>\n",
       "      <td>1990-02-27</td>\n",
       "      <td>1999-01-04</td>\n",
       "      <td>3233 days</td>\n",
       "      <td>2007-11-11</td>\n",
       "    </tr>\n",
       "    <tr>\n",
       "      <th>392</th>\n",
       "      <td>1990-12-24</td>\n",
       "      <td>1999-12-04</td>\n",
       "      <td>3267 days</td>\n",
       "      <td>2008-11-13</td>\n",
       "    </tr>\n",
       "    <tr>\n",
       "      <th>590</th>\n",
       "      <td>1990-03-25</td>\n",
       "      <td>1998-12-20</td>\n",
       "      <td>3192 days</td>\n",
       "      <td>2007-09-16</td>\n",
       "    </tr>\n",
       "    <tr>\n",
       "      <th>634</th>\n",
       "      <td>1991-04-04</td>\n",
       "      <td>1999-07-21</td>\n",
       "      <td>3030 days</td>\n",
       "      <td>2007-11-06</td>\n",
       "    </tr>\n",
       "    <tr>\n",
       "      <th>674</th>\n",
       "      <td>1990-03-16</td>\n",
       "      <td>1998-12-28</td>\n",
       "      <td>3209 days</td>\n",
       "      <td>2007-10-11</td>\n",
       "    </tr>\n",
       "    <tr>\n",
       "      <th>760</th>\n",
       "      <td>1990-09-16</td>\n",
       "      <td>1998-12-06</td>\n",
       "      <td>3003 days</td>\n",
       "      <td>2007-02-25</td>\n",
       "    </tr>\n",
       "    <tr>\n",
       "      <th>764</th>\n",
       "      <td>1990-09-19</td>\n",
       "      <td>1999-09-16</td>\n",
       "      <td>3284 days</td>\n",
       "      <td>2008-09-12</td>\n",
       "    </tr>\n",
       "    <tr>\n",
       "      <th>786</th>\n",
       "      <td>1990-10-26</td>\n",
       "      <td>1999-05-10</td>\n",
       "      <td>3118 days</td>\n",
       "      <td>2007-11-22</td>\n",
       "    </tr>\n",
       "    <tr>\n",
       "      <th>884</th>\n",
       "      <td>1990-01-20</td>\n",
       "      <td>1999-11-12</td>\n",
       "      <td>3583 days</td>\n",
       "      <td>2009-09-03</td>\n",
       "    </tr>\n",
       "    <tr>\n",
       "      <th>902</th>\n",
       "      <td>1991-07-03</td>\n",
       "      <td>1999-11-10</td>\n",
       "      <td>3052 days</td>\n",
       "      <td>2008-03-19</td>\n",
       "    </tr>\n",
       "    <tr>\n",
       "      <th>904</th>\n",
       "      <td>1990-02-13</td>\n",
       "      <td>1999-11-15</td>\n",
       "      <td>3562 days</td>\n",
       "      <td>2009-08-16</td>\n",
       "    </tr>\n",
       "    <tr>\n",
       "      <th>943</th>\n",
       "      <td>1991-01-30</td>\n",
       "      <td>1999-12-02</td>\n",
       "      <td>3228 days</td>\n",
       "      <td>2008-10-03</td>\n",
       "    </tr>\n",
       "  </tbody>\n",
       "</table>\n",
       "</div>"
      ],
      "text/plain": [
       "    order_date delivery_date Delivery Time Twice As Long\n",
       "ID                                                      \n",
       "32  1990-01-20    1998-07-24     3107 days    2007-01-25\n",
       "130 1990-04-02    1999-08-16     3423 days    2008-12-29\n",
       "151 1991-01-29    1999-08-05     3110 days    2008-02-09\n",
       "229 1990-04-13    1998-11-17     3140 days    2007-06-23\n",
       "314 1990-03-07    1999-12-25     3580 days    2009-10-13\n",
       "331 1990-09-18    1999-12-19     3379 days    2009-03-20\n",
       "348 1990-02-27    1999-01-04     3233 days    2007-11-11\n",
       "392 1990-12-24    1999-12-04     3267 days    2008-11-13\n",
       "590 1990-03-25    1998-12-20     3192 days    2007-09-16\n",
       "634 1991-04-04    1999-07-21     3030 days    2007-11-06\n",
       "674 1990-03-16    1998-12-28     3209 days    2007-10-11\n",
       "760 1990-09-16    1998-12-06     3003 days    2007-02-25\n",
       "764 1990-09-19    1999-09-16     3284 days    2008-09-12\n",
       "786 1990-10-26    1999-05-10     3118 days    2007-11-22\n",
       "884 1990-01-20    1999-11-12     3583 days    2009-09-03\n",
       "902 1991-07-03    1999-11-10     3052 days    2008-03-19\n",
       "904 1990-02-13    1999-11-15     3562 days    2009-08-16\n",
       "943 1991-01-30    1999-12-02     3228 days    2008-10-03"
      ]
     },
     "execution_count": 134,
     "metadata": {},
     "output_type": "execute_result"
    }
   ],
   "source": [
    "mask=shipping[\"Delivery Time\"]>\"3000 days\" \n",
    "shipping[mask]"
   ]
  },
  {
   "cell_type": "code",
   "execution_count": 135,
   "metadata": {},
   "outputs": [
    {
     "data": {
      "text/html": [
       "<div>\n",
       "<style scoped>\n",
       "    .dataframe tbody tr th:only-of-type {\n",
       "        vertical-align: middle;\n",
       "    }\n",
       "\n",
       "    .dataframe tbody tr th {\n",
       "        vertical-align: top;\n",
       "    }\n",
       "\n",
       "    .dataframe thead th {\n",
       "        text-align: right;\n",
       "    }\n",
       "</style>\n",
       "<table border=\"1\" class=\"dataframe\">\n",
       "  <thead>\n",
       "    <tr style=\"text-align: right;\">\n",
       "      <th></th>\n",
       "      <th>order_date</th>\n",
       "      <th>delivery_date</th>\n",
       "      <th>Delivery Time</th>\n",
       "      <th>Twice As Long</th>\n",
       "    </tr>\n",
       "    <tr>\n",
       "      <th>ID</th>\n",
       "      <th></th>\n",
       "      <th></th>\n",
       "      <th></th>\n",
       "      <th></th>\n",
       "    </tr>\n",
       "  </thead>\n",
       "  <tbody>\n",
       "    <tr>\n",
       "      <th>130</th>\n",
       "      <td>1990-04-02</td>\n",
       "      <td>1999-08-16</td>\n",
       "      <td>3423 days</td>\n",
       "      <td>2008-12-29</td>\n",
       "    </tr>\n",
       "  </tbody>\n",
       "</table>\n",
       "</div>"
      ],
      "text/plain": [
       "    order_date delivery_date Delivery Time Twice As Long\n",
       "ID                                                      \n",
       "130 1990-04-02    1999-08-16     3423 days    2008-12-29"
      ]
     },
     "execution_count": 135,
     "metadata": {},
     "output_type": "execute_result"
    }
   ],
   "source": [
    "mask=shipping[\"Delivery Time\"]==\"3423 days\" \n",
    "shipping[mask]"
   ]
  },
  {
   "cell_type": "code",
   "execution_count": 136,
   "metadata": {},
   "outputs": [
    {
     "data": {
      "text/plain": [
       "Timedelta('3583 days 00:00:00')"
      ]
     },
     "execution_count": 136,
     "metadata": {},
     "output_type": "execute_result"
    }
   ],
   "source": [
    "#we can also do on our timedelta column mix and man function\n",
    "shipping[\"Delivery Time\"].max()"
   ]
  },
  {
   "cell_type": "code",
   "execution_count": 139,
   "metadata": {},
   "outputs": [
    {
     "data": {
      "text/plain": [
       "Timedelta('8 days 00:00:00')"
      ]
     },
     "execution_count": 139,
     "metadata": {},
     "output_type": "execute_result"
    }
   ],
   "source": [
    "shipping[\"Delivery Time\"].min()\n",
    "#shortest shipping time"
   ]
  },
  {
   "cell_type": "code",
   "execution_count": null,
   "metadata": {},
   "outputs": [],
   "source": []
  },
  {
   "cell_type": "code",
   "execution_count": null,
   "metadata": {},
   "outputs": [],
   "source": []
  },
  {
   "cell_type": "code",
   "execution_count": null,
   "metadata": {},
   "outputs": [],
   "source": []
  },
  {
   "cell_type": "code",
   "execution_count": null,
   "metadata": {},
   "outputs": [],
   "source": []
  },
  {
   "cell_type": "code",
   "execution_count": null,
   "metadata": {},
   "outputs": [],
   "source": []
  },
  {
   "cell_type": "code",
   "execution_count": null,
   "metadata": {},
   "outputs": [],
   "source": []
  },
  {
   "cell_type": "code",
   "execution_count": null,
   "metadata": {},
   "outputs": [],
   "source": []
  },
  {
   "cell_type": "code",
   "execution_count": null,
   "metadata": {},
   "outputs": [],
   "source": []
  },
  {
   "cell_type": "code",
   "execution_count": null,
   "metadata": {},
   "outputs": [],
   "source": []
  },
  {
   "cell_type": "code",
   "execution_count": null,
   "metadata": {},
   "outputs": [],
   "source": []
  },
  {
   "cell_type": "code",
   "execution_count": null,
   "metadata": {},
   "outputs": [],
   "source": []
  },
  {
   "cell_type": "code",
   "execution_count": null,
   "metadata": {},
   "outputs": [],
   "source": []
  }
 ],
 "metadata": {
  "kernelspec": {
   "display_name": "Python 3",
   "language": "python",
   "name": "python3"
  },
  "language_info": {
   "codemirror_mode": {
    "name": "ipython",
    "version": 3
   },
   "file_extension": ".py",
   "mimetype": "text/x-python",
   "name": "python",
   "nbconvert_exporter": "python",
   "pygments_lexer": "ipython3",
   "version": "3.8.5"
  }
 },
 "nbformat": 4,
 "nbformat_minor": 4
}
